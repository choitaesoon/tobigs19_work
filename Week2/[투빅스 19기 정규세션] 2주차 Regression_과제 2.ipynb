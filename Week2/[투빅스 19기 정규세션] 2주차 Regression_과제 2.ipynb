{
 "cells": [
  {
   "cell_type": "markdown",
   "metadata": {
    "id": "oYVqHpHghxi1"
   },
   "source": [
    "# [과제 2] 회귀분석\n",
    "### - Ch 1, Ch 2를 토대로 자유롭게 회귀분석과 회귀진단을 진행해주세요.\n",
    "### - 주석으로 설명 및 근거 자세하게 달아주시면 감사하겠습니다. :)"
   ]
  },
  {
   "cell_type": "code",
   "execution_count": 124,
   "metadata": {
    "id": "F0T3iPmPhxi_"
   },
   "outputs": [],
   "source": [
    "%matplotlib inline \n",
    "\n",
    "import pandas as pd\n",
    "import numpy as np\n",
    "import matplotlib.pyplot as plt\n",
    "import seaborn as sns\n",
    "\n",
    "import warnings\n",
    "warnings.filterwarnings(action='ignore')\n",
    "\n",
    "import os\n",
    "os.chdir('C:/Users/cts08/Tobigs19_work')\n",
    "\n",
    "\n",
    "plt.rc('font', family='Malgun Gothic')\n",
    "plt.rcParams['axes.unicode_minus'] = False"
   ]
  },
  {
   "cell_type": "markdown",
   "metadata": {
    "id": "P0uNO4d5hxjA"
   },
   "source": [
    "# Data Set Description(변수설명)"
   ]
  },
  {
   "cell_type": "markdown",
   "metadata": {
    "id": "3-xhqe55hxjB"
   },
   "source": [
    "데이터 출처 : https://www.kaggle.com/avikasliwal/used-cars-price-prediction "
   ]
  },
  {
   "cell_type": "markdown",
   "metadata": {
    "id": "NL9G4b7-hxjB"
   },
   "source": [
    "< y > (반응변수)\n",
    "* **Price** : The price of the used car in INR Lakhs.\n",
    "\n",
    "\n",
    "\n",
    "< X > (설명변수) - unnamed 열 제외\n",
    "* Name : The brand and model of the car\n",
    "* Location : The location in which the car is being sold or is available for purchase.\n",
    "* Year : The year or edition of the model.\n",
    "* Kilometers_Driven : The total kilometres driven in the car by the previous owner(s) in KM.\n",
    "* Fuel_Type : The type of fuel used by the car. (Petrol, Diesel, Electric, CNG, LPG)\n",
    "* Transmission : The type of transmission used by the car. (Automatic / Manual)\n",
    "* Owner_Type : Whether the ownership is Firsthand, Second hand or other.\n",
    "* Mileage : The standard mileage offered by the car company in kmpl or km/kg\n",
    "* Engine : The displacement volume of the engine in CC.\n",
    "* Power : The maximum power of the engine in bhp.\n",
    "* Seats : The number of seats in the car.\n",
    "* New_Price : The price of a new car of the same model."
   ]
  },
  {
   "cell_type": "code",
   "execution_count": 125,
   "metadata": {
    "colab": {
     "base_uri": "https://localhost:8080/",
     "height": 407
    },
    "id": "4erq13F3hxjC",
    "outputId": "9d870503-1f14-40ab-fb6c-510abcdf231d"
   },
   "outputs": [
    {
     "data": {
      "text/html": [
       "<div>\n",
       "<style scoped>\n",
       "    .dataframe tbody tr th:only-of-type {\n",
       "        vertical-align: middle;\n",
       "    }\n",
       "\n",
       "    .dataframe tbody tr th {\n",
       "        vertical-align: top;\n",
       "    }\n",
       "\n",
       "    .dataframe thead th {\n",
       "        text-align: right;\n",
       "    }\n",
       "</style>\n",
       "<table border=\"1\" class=\"dataframe\">\n",
       "  <thead>\n",
       "    <tr style=\"text-align: right;\">\n",
       "      <th></th>\n",
       "      <th>Unnamed: 0</th>\n",
       "      <th>Name</th>\n",
       "      <th>Location</th>\n",
       "      <th>Year</th>\n",
       "      <th>Kilometers_Driven</th>\n",
       "      <th>Fuel_Type</th>\n",
       "      <th>Transmission</th>\n",
       "      <th>Owner_Type</th>\n",
       "      <th>Mileage</th>\n",
       "      <th>Engine</th>\n",
       "      <th>Power</th>\n",
       "      <th>Seats</th>\n",
       "      <th>New_Price</th>\n",
       "      <th>Price</th>\n",
       "    </tr>\n",
       "  </thead>\n",
       "  <tbody>\n",
       "    <tr>\n",
       "      <th>0</th>\n",
       "      <td>0</td>\n",
       "      <td>Maruti Wagon R LXI CNG</td>\n",
       "      <td>Mumbai</td>\n",
       "      <td>2010</td>\n",
       "      <td>72000</td>\n",
       "      <td>CNG</td>\n",
       "      <td>Manual</td>\n",
       "      <td>First</td>\n",
       "      <td>26.6 km/kg</td>\n",
       "      <td>998 CC</td>\n",
       "      <td>58.16 bhp</td>\n",
       "      <td>5.0</td>\n",
       "      <td>NaN</td>\n",
       "      <td>1.75</td>\n",
       "    </tr>\n",
       "    <tr>\n",
       "      <th>1</th>\n",
       "      <td>1</td>\n",
       "      <td>Hyundai Creta 1.6 CRDi SX Option</td>\n",
       "      <td>Pune</td>\n",
       "      <td>2015</td>\n",
       "      <td>41000</td>\n",
       "      <td>Diesel</td>\n",
       "      <td>Manual</td>\n",
       "      <td>First</td>\n",
       "      <td>19.67 kmpl</td>\n",
       "      <td>1582 CC</td>\n",
       "      <td>126.2 bhp</td>\n",
       "      <td>5.0</td>\n",
       "      <td>NaN</td>\n",
       "      <td>12.50</td>\n",
       "    </tr>\n",
       "    <tr>\n",
       "      <th>2</th>\n",
       "      <td>2</td>\n",
       "      <td>Honda Jazz V</td>\n",
       "      <td>Chennai</td>\n",
       "      <td>2011</td>\n",
       "      <td>46000</td>\n",
       "      <td>Petrol</td>\n",
       "      <td>Manual</td>\n",
       "      <td>First</td>\n",
       "      <td>18.2 kmpl</td>\n",
       "      <td>1199 CC</td>\n",
       "      <td>88.7 bhp</td>\n",
       "      <td>5.0</td>\n",
       "      <td>8.61 Lakh</td>\n",
       "      <td>4.50</td>\n",
       "    </tr>\n",
       "    <tr>\n",
       "      <th>3</th>\n",
       "      <td>3</td>\n",
       "      <td>Maruti Ertiga VDI</td>\n",
       "      <td>Chennai</td>\n",
       "      <td>2012</td>\n",
       "      <td>87000</td>\n",
       "      <td>Diesel</td>\n",
       "      <td>Manual</td>\n",
       "      <td>First</td>\n",
       "      <td>20.77 kmpl</td>\n",
       "      <td>1248 CC</td>\n",
       "      <td>88.76 bhp</td>\n",
       "      <td>7.0</td>\n",
       "      <td>NaN</td>\n",
       "      <td>6.00</td>\n",
       "    </tr>\n",
       "    <tr>\n",
       "      <th>4</th>\n",
       "      <td>4</td>\n",
       "      <td>Audi A4 New 2.0 TDI Multitronic</td>\n",
       "      <td>Coimbatore</td>\n",
       "      <td>2013</td>\n",
       "      <td>40670</td>\n",
       "      <td>Diesel</td>\n",
       "      <td>Automatic</td>\n",
       "      <td>Second</td>\n",
       "      <td>15.2 kmpl</td>\n",
       "      <td>1968 CC</td>\n",
       "      <td>140.8 bhp</td>\n",
       "      <td>5.0</td>\n",
       "      <td>NaN</td>\n",
       "      <td>17.74</td>\n",
       "    </tr>\n",
       "  </tbody>\n",
       "</table>\n",
       "</div>"
      ],
      "text/plain": [
       "   Unnamed: 0                              Name    Location  Year  \\\n",
       "0           0            Maruti Wagon R LXI CNG      Mumbai  2010   \n",
       "1           1  Hyundai Creta 1.6 CRDi SX Option        Pune  2015   \n",
       "2           2                      Honda Jazz V     Chennai  2011   \n",
       "3           3                 Maruti Ertiga VDI     Chennai  2012   \n",
       "4           4   Audi A4 New 2.0 TDI Multitronic  Coimbatore  2013   \n",
       "\n",
       "   Kilometers_Driven Fuel_Type Transmission Owner_Type     Mileage   Engine  \\\n",
       "0              72000       CNG       Manual      First  26.6 km/kg   998 CC   \n",
       "1              41000    Diesel       Manual      First  19.67 kmpl  1582 CC   \n",
       "2              46000    Petrol       Manual      First   18.2 kmpl  1199 CC   \n",
       "3              87000    Diesel       Manual      First  20.77 kmpl  1248 CC   \n",
       "4              40670    Diesel    Automatic     Second   15.2 kmpl  1968 CC   \n",
       "\n",
       "       Power  Seats  New_Price  Price  \n",
       "0  58.16 bhp    5.0        NaN   1.75  \n",
       "1  126.2 bhp    5.0        NaN  12.50  \n",
       "2   88.7 bhp    5.0  8.61 Lakh   4.50  \n",
       "3  88.76 bhp    7.0        NaN   6.00  \n",
       "4  140.8 bhp    5.0        NaN  17.74  "
      ]
     },
     "execution_count": 125,
     "metadata": {},
     "output_type": "execute_result"
    }
   ],
   "source": [
    "# Load Data \n",
    "data = pd.read_csv(\"assignment2_data.csv\")\n",
    "dat = data.copy()\n",
    "dat.head()"
   ]
  },
  {
   "cell_type": "code",
   "execution_count": 126,
   "metadata": {
    "id": "d-J1QpWR_WYh"
   },
   "outputs": [
    {
     "name": "stdout",
     "output_type": "stream",
     "text": [
      "<class 'pandas.core.frame.DataFrame'>\n",
      "RangeIndex: 6019 entries, 0 to 6018\n",
      "Data columns (total 14 columns):\n",
      " #   Column             Non-Null Count  Dtype  \n",
      "---  ------             --------------  -----  \n",
      " 0   Unnamed: 0         6019 non-null   int64  \n",
      " 1   Name               6019 non-null   object \n",
      " 2   Location           6019 non-null   object \n",
      " 3   Year               6019 non-null   int64  \n",
      " 4   Kilometers_Driven  6019 non-null   int64  \n",
      " 5   Fuel_Type          6019 non-null   object \n",
      " 6   Transmission       6019 non-null   object \n",
      " 7   Owner_Type         6019 non-null   object \n",
      " 8   Mileage            6017 non-null   object \n",
      " 9   Engine             5983 non-null   object \n",
      " 10  Power              5983 non-null   object \n",
      " 11  Seats              5977 non-null   float64\n",
      " 12  New_Price          824 non-null    object \n",
      " 13  Price              6019 non-null   float64\n",
      "dtypes: float64(2), int64(3), object(9)\n",
      "memory usage: 658.5+ KB\n"
     ]
    }
   ],
   "source": [
    "dat.info()"
   ]
  },
  {
   "cell_type": "code",
   "execution_count": 127,
   "metadata": {},
   "outputs": [
    {
     "data": {
      "text/html": [
       "<div>\n",
       "<style scoped>\n",
       "    .dataframe tbody tr th:only-of-type {\n",
       "        vertical-align: middle;\n",
       "    }\n",
       "\n",
       "    .dataframe tbody tr th {\n",
       "        vertical-align: top;\n",
       "    }\n",
       "\n",
       "    .dataframe thead th {\n",
       "        text-align: right;\n",
       "    }\n",
       "</style>\n",
       "<table border=\"1\" class=\"dataframe\">\n",
       "  <thead>\n",
       "    <tr style=\"text-align: right;\">\n",
       "      <th></th>\n",
       "      <th>Unnamed: 0</th>\n",
       "      <th>Year</th>\n",
       "      <th>Kilometers_Driven</th>\n",
       "      <th>Seats</th>\n",
       "      <th>Price</th>\n",
       "    </tr>\n",
       "  </thead>\n",
       "  <tbody>\n",
       "    <tr>\n",
       "      <th>count</th>\n",
       "      <td>6019.000000</td>\n",
       "      <td>6019.000000</td>\n",
       "      <td>6.019000e+03</td>\n",
       "      <td>5977.000000</td>\n",
       "      <td>6019.000000</td>\n",
       "    </tr>\n",
       "    <tr>\n",
       "      <th>mean</th>\n",
       "      <td>3009.000000</td>\n",
       "      <td>2013.358199</td>\n",
       "      <td>5.873838e+04</td>\n",
       "      <td>5.278735</td>\n",
       "      <td>9.479468</td>\n",
       "    </tr>\n",
       "    <tr>\n",
       "      <th>std</th>\n",
       "      <td>1737.679967</td>\n",
       "      <td>3.269742</td>\n",
       "      <td>9.126884e+04</td>\n",
       "      <td>0.808840</td>\n",
       "      <td>11.187917</td>\n",
       "    </tr>\n",
       "    <tr>\n",
       "      <th>min</th>\n",
       "      <td>0.000000</td>\n",
       "      <td>1998.000000</td>\n",
       "      <td>1.710000e+02</td>\n",
       "      <td>0.000000</td>\n",
       "      <td>0.440000</td>\n",
       "    </tr>\n",
       "    <tr>\n",
       "      <th>25%</th>\n",
       "      <td>1504.500000</td>\n",
       "      <td>2011.000000</td>\n",
       "      <td>3.400000e+04</td>\n",
       "      <td>5.000000</td>\n",
       "      <td>3.500000</td>\n",
       "    </tr>\n",
       "    <tr>\n",
       "      <th>50%</th>\n",
       "      <td>3009.000000</td>\n",
       "      <td>2014.000000</td>\n",
       "      <td>5.300000e+04</td>\n",
       "      <td>5.000000</td>\n",
       "      <td>5.640000</td>\n",
       "    </tr>\n",
       "    <tr>\n",
       "      <th>75%</th>\n",
       "      <td>4513.500000</td>\n",
       "      <td>2016.000000</td>\n",
       "      <td>7.300000e+04</td>\n",
       "      <td>5.000000</td>\n",
       "      <td>9.950000</td>\n",
       "    </tr>\n",
       "    <tr>\n",
       "      <th>max</th>\n",
       "      <td>6018.000000</td>\n",
       "      <td>2019.000000</td>\n",
       "      <td>6.500000e+06</td>\n",
       "      <td>10.000000</td>\n",
       "      <td>160.000000</td>\n",
       "    </tr>\n",
       "  </tbody>\n",
       "</table>\n",
       "</div>"
      ],
      "text/plain": [
       "        Unnamed: 0         Year  Kilometers_Driven        Seats        Price\n",
       "count  6019.000000  6019.000000       6.019000e+03  5977.000000  6019.000000\n",
       "mean   3009.000000  2013.358199       5.873838e+04     5.278735     9.479468\n",
       "std    1737.679967     3.269742       9.126884e+04     0.808840    11.187917\n",
       "min       0.000000  1998.000000       1.710000e+02     0.000000     0.440000\n",
       "25%    1504.500000  2011.000000       3.400000e+04     5.000000     3.500000\n",
       "50%    3009.000000  2014.000000       5.300000e+04     5.000000     5.640000\n",
       "75%    4513.500000  2016.000000       7.300000e+04     5.000000     9.950000\n",
       "max    6018.000000  2019.000000       6.500000e+06    10.000000   160.000000"
      ]
     },
     "execution_count": 127,
     "metadata": {},
     "output_type": "execute_result"
    }
   ],
   "source": [
    "dat.describe()"
   ]
  },
  {
   "cell_type": "markdown",
   "metadata": {},
   "source": [
    "먼저 데이터의 정보를 살펴보도록 한다.\n",
    "\n",
    "반응변수(price, 수치형 변수)에 대해 13개의 설명변수를 가진 위 데이터 셋은\n",
    "\n",
    "* 6019개의 데이터\n",
    "* 수치형 변수(Unnamed, Year, Kilometers_Driven, Seats) - 4개\n",
    "* 범주형 변수(Name, Location, Fuel_Type, Transmission, Owner_Type, Mileage, Engine, Power, New_Price) - 9개\n",
    "\n",
    "로 이루어져 있음을 확인할 수 있다.\n"
   ]
  },
  {
   "cell_type": "markdown",
   "metadata": {},
   "source": [
    "하지만 여기서 각 변수들을 자세히 살펴보면 기존의 type과는 다른 변수들을 확인할 수 있다.\n",
    "\n",
    "* Mileage(범주형 변수)\n",
    "* Engine(범주형 변수)\n",
    "* Power(범주형 변수)  \n",
    "범주형 변수로 type이 설정된 세개의 변수들은 각각 수치적으로 표시되어 있지만 단위에 의해 object로 분류되어 있다.  \n",
    "  \n",
    "\n",
    "* Year(수치형 변수)\n",
    "* Seats(수치형 변수)  \n",
    "수치형 변수로 type이 설정된 두개의 변수에 대해서는 각각의 변수가 연속된 수의 개념이 아닌 특정 값들의 집합으로 볼 수 있지만(ex. seats는 0,1,2,3...과 같이 특정 좌석 수들로 이루어진 집합) int값으로 분류되어 있다.\n",
    "  \n",
    "따라서 이 변수들은 적절한 변환을 통해 각각을 수치형과 범주형으로 바꿔주어야 한다."
   ]
  },
  {
   "cell_type": "markdown",
   "metadata": {},
   "source": [
    "# Data Preprocessing(데이터 전처리)"
   ]
  },
  {
   "cell_type": "markdown",
   "metadata": {},
   "source": [
    "## 1. 결측치 처리"
   ]
  },
  {
   "cell_type": "code",
   "execution_count": 128,
   "metadata": {},
   "outputs": [
    {
     "name": "stdout",
     "output_type": "stream",
     "text": [
      "<class 'pandas.core.frame.DataFrame'>\n",
      "RangeIndex: 6019 entries, 0 to 6018\n",
      "Data columns (total 14 columns):\n",
      " #   Column             Non-Null Count  Dtype  \n",
      "---  ------             --------------  -----  \n",
      " 0   Unnamed: 0         6019 non-null   int64  \n",
      " 1   Name               6019 non-null   object \n",
      " 2   Location           6019 non-null   object \n",
      " 3   Year               6019 non-null   int64  \n",
      " 4   Kilometers_Driven  6019 non-null   int64  \n",
      " 5   Fuel_Type          6019 non-null   object \n",
      " 6   Transmission       6019 non-null   object \n",
      " 7   Owner_Type         6019 non-null   object \n",
      " 8   Mileage            6017 non-null   object \n",
      " 9   Engine             5983 non-null   object \n",
      " 10  Power              5983 non-null   object \n",
      " 11  Seats              5977 non-null   float64\n",
      " 12  New_Price          824 non-null    object \n",
      " 13  Price              6019 non-null   float64\n",
      "dtypes: float64(2), int64(3), object(9)\n",
      "memory usage: 658.5+ KB\n"
     ]
    }
   ],
   "source": [
    "dat.info()"
   ]
  },
  {
   "cell_type": "code",
   "execution_count": 129,
   "metadata": {},
   "outputs": [
    {
     "data": {
      "text/plain": [
       "Unnamed: 0              0\n",
       "Name                    0\n",
       "Location                0\n",
       "Year                    0\n",
       "Kilometers_Driven       0\n",
       "Fuel_Type               0\n",
       "Transmission            0\n",
       "Owner_Type              0\n",
       "Mileage                 2\n",
       "Engine                 36\n",
       "Power                  36\n",
       "Seats                  42\n",
       "New_Price            5195\n",
       "Price                   0\n",
       "dtype: int64"
      ]
     },
     "execution_count": 129,
     "metadata": {},
     "output_type": "execute_result"
    }
   ],
   "source": [
    "dat.isnull().sum()"
   ]
  },
  {
   "cell_type": "markdown",
   "metadata": {},
   "source": [
    "* Mileage, Engine, Power, Seats, New_Price 총 5가지 변수에 대해 결측치가 존재함을 확인할 수 있었다. 따라서 이후 회귀분석을 위해 해당 결측치를 제거해준다.  \n",
    "* New_Price의 경우에는 824개의 값들을 제외한 나머지 5195개의 데이터에 대해 모두 NaN값이기 때문에 해당 열의 결측된 데이터가 너무 많으므로 모두 제거하기로 한다.\n",
    "* (Unnamed: 0)의 변수는 특별한 의미가 없는 번호에 해당하는 변수이고 데이터마다 각각 다른 값들을 가진 변수이므로 제거해준다."
   ]
  },
  {
   "cell_type": "code",
   "execution_count": 130,
   "metadata": {},
   "outputs": [
    {
     "data": {
      "text/html": [
       "<div>\n",
       "<style scoped>\n",
       "    .dataframe tbody tr th:only-of-type {\n",
       "        vertical-align: middle;\n",
       "    }\n",
       "\n",
       "    .dataframe tbody tr th {\n",
       "        vertical-align: top;\n",
       "    }\n",
       "\n",
       "    .dataframe thead th {\n",
       "        text-align: right;\n",
       "    }\n",
       "</style>\n",
       "<table border=\"1\" class=\"dataframe\">\n",
       "  <thead>\n",
       "    <tr style=\"text-align: right;\">\n",
       "      <th></th>\n",
       "      <th>Name</th>\n",
       "      <th>Location</th>\n",
       "      <th>Year</th>\n",
       "      <th>Kilometers_Driven</th>\n",
       "      <th>Fuel_Type</th>\n",
       "      <th>Transmission</th>\n",
       "      <th>Owner_Type</th>\n",
       "      <th>Mileage</th>\n",
       "      <th>Engine</th>\n",
       "      <th>Power</th>\n",
       "      <th>Seats</th>\n",
       "      <th>Price</th>\n",
       "    </tr>\n",
       "  </thead>\n",
       "  <tbody>\n",
       "    <tr>\n",
       "      <th>0</th>\n",
       "      <td>Maruti Wagon R LXI CNG</td>\n",
       "      <td>Mumbai</td>\n",
       "      <td>2010</td>\n",
       "      <td>72000</td>\n",
       "      <td>CNG</td>\n",
       "      <td>Manual</td>\n",
       "      <td>First</td>\n",
       "      <td>26.6 km/kg</td>\n",
       "      <td>998 CC</td>\n",
       "      <td>58.16 bhp</td>\n",
       "      <td>5.0</td>\n",
       "      <td>1.75</td>\n",
       "    </tr>\n",
       "    <tr>\n",
       "      <th>1</th>\n",
       "      <td>Hyundai Creta 1.6 CRDi SX Option</td>\n",
       "      <td>Pune</td>\n",
       "      <td>2015</td>\n",
       "      <td>41000</td>\n",
       "      <td>Diesel</td>\n",
       "      <td>Manual</td>\n",
       "      <td>First</td>\n",
       "      <td>19.67 kmpl</td>\n",
       "      <td>1582 CC</td>\n",
       "      <td>126.2 bhp</td>\n",
       "      <td>5.0</td>\n",
       "      <td>12.50</td>\n",
       "    </tr>\n",
       "    <tr>\n",
       "      <th>2</th>\n",
       "      <td>Honda Jazz V</td>\n",
       "      <td>Chennai</td>\n",
       "      <td>2011</td>\n",
       "      <td>46000</td>\n",
       "      <td>Petrol</td>\n",
       "      <td>Manual</td>\n",
       "      <td>First</td>\n",
       "      <td>18.2 kmpl</td>\n",
       "      <td>1199 CC</td>\n",
       "      <td>88.7 bhp</td>\n",
       "      <td>5.0</td>\n",
       "      <td>4.50</td>\n",
       "    </tr>\n",
       "    <tr>\n",
       "      <th>3</th>\n",
       "      <td>Maruti Ertiga VDI</td>\n",
       "      <td>Chennai</td>\n",
       "      <td>2012</td>\n",
       "      <td>87000</td>\n",
       "      <td>Diesel</td>\n",
       "      <td>Manual</td>\n",
       "      <td>First</td>\n",
       "      <td>20.77 kmpl</td>\n",
       "      <td>1248 CC</td>\n",
       "      <td>88.76 bhp</td>\n",
       "      <td>7.0</td>\n",
       "      <td>6.00</td>\n",
       "    </tr>\n",
       "    <tr>\n",
       "      <th>4</th>\n",
       "      <td>Audi A4 New 2.0 TDI Multitronic</td>\n",
       "      <td>Coimbatore</td>\n",
       "      <td>2013</td>\n",
       "      <td>40670</td>\n",
       "      <td>Diesel</td>\n",
       "      <td>Automatic</td>\n",
       "      <td>Second</td>\n",
       "      <td>15.2 kmpl</td>\n",
       "      <td>1968 CC</td>\n",
       "      <td>140.8 bhp</td>\n",
       "      <td>5.0</td>\n",
       "      <td>17.74</td>\n",
       "    </tr>\n",
       "    <tr>\n",
       "      <th>...</th>\n",
       "      <td>...</td>\n",
       "      <td>...</td>\n",
       "      <td>...</td>\n",
       "      <td>...</td>\n",
       "      <td>...</td>\n",
       "      <td>...</td>\n",
       "      <td>...</td>\n",
       "      <td>...</td>\n",
       "      <td>...</td>\n",
       "      <td>...</td>\n",
       "      <td>...</td>\n",
       "      <td>...</td>\n",
       "    </tr>\n",
       "    <tr>\n",
       "      <th>6014</th>\n",
       "      <td>Maruti Swift VDI</td>\n",
       "      <td>Delhi</td>\n",
       "      <td>2014</td>\n",
       "      <td>27365</td>\n",
       "      <td>Diesel</td>\n",
       "      <td>Manual</td>\n",
       "      <td>First</td>\n",
       "      <td>28.4 kmpl</td>\n",
       "      <td>1248 CC</td>\n",
       "      <td>74 bhp</td>\n",
       "      <td>5.0</td>\n",
       "      <td>4.75</td>\n",
       "    </tr>\n",
       "    <tr>\n",
       "      <th>6015</th>\n",
       "      <td>Hyundai Xcent 1.1 CRDi S</td>\n",
       "      <td>Jaipur</td>\n",
       "      <td>2015</td>\n",
       "      <td>100000</td>\n",
       "      <td>Diesel</td>\n",
       "      <td>Manual</td>\n",
       "      <td>First</td>\n",
       "      <td>24.4 kmpl</td>\n",
       "      <td>1120 CC</td>\n",
       "      <td>71 bhp</td>\n",
       "      <td>5.0</td>\n",
       "      <td>4.00</td>\n",
       "    </tr>\n",
       "    <tr>\n",
       "      <th>6016</th>\n",
       "      <td>Mahindra Xylo D4 BSIV</td>\n",
       "      <td>Jaipur</td>\n",
       "      <td>2012</td>\n",
       "      <td>55000</td>\n",
       "      <td>Diesel</td>\n",
       "      <td>Manual</td>\n",
       "      <td>Second</td>\n",
       "      <td>14.0 kmpl</td>\n",
       "      <td>2498 CC</td>\n",
       "      <td>112 bhp</td>\n",
       "      <td>8.0</td>\n",
       "      <td>2.90</td>\n",
       "    </tr>\n",
       "    <tr>\n",
       "      <th>6017</th>\n",
       "      <td>Maruti Wagon R VXI</td>\n",
       "      <td>Kolkata</td>\n",
       "      <td>2013</td>\n",
       "      <td>46000</td>\n",
       "      <td>Petrol</td>\n",
       "      <td>Manual</td>\n",
       "      <td>First</td>\n",
       "      <td>18.9 kmpl</td>\n",
       "      <td>998 CC</td>\n",
       "      <td>67.1 bhp</td>\n",
       "      <td>5.0</td>\n",
       "      <td>2.65</td>\n",
       "    </tr>\n",
       "    <tr>\n",
       "      <th>6018</th>\n",
       "      <td>Chevrolet Beat Diesel</td>\n",
       "      <td>Hyderabad</td>\n",
       "      <td>2011</td>\n",
       "      <td>47000</td>\n",
       "      <td>Diesel</td>\n",
       "      <td>Manual</td>\n",
       "      <td>First</td>\n",
       "      <td>25.44 kmpl</td>\n",
       "      <td>936 CC</td>\n",
       "      <td>57.6 bhp</td>\n",
       "      <td>5.0</td>\n",
       "      <td>2.50</td>\n",
       "    </tr>\n",
       "  </tbody>\n",
       "</table>\n",
       "<p>5975 rows × 12 columns</p>\n",
       "</div>"
      ],
      "text/plain": [
       "                                  Name    Location  Year  Kilometers_Driven  \\\n",
       "0               Maruti Wagon R LXI CNG      Mumbai  2010              72000   \n",
       "1     Hyundai Creta 1.6 CRDi SX Option        Pune  2015              41000   \n",
       "2                         Honda Jazz V     Chennai  2011              46000   \n",
       "3                    Maruti Ertiga VDI     Chennai  2012              87000   \n",
       "4      Audi A4 New 2.0 TDI Multitronic  Coimbatore  2013              40670   \n",
       "...                                ...         ...   ...                ...   \n",
       "6014                  Maruti Swift VDI       Delhi  2014              27365   \n",
       "6015          Hyundai Xcent 1.1 CRDi S      Jaipur  2015             100000   \n",
       "6016             Mahindra Xylo D4 BSIV      Jaipur  2012              55000   \n",
       "6017                Maruti Wagon R VXI     Kolkata  2013              46000   \n",
       "6018             Chevrolet Beat Diesel   Hyderabad  2011              47000   \n",
       "\n",
       "     Fuel_Type Transmission Owner_Type     Mileage   Engine      Power  Seats  \\\n",
       "0          CNG       Manual      First  26.6 km/kg   998 CC  58.16 bhp    5.0   \n",
       "1       Diesel       Manual      First  19.67 kmpl  1582 CC  126.2 bhp    5.0   \n",
       "2       Petrol       Manual      First   18.2 kmpl  1199 CC   88.7 bhp    5.0   \n",
       "3       Diesel       Manual      First  20.77 kmpl  1248 CC  88.76 bhp    7.0   \n",
       "4       Diesel    Automatic     Second   15.2 kmpl  1968 CC  140.8 bhp    5.0   \n",
       "...        ...          ...        ...         ...      ...        ...    ...   \n",
       "6014    Diesel       Manual      First   28.4 kmpl  1248 CC     74 bhp    5.0   \n",
       "6015    Diesel       Manual      First   24.4 kmpl  1120 CC     71 bhp    5.0   \n",
       "6016    Diesel       Manual     Second   14.0 kmpl  2498 CC    112 bhp    8.0   \n",
       "6017    Petrol       Manual      First   18.9 kmpl   998 CC   67.1 bhp    5.0   \n",
       "6018    Diesel       Manual      First  25.44 kmpl   936 CC   57.6 bhp    5.0   \n",
       "\n",
       "      Price  \n",
       "0      1.75  \n",
       "1     12.50  \n",
       "2      4.50  \n",
       "3      6.00  \n",
       "4     17.74  \n",
       "...     ...  \n",
       "6014   4.75  \n",
       "6015   4.00  \n",
       "6016   2.90  \n",
       "6017   2.65  \n",
       "6018   2.50  \n",
       "\n",
       "[5975 rows x 12 columns]"
      ]
     },
     "execution_count": 130,
     "metadata": {},
     "output_type": "execute_result"
    }
   ],
   "source": [
    "dat = dat.drop([\"Unnamed: 0\",\"New_Price\"],axis=1).dropna()\n",
    "dat"
   ]
  },
  {
   "cell_type": "markdown",
   "metadata": {},
   "source": [
    "## 2. 변수 변환"
   ]
  },
  {
   "cell_type": "markdown",
   "metadata": {},
   "source": [
    "첫번째 데이터셋을 가져와보도록 하자."
   ]
  },
  {
   "cell_type": "code",
   "execution_count": 131,
   "metadata": {},
   "outputs": [
    {
     "data": {
      "text/html": [
       "<div>\n",
       "<style scoped>\n",
       "    .dataframe tbody tr th:only-of-type {\n",
       "        vertical-align: middle;\n",
       "    }\n",
       "\n",
       "    .dataframe tbody tr th {\n",
       "        vertical-align: top;\n",
       "    }\n",
       "\n",
       "    .dataframe thead th {\n",
       "        text-align: right;\n",
       "    }\n",
       "</style>\n",
       "<table border=\"1\" class=\"dataframe\">\n",
       "  <thead>\n",
       "    <tr style=\"text-align: right;\">\n",
       "      <th></th>\n",
       "      <th>Name</th>\n",
       "      <th>Location</th>\n",
       "      <th>Year</th>\n",
       "      <th>Kilometers_Driven</th>\n",
       "      <th>Fuel_Type</th>\n",
       "      <th>Transmission</th>\n",
       "      <th>Owner_Type</th>\n",
       "      <th>Mileage</th>\n",
       "      <th>Engine</th>\n",
       "      <th>Power</th>\n",
       "      <th>Seats</th>\n",
       "      <th>Price</th>\n",
       "    </tr>\n",
       "  </thead>\n",
       "  <tbody>\n",
       "    <tr>\n",
       "      <th>0</th>\n",
       "      <td>Maruti Wagon R LXI CNG</td>\n",
       "      <td>Mumbai</td>\n",
       "      <td>2010</td>\n",
       "      <td>72000</td>\n",
       "      <td>CNG</td>\n",
       "      <td>Manual</td>\n",
       "      <td>First</td>\n",
       "      <td>26.6 km/kg</td>\n",
       "      <td>998 CC</td>\n",
       "      <td>58.16 bhp</td>\n",
       "      <td>5.0</td>\n",
       "      <td>1.75</td>\n",
       "    </tr>\n",
       "  </tbody>\n",
       "</table>\n",
       "</div>"
      ],
      "text/plain": [
       "                     Name Location  Year  Kilometers_Driven Fuel_Type  \\\n",
       "0  Maruti Wagon R LXI CNG   Mumbai  2010              72000       CNG   \n",
       "\n",
       "  Transmission Owner_Type     Mileage  Engine      Power  Seats  Price  \n",
       "0       Manual      First  26.6 km/kg  998 CC  58.16 bhp    5.0   1.75  "
      ]
     },
     "execution_count": 131,
     "metadata": {},
     "output_type": "execute_result"
    }
   ],
   "source": [
    "dat.head(1)"
   ]
  },
  {
   "cell_type": "markdown",
   "metadata": {},
   "source": [
    "1. name : Maruti Wagon R LXI CNG = 차의 이름과 모델명, 버전, 연료 종류 순서로 이루어져 있다. 연료 종류는 Fuel_Type에 적혀있기 때문에 이름만 따로 분리해 재정의한다.\n",
    "2. Mileage : 26.6 km/kg = 수치형 데이터이지만 object로 분류되어 있으므로 뒤의 단위를 제거하여 수치형으로 변환해준다.\n",
    "3. Engine : 998 CC = 수치형 데이터이지만 object로 분류되어 있으므로 뒤의 단위를 제거하여 수치형으로 변환해준다.\n",
    "4. Power : 58.16 bhp = 수치형 데이터이지만 object로 분류되어 있으므로 뒤의 단위를 제거하여 수치형으로 변환해준다."
   ]
  },
  {
   "cell_type": "markdown",
   "metadata": {},
   "source": [
    "### 2-1 Name"
   ]
  },
  {
   "cell_type": "code",
   "execution_count": 132,
   "metadata": {},
   "outputs": [
    {
     "data": {
      "text/plain": [
       "Mahindra XUV500 W8 2WD           49\n",
       "Maruti Swift VDI                 45\n",
       "Honda City 1.5 S MT              34\n",
       "Maruti Swift Dzire VDI           34\n",
       "Maruti Swift VDI BSIV            31\n",
       "                                 ..\n",
       "Ford Fiesta Titanium 1.5 TDCi     1\n",
       "Mahindra Scorpio S10 AT 4WD       1\n",
       "Hyundai i20 1.2 Era               1\n",
       "Toyota Camry W4 (AT)              1\n",
       "Mahindra Xylo D4 BSIV             1\n",
       "Name: Name, Length: 1855, dtype: int64"
      ]
     },
     "execution_count": 132,
     "metadata": {},
     "output_type": "execute_result"
    }
   ],
   "source": [
    "dat.Name.value_counts()"
   ]
  },
  {
   "cell_type": "code",
   "execution_count": 133,
   "metadata": {},
   "outputs": [],
   "source": [
    "dat['Name']=dat['Name'].map(lambda x: str(x).strip().split(\" \")[0])"
   ]
  },
  {
   "cell_type": "markdown",
   "metadata": {},
   "source": [
    "### 2-2 Mileage"
   ]
  },
  {
   "cell_type": "code",
   "execution_count": 134,
   "metadata": {},
   "outputs": [
    {
     "data": {
      "text/plain": [
       "18.9 kmpl     172\n",
       "17.0 kmpl     170\n",
       "18.6 kmpl     119\n",
       "20.36 kmpl     88\n",
       "21.1 kmpl      86\n",
       "             ... \n",
       "14.57 kmpl      1\n",
       "14.33 kmpl      1\n",
       "22.8 km/kg      1\n",
       "8.0 kmpl        1\n",
       "17.24 kmpl      1\n",
       "Name: Mileage, Length: 442, dtype: int64"
      ]
     },
     "execution_count": 134,
     "metadata": {},
     "output_type": "execute_result"
    }
   ],
   "source": [
    "dat.Mileage.value_counts()"
   ]
  },
  {
   "cell_type": "code",
   "execution_count": 135,
   "metadata": {},
   "outputs": [],
   "source": [
    "dat['Mileage']=dat['Mileage'].apply(lambda x: str(x).strip().split(\" \")[0]).astype(float)"
   ]
  },
  {
   "cell_type": "markdown",
   "metadata": {},
   "source": [
    "### 2-3 Engine"
   ]
  },
  {
   "cell_type": "code",
   "execution_count": 136,
   "metadata": {},
   "outputs": [
    {
     "data": {
      "text/plain": [
       "1197 CC    606\n",
       "1248 CC    512\n",
       "1498 CC    303\n",
       "998 CC     259\n",
       "2179 CC    240\n",
       "          ... \n",
       "1489 CC      1\n",
       "1422 CC      1\n",
       "1978 CC      1\n",
       "2694 CC      1\n",
       "1797 CC      1\n",
       "Name: Engine, Length: 145, dtype: int64"
      ]
     },
     "execution_count": 136,
     "metadata": {},
     "output_type": "execute_result"
    }
   ],
   "source": [
    "dat.Engine.value_counts()"
   ]
  },
  {
   "cell_type": "code",
   "execution_count": 137,
   "metadata": {},
   "outputs": [],
   "source": [
    "dat['Engine']=dat['Engine'].apply(lambda x: str(x).strip().split(\" \")[0]).astype(float)"
   ]
  },
  {
   "cell_type": "markdown",
   "metadata": {},
   "source": [
    "### 2-4 Power"
   ]
  },
  {
   "cell_type": "markdown",
   "metadata": {},
   "source": [
    "Power 변수의 경우에 데이터는 다른 데이터와 조금 다르게 나타났다.  \n",
    "아래의 결과를 보면 'null bhp'로 위에서 결측치를 전부 제거했음에도 불구하고 값으로 입력되어 아래처럼 표기된 경우가 존재한다."
   ]
  },
  {
   "cell_type": "code",
   "execution_count": 138,
   "metadata": {},
   "outputs": [
    {
     "data": {
      "text/plain": [
       "Name                     Ford\n",
       "Location               Jaipur\n",
       "Year                     2008\n",
       "Kilometers_Driven      111111\n",
       "Fuel_Type              Diesel\n",
       "Transmission           Manual\n",
       "Owner_Type              First\n",
       "Mileage                  17.8\n",
       "Engine                 1399.0\n",
       "Power                null bhp\n",
       "Seats                     5.0\n",
       "Price                     2.0\n",
       "Name: 76, dtype: object"
      ]
     },
     "execution_count": 138,
     "metadata": {},
     "output_type": "execute_result"
    }
   ],
   "source": [
    "dat.loc[76]"
   ]
  },
  {
   "cell_type": "code",
   "execution_count": 139,
   "metadata": {},
   "outputs": [],
   "source": [
    "dat['Power']=dat['Power'].apply(lambda x: str(x).strip().split(\" \")[0])"
   ]
  },
  {
   "cell_type": "markdown",
   "metadata": {},
   "source": [
    "따라서 먼저 split을 통해 단위를 제거해준 뒤 to_numeric을 통해 null을 NaN 즉, 결측치로 변환시켜 준 후 해당 결측치를 평균으로 대체해준다."
   ]
  },
  {
   "cell_type": "code",
   "execution_count": 140,
   "metadata": {},
   "outputs": [],
   "source": [
    "dat['Power'] = pd.to_numeric(dat['Power'],errors='coerce').astype(float)\n",
    "dat['Power'] = dat['Power'].fillna(dat['Power'].mean())"
   ]
  },
  {
   "cell_type": "code",
   "execution_count": 141,
   "metadata": {},
   "outputs": [
    {
     "data": {
      "text/html": [
       "<div>\n",
       "<style scoped>\n",
       "    .dataframe tbody tr th:only-of-type {\n",
       "        vertical-align: middle;\n",
       "    }\n",
       "\n",
       "    .dataframe tbody tr th {\n",
       "        vertical-align: top;\n",
       "    }\n",
       "\n",
       "    .dataframe thead th {\n",
       "        text-align: right;\n",
       "    }\n",
       "</style>\n",
       "<table border=\"1\" class=\"dataframe\">\n",
       "  <thead>\n",
       "    <tr style=\"text-align: right;\">\n",
       "      <th></th>\n",
       "      <th>Name</th>\n",
       "      <th>Location</th>\n",
       "      <th>Year</th>\n",
       "      <th>Kilometers_Driven</th>\n",
       "      <th>Fuel_Type</th>\n",
       "      <th>Transmission</th>\n",
       "      <th>Owner_Type</th>\n",
       "      <th>Mileage</th>\n",
       "      <th>Engine</th>\n",
       "      <th>Power</th>\n",
       "      <th>Seats</th>\n",
       "      <th>Price</th>\n",
       "    </tr>\n",
       "  </thead>\n",
       "  <tbody>\n",
       "    <tr>\n",
       "      <th>0</th>\n",
       "      <td>Maruti</td>\n",
       "      <td>Mumbai</td>\n",
       "      <td>2010</td>\n",
       "      <td>72000</td>\n",
       "      <td>CNG</td>\n",
       "      <td>Manual</td>\n",
       "      <td>First</td>\n",
       "      <td>26.60</td>\n",
       "      <td>998.0</td>\n",
       "      <td>58.16</td>\n",
       "      <td>5.0</td>\n",
       "      <td>1.75</td>\n",
       "    </tr>\n",
       "    <tr>\n",
       "      <th>1</th>\n",
       "      <td>Hyundai</td>\n",
       "      <td>Pune</td>\n",
       "      <td>2015</td>\n",
       "      <td>41000</td>\n",
       "      <td>Diesel</td>\n",
       "      <td>Manual</td>\n",
       "      <td>First</td>\n",
       "      <td>19.67</td>\n",
       "      <td>1582.0</td>\n",
       "      <td>126.20</td>\n",
       "      <td>5.0</td>\n",
       "      <td>12.50</td>\n",
       "    </tr>\n",
       "    <tr>\n",
       "      <th>2</th>\n",
       "      <td>Honda</td>\n",
       "      <td>Chennai</td>\n",
       "      <td>2011</td>\n",
       "      <td>46000</td>\n",
       "      <td>Petrol</td>\n",
       "      <td>Manual</td>\n",
       "      <td>First</td>\n",
       "      <td>18.20</td>\n",
       "      <td>1199.0</td>\n",
       "      <td>88.70</td>\n",
       "      <td>5.0</td>\n",
       "      <td>4.50</td>\n",
       "    </tr>\n",
       "    <tr>\n",
       "      <th>3</th>\n",
       "      <td>Maruti</td>\n",
       "      <td>Chennai</td>\n",
       "      <td>2012</td>\n",
       "      <td>87000</td>\n",
       "      <td>Diesel</td>\n",
       "      <td>Manual</td>\n",
       "      <td>First</td>\n",
       "      <td>20.77</td>\n",
       "      <td>1248.0</td>\n",
       "      <td>88.76</td>\n",
       "      <td>7.0</td>\n",
       "      <td>6.00</td>\n",
       "    </tr>\n",
       "    <tr>\n",
       "      <th>4</th>\n",
       "      <td>Audi</td>\n",
       "      <td>Coimbatore</td>\n",
       "      <td>2013</td>\n",
       "      <td>40670</td>\n",
       "      <td>Diesel</td>\n",
       "      <td>Automatic</td>\n",
       "      <td>Second</td>\n",
       "      <td>15.20</td>\n",
       "      <td>1968.0</td>\n",
       "      <td>140.80</td>\n",
       "      <td>5.0</td>\n",
       "      <td>17.74</td>\n",
       "    </tr>\n",
       "    <tr>\n",
       "      <th>...</th>\n",
       "      <td>...</td>\n",
       "      <td>...</td>\n",
       "      <td>...</td>\n",
       "      <td>...</td>\n",
       "      <td>...</td>\n",
       "      <td>...</td>\n",
       "      <td>...</td>\n",
       "      <td>...</td>\n",
       "      <td>...</td>\n",
       "      <td>...</td>\n",
       "      <td>...</td>\n",
       "      <td>...</td>\n",
       "    </tr>\n",
       "    <tr>\n",
       "      <th>6014</th>\n",
       "      <td>Maruti</td>\n",
       "      <td>Delhi</td>\n",
       "      <td>2014</td>\n",
       "      <td>27365</td>\n",
       "      <td>Diesel</td>\n",
       "      <td>Manual</td>\n",
       "      <td>First</td>\n",
       "      <td>28.40</td>\n",
       "      <td>1248.0</td>\n",
       "      <td>74.00</td>\n",
       "      <td>5.0</td>\n",
       "      <td>4.75</td>\n",
       "    </tr>\n",
       "    <tr>\n",
       "      <th>6015</th>\n",
       "      <td>Hyundai</td>\n",
       "      <td>Jaipur</td>\n",
       "      <td>2015</td>\n",
       "      <td>100000</td>\n",
       "      <td>Diesel</td>\n",
       "      <td>Manual</td>\n",
       "      <td>First</td>\n",
       "      <td>24.40</td>\n",
       "      <td>1120.0</td>\n",
       "      <td>71.00</td>\n",
       "      <td>5.0</td>\n",
       "      <td>4.00</td>\n",
       "    </tr>\n",
       "    <tr>\n",
       "      <th>6016</th>\n",
       "      <td>Mahindra</td>\n",
       "      <td>Jaipur</td>\n",
       "      <td>2012</td>\n",
       "      <td>55000</td>\n",
       "      <td>Diesel</td>\n",
       "      <td>Manual</td>\n",
       "      <td>Second</td>\n",
       "      <td>14.00</td>\n",
       "      <td>2498.0</td>\n",
       "      <td>112.00</td>\n",
       "      <td>8.0</td>\n",
       "      <td>2.90</td>\n",
       "    </tr>\n",
       "    <tr>\n",
       "      <th>6017</th>\n",
       "      <td>Maruti</td>\n",
       "      <td>Kolkata</td>\n",
       "      <td>2013</td>\n",
       "      <td>46000</td>\n",
       "      <td>Petrol</td>\n",
       "      <td>Manual</td>\n",
       "      <td>First</td>\n",
       "      <td>18.90</td>\n",
       "      <td>998.0</td>\n",
       "      <td>67.10</td>\n",
       "      <td>5.0</td>\n",
       "      <td>2.65</td>\n",
       "    </tr>\n",
       "    <tr>\n",
       "      <th>6018</th>\n",
       "      <td>Chevrolet</td>\n",
       "      <td>Hyderabad</td>\n",
       "      <td>2011</td>\n",
       "      <td>47000</td>\n",
       "      <td>Diesel</td>\n",
       "      <td>Manual</td>\n",
       "      <td>First</td>\n",
       "      <td>25.44</td>\n",
       "      <td>936.0</td>\n",
       "      <td>57.60</td>\n",
       "      <td>5.0</td>\n",
       "      <td>2.50</td>\n",
       "    </tr>\n",
       "  </tbody>\n",
       "</table>\n",
       "<p>5975 rows × 12 columns</p>\n",
       "</div>"
      ],
      "text/plain": [
       "           Name    Location  Year  Kilometers_Driven Fuel_Type Transmission  \\\n",
       "0        Maruti      Mumbai  2010              72000       CNG       Manual   \n",
       "1       Hyundai        Pune  2015              41000    Diesel       Manual   \n",
       "2         Honda     Chennai  2011              46000    Petrol       Manual   \n",
       "3        Maruti     Chennai  2012              87000    Diesel       Manual   \n",
       "4          Audi  Coimbatore  2013              40670    Diesel    Automatic   \n",
       "...         ...         ...   ...                ...       ...          ...   \n",
       "6014     Maruti       Delhi  2014              27365    Diesel       Manual   \n",
       "6015    Hyundai      Jaipur  2015             100000    Diesel       Manual   \n",
       "6016   Mahindra      Jaipur  2012              55000    Diesel       Manual   \n",
       "6017     Maruti     Kolkata  2013              46000    Petrol       Manual   \n",
       "6018  Chevrolet   Hyderabad  2011              47000    Diesel       Manual   \n",
       "\n",
       "     Owner_Type  Mileage  Engine   Power  Seats  Price  \n",
       "0         First    26.60   998.0   58.16    5.0   1.75  \n",
       "1         First    19.67  1582.0  126.20    5.0  12.50  \n",
       "2         First    18.20  1199.0   88.70    5.0   4.50  \n",
       "3         First    20.77  1248.0   88.76    7.0   6.00  \n",
       "4        Second    15.20  1968.0  140.80    5.0  17.74  \n",
       "...         ...      ...     ...     ...    ...    ...  \n",
       "6014      First    28.40  1248.0   74.00    5.0   4.75  \n",
       "6015      First    24.40  1120.0   71.00    5.0   4.00  \n",
       "6016     Second    14.00  2498.0  112.00    8.0   2.90  \n",
       "6017      First    18.90   998.0   67.10    5.0   2.65  \n",
       "6018      First    25.44   936.0   57.60    5.0   2.50  \n",
       "\n",
       "[5975 rows x 12 columns]"
      ]
     },
     "execution_count": 141,
     "metadata": {},
     "output_type": "execute_result"
    }
   ],
   "source": [
    "dat"
   ]
  },
  {
   "cell_type": "markdown",
   "metadata": {},
   "source": [
    "## 3. 범주형 변수 가공"
   ]
  },
  {
   "cell_type": "markdown",
   "metadata": {},
   "source": [
    "일반적으로 범주형 변수들은 수치형 변수들처럼 연속적인 숫자들로 이루어지지 않기 때문에 회귀분석에서 그대로 사용하게 되면 오류를 범할 수 있다. 따라서 범주형 변수들을 one-hot-encoding을 통해 가공하여 수치형으로 변형해준다."
   ]
  },
  {
   "cell_type": "markdown",
   "metadata": {},
   "source": [
    "### 3-1 범주형 변수 설명"
   ]
  },
  {
   "cell_type": "markdown",
   "metadata": {},
   "source": [
    "#### 3-1-1 Name"
   ]
  },
  {
   "cell_type": "code",
   "execution_count": 142,
   "metadata": {},
   "outputs": [
    {
     "data": {
      "text/plain": [
       "Maruti           1197\n",
       "Hyundai          1100\n",
       "Honda             601\n",
       "Toyota            409\n",
       "Mercedes-Benz     318\n",
       "Volkswagen        315\n",
       "Ford              298\n",
       "Mahindra          271\n",
       "BMW               262\n",
       "Audi              236\n",
       "Tata              186\n",
       "Skoda             173\n",
       "Renault           145\n",
       "Chevrolet         121\n",
       "Nissan             91\n",
       "Land               57\n",
       "Jaguar             40\n",
       "Mitsubishi         27\n",
       "Mini               26\n",
       "Fiat               25\n",
       "Volvo              21\n",
       "Porsche            18\n",
       "Jeep               15\n",
       "Datsun             13\n",
       "Force               3\n",
       "ISUZU               2\n",
       "Smart               1\n",
       "Ambassador          1\n",
       "Isuzu               1\n",
       "Bentley             1\n",
       "Lamborghini         1\n",
       "Name: Name, dtype: int64"
      ]
     },
     "execution_count": 142,
     "metadata": {},
     "output_type": "execute_result"
    }
   ],
   "source": [
    "dat['Name'].value_counts()"
   ]
  },
  {
   "cell_type": "markdown",
   "metadata": {},
   "source": [
    "Maruti부터 Lamborghini 까지 총 31개의 변수들로 구성된 범주형 변수이다."
   ]
  },
  {
   "cell_type": "markdown",
   "metadata": {},
   "source": [
    "#### 3-1-2 Location"
   ]
  },
  {
   "cell_type": "code",
   "execution_count": 143,
   "metadata": {},
   "outputs": [
    {
     "data": {
      "text/plain": [
       "Mumbai        784\n",
       "Hyderabad     741\n",
       "Kochi         648\n",
       "Coimbatore    634\n",
       "Pune          613\n",
       "Delhi         549\n",
       "Kolkata       530\n",
       "Chennai       490\n",
       "Jaipur        410\n",
       "Bangalore     353\n",
       "Ahmedabad     223\n",
       "Name: Location, dtype: int64"
      ]
     },
     "execution_count": 143,
     "metadata": {},
     "output_type": "execute_result"
    }
   ],
   "source": [
    "dat['Location'].value_counts()"
   ]
  },
  {
   "cell_type": "markdown",
   "metadata": {},
   "source": [
    "Mumbai부터 Ahmedabad까지 총 11개의 변수들로 구성된 범주형 변수이다."
   ]
  },
  {
   "cell_type": "markdown",
   "metadata": {},
   "source": [
    "#### 3-1-3 Fuel_Type"
   ]
  },
  {
   "cell_type": "code",
   "execution_count": 144,
   "metadata": {},
   "outputs": [
    {
     "data": {
      "text/plain": [
       "Diesel    3195\n",
       "Petrol    2714\n",
       "CNG         56\n",
       "LPG         10\n",
       "Name: Fuel_Type, dtype: int64"
      ]
     },
     "execution_count": 144,
     "metadata": {},
     "output_type": "execute_result"
    }
   ],
   "source": [
    "dat['Fuel_Type'].value_counts()"
   ]
  },
  {
   "cell_type": "markdown",
   "metadata": {},
   "source": [
    "Diesel, Petrol, CNG 그리고 LPG 총 4개의 변수들로 구성된 범주형 변수이다."
   ]
  },
  {
   "cell_type": "markdown",
   "metadata": {},
   "source": [
    "#### 3-1-4 Transmission"
   ]
  },
  {
   "cell_type": "code",
   "execution_count": 145,
   "metadata": {},
   "outputs": [
    {
     "data": {
      "text/plain": [
       "Manual       4266\n",
       "Automatic    1709\n",
       "Name: Transmission, dtype: int64"
      ]
     },
     "execution_count": 145,
     "metadata": {},
     "output_type": "execute_result"
    }
   ],
   "source": [
    "dat['Transmission'].value_counts()"
   ]
  },
  {
   "cell_type": "markdown",
   "metadata": {},
   "source": [
    "Manual과 Automatic 2개의 변수로 구성된 범주형 변수이다."
   ]
  },
  {
   "cell_type": "markdown",
   "metadata": {},
   "source": [
    "#### 3-1-5 Owner_Type"
   ]
  },
  {
   "cell_type": "code",
   "execution_count": 146,
   "metadata": {},
   "outputs": [
    {
     "data": {
      "text/plain": [
       "First             4903\n",
       "Second             953\n",
       "Third              111\n",
       "Fourth & Above       8\n",
       "Name: Owner_Type, dtype: int64"
      ]
     },
     "execution_count": 146,
     "metadata": {},
     "output_type": "execute_result"
    }
   ],
   "source": [
    "dat['Owner_Type'].value_counts()"
   ]
  },
  {
   "cell_type": "markdown",
   "metadata": {},
   "source": [
    "First, Second, Third 그리고 Fourth & Above 총 4개의 변수로 구성된 범주형 변수이다."
   ]
  },
  {
   "cell_type": "markdown",
   "metadata": {},
   "source": [
    "#### 3-1-6 Year"
   ]
  },
  {
   "cell_type": "code",
   "execution_count": 147,
   "metadata": {},
   "outputs": [
    {
     "data": {
      "text/plain": [
       "2014    795\n",
       "2015    741\n",
       "2016    740\n",
       "2013    648\n",
       "2017    586\n",
       "2012    572\n",
       "2011    461\n",
       "2010    339\n",
       "2018    298\n",
       "2009    196\n",
       "2008    169\n",
       "2007    123\n",
       "2019    102\n",
       "2006     75\n",
       "2005     55\n",
       "2004     29\n",
       "2003     15\n",
       "2002     14\n",
       "2001      7\n",
       "2000      4\n",
       "1998      4\n",
       "1999      2\n",
       "Name: Year, dtype: int64"
      ]
     },
     "execution_count": 147,
     "metadata": {},
     "output_type": "execute_result"
    }
   ],
   "source": [
    "dat['Year'] = dat['Year'].astype(str)\n",
    "dat['Year'].value_counts()"
   ]
  },
  {
   "cell_type": "markdown",
   "metadata": {},
   "source": [
    "1998년부터 2019년까지 총 22개의 변수로 구성된 범주형 변수이다."
   ]
  },
  {
   "cell_type": "markdown",
   "metadata": {},
   "source": [
    "#### 3-1-7 Seats"
   ]
  },
  {
   "cell_type": "code",
   "execution_count": 148,
   "metadata": {},
   "outputs": [
    {
     "data": {
      "text/plain": [
       "5     5012\n",
       "7      674\n",
       "8      134\n",
       "4       99\n",
       "6       31\n",
       "2       16\n",
       "10       5\n",
       "9        3\n",
       "0        1\n",
       "Name: Seats, dtype: int64"
      ]
     },
     "execution_count": 148,
     "metadata": {},
     "output_type": "execute_result"
    }
   ],
   "source": [
    "dat['Seats'] = dat['Seats'].astype(int).astype(str)\n",
    "dat['Seats'].value_counts()"
   ]
  },
  {
   "cell_type": "markdown",
   "metadata": {},
   "source": [
    "0부터 10까지 1과 3을 제외한 총 9개의 변수로 구성된 범주형 변수이다."
   ]
  },
  {
   "cell_type": "markdown",
   "metadata": {},
   "source": [
    "### 3-2 더미변수화"
   ]
  },
  {
   "cell_type": "code",
   "execution_count": 149,
   "metadata": {},
   "outputs": [],
   "source": [
    "data_cat = dat[['Name','Location','Fuel_Type','Transmission','Owner_Type','Year','Seats']]\n",
    "data_dummies = pd.get_dummies(data_cat)"
   ]
  },
  {
   "cell_type": "code",
   "execution_count": 150,
   "metadata": {},
   "outputs": [
    {
     "data": {
      "text/html": [
       "<div>\n",
       "<style scoped>\n",
       "    .dataframe tbody tr th:only-of-type {\n",
       "        vertical-align: middle;\n",
       "    }\n",
       "\n",
       "    .dataframe tbody tr th {\n",
       "        vertical-align: top;\n",
       "    }\n",
       "\n",
       "    .dataframe thead th {\n",
       "        text-align: right;\n",
       "    }\n",
       "</style>\n",
       "<table border=\"1\" class=\"dataframe\">\n",
       "  <thead>\n",
       "    <tr style=\"text-align: right;\">\n",
       "      <th></th>\n",
       "      <th>Name_Ambassador</th>\n",
       "      <th>Name_Audi</th>\n",
       "      <th>Name_BMW</th>\n",
       "      <th>Name_Bentley</th>\n",
       "      <th>Name_Chevrolet</th>\n",
       "      <th>Name_Datsun</th>\n",
       "      <th>Name_Fiat</th>\n",
       "      <th>Name_Force</th>\n",
       "      <th>Name_Ford</th>\n",
       "      <th>Name_Honda</th>\n",
       "      <th>...</th>\n",
       "      <th>Year_2019</th>\n",
       "      <th>Seats_0</th>\n",
       "      <th>Seats_10</th>\n",
       "      <th>Seats_2</th>\n",
       "      <th>Seats_4</th>\n",
       "      <th>Seats_5</th>\n",
       "      <th>Seats_6</th>\n",
       "      <th>Seats_7</th>\n",
       "      <th>Seats_8</th>\n",
       "      <th>Seats_9</th>\n",
       "    </tr>\n",
       "  </thead>\n",
       "  <tbody>\n",
       "    <tr>\n",
       "      <th>0</th>\n",
       "      <td>0</td>\n",
       "      <td>0</td>\n",
       "      <td>0</td>\n",
       "      <td>0</td>\n",
       "      <td>0</td>\n",
       "      <td>0</td>\n",
       "      <td>0</td>\n",
       "      <td>0</td>\n",
       "      <td>0</td>\n",
       "      <td>0</td>\n",
       "      <td>...</td>\n",
       "      <td>0</td>\n",
       "      <td>0</td>\n",
       "      <td>0</td>\n",
       "      <td>0</td>\n",
       "      <td>0</td>\n",
       "      <td>1</td>\n",
       "      <td>0</td>\n",
       "      <td>0</td>\n",
       "      <td>0</td>\n",
       "      <td>0</td>\n",
       "    </tr>\n",
       "    <tr>\n",
       "      <th>1</th>\n",
       "      <td>0</td>\n",
       "      <td>0</td>\n",
       "      <td>0</td>\n",
       "      <td>0</td>\n",
       "      <td>0</td>\n",
       "      <td>0</td>\n",
       "      <td>0</td>\n",
       "      <td>0</td>\n",
       "      <td>0</td>\n",
       "      <td>0</td>\n",
       "      <td>...</td>\n",
       "      <td>0</td>\n",
       "      <td>0</td>\n",
       "      <td>0</td>\n",
       "      <td>0</td>\n",
       "      <td>0</td>\n",
       "      <td>1</td>\n",
       "      <td>0</td>\n",
       "      <td>0</td>\n",
       "      <td>0</td>\n",
       "      <td>0</td>\n",
       "    </tr>\n",
       "    <tr>\n",
       "      <th>2</th>\n",
       "      <td>0</td>\n",
       "      <td>0</td>\n",
       "      <td>0</td>\n",
       "      <td>0</td>\n",
       "      <td>0</td>\n",
       "      <td>0</td>\n",
       "      <td>0</td>\n",
       "      <td>0</td>\n",
       "      <td>0</td>\n",
       "      <td>1</td>\n",
       "      <td>...</td>\n",
       "      <td>0</td>\n",
       "      <td>0</td>\n",
       "      <td>0</td>\n",
       "      <td>0</td>\n",
       "      <td>0</td>\n",
       "      <td>1</td>\n",
       "      <td>0</td>\n",
       "      <td>0</td>\n",
       "      <td>0</td>\n",
       "      <td>0</td>\n",
       "    </tr>\n",
       "    <tr>\n",
       "      <th>3</th>\n",
       "      <td>0</td>\n",
       "      <td>0</td>\n",
       "      <td>0</td>\n",
       "      <td>0</td>\n",
       "      <td>0</td>\n",
       "      <td>0</td>\n",
       "      <td>0</td>\n",
       "      <td>0</td>\n",
       "      <td>0</td>\n",
       "      <td>0</td>\n",
       "      <td>...</td>\n",
       "      <td>0</td>\n",
       "      <td>0</td>\n",
       "      <td>0</td>\n",
       "      <td>0</td>\n",
       "      <td>0</td>\n",
       "      <td>0</td>\n",
       "      <td>0</td>\n",
       "      <td>1</td>\n",
       "      <td>0</td>\n",
       "      <td>0</td>\n",
       "    </tr>\n",
       "    <tr>\n",
       "      <th>4</th>\n",
       "      <td>0</td>\n",
       "      <td>1</td>\n",
       "      <td>0</td>\n",
       "      <td>0</td>\n",
       "      <td>0</td>\n",
       "      <td>0</td>\n",
       "      <td>0</td>\n",
       "      <td>0</td>\n",
       "      <td>0</td>\n",
       "      <td>0</td>\n",
       "      <td>...</td>\n",
       "      <td>0</td>\n",
       "      <td>0</td>\n",
       "      <td>0</td>\n",
       "      <td>0</td>\n",
       "      <td>0</td>\n",
       "      <td>1</td>\n",
       "      <td>0</td>\n",
       "      <td>0</td>\n",
       "      <td>0</td>\n",
       "      <td>0</td>\n",
       "    </tr>\n",
       "    <tr>\n",
       "      <th>...</th>\n",
       "      <td>...</td>\n",
       "      <td>...</td>\n",
       "      <td>...</td>\n",
       "      <td>...</td>\n",
       "      <td>...</td>\n",
       "      <td>...</td>\n",
       "      <td>...</td>\n",
       "      <td>...</td>\n",
       "      <td>...</td>\n",
       "      <td>...</td>\n",
       "      <td>...</td>\n",
       "      <td>...</td>\n",
       "      <td>...</td>\n",
       "      <td>...</td>\n",
       "      <td>...</td>\n",
       "      <td>...</td>\n",
       "      <td>...</td>\n",
       "      <td>...</td>\n",
       "      <td>...</td>\n",
       "      <td>...</td>\n",
       "      <td>...</td>\n",
       "    </tr>\n",
       "    <tr>\n",
       "      <th>6014</th>\n",
       "      <td>0</td>\n",
       "      <td>0</td>\n",
       "      <td>0</td>\n",
       "      <td>0</td>\n",
       "      <td>0</td>\n",
       "      <td>0</td>\n",
       "      <td>0</td>\n",
       "      <td>0</td>\n",
       "      <td>0</td>\n",
       "      <td>0</td>\n",
       "      <td>...</td>\n",
       "      <td>0</td>\n",
       "      <td>0</td>\n",
       "      <td>0</td>\n",
       "      <td>0</td>\n",
       "      <td>0</td>\n",
       "      <td>1</td>\n",
       "      <td>0</td>\n",
       "      <td>0</td>\n",
       "      <td>0</td>\n",
       "      <td>0</td>\n",
       "    </tr>\n",
       "    <tr>\n",
       "      <th>6015</th>\n",
       "      <td>0</td>\n",
       "      <td>0</td>\n",
       "      <td>0</td>\n",
       "      <td>0</td>\n",
       "      <td>0</td>\n",
       "      <td>0</td>\n",
       "      <td>0</td>\n",
       "      <td>0</td>\n",
       "      <td>0</td>\n",
       "      <td>0</td>\n",
       "      <td>...</td>\n",
       "      <td>0</td>\n",
       "      <td>0</td>\n",
       "      <td>0</td>\n",
       "      <td>0</td>\n",
       "      <td>0</td>\n",
       "      <td>1</td>\n",
       "      <td>0</td>\n",
       "      <td>0</td>\n",
       "      <td>0</td>\n",
       "      <td>0</td>\n",
       "    </tr>\n",
       "    <tr>\n",
       "      <th>6016</th>\n",
       "      <td>0</td>\n",
       "      <td>0</td>\n",
       "      <td>0</td>\n",
       "      <td>0</td>\n",
       "      <td>0</td>\n",
       "      <td>0</td>\n",
       "      <td>0</td>\n",
       "      <td>0</td>\n",
       "      <td>0</td>\n",
       "      <td>0</td>\n",
       "      <td>...</td>\n",
       "      <td>0</td>\n",
       "      <td>0</td>\n",
       "      <td>0</td>\n",
       "      <td>0</td>\n",
       "      <td>0</td>\n",
       "      <td>0</td>\n",
       "      <td>0</td>\n",
       "      <td>0</td>\n",
       "      <td>1</td>\n",
       "      <td>0</td>\n",
       "    </tr>\n",
       "    <tr>\n",
       "      <th>6017</th>\n",
       "      <td>0</td>\n",
       "      <td>0</td>\n",
       "      <td>0</td>\n",
       "      <td>0</td>\n",
       "      <td>0</td>\n",
       "      <td>0</td>\n",
       "      <td>0</td>\n",
       "      <td>0</td>\n",
       "      <td>0</td>\n",
       "      <td>0</td>\n",
       "      <td>...</td>\n",
       "      <td>0</td>\n",
       "      <td>0</td>\n",
       "      <td>0</td>\n",
       "      <td>0</td>\n",
       "      <td>0</td>\n",
       "      <td>1</td>\n",
       "      <td>0</td>\n",
       "      <td>0</td>\n",
       "      <td>0</td>\n",
       "      <td>0</td>\n",
       "    </tr>\n",
       "    <tr>\n",
       "      <th>6018</th>\n",
       "      <td>0</td>\n",
       "      <td>0</td>\n",
       "      <td>0</td>\n",
       "      <td>0</td>\n",
       "      <td>1</td>\n",
       "      <td>0</td>\n",
       "      <td>0</td>\n",
       "      <td>0</td>\n",
       "      <td>0</td>\n",
       "      <td>0</td>\n",
       "      <td>...</td>\n",
       "      <td>0</td>\n",
       "      <td>0</td>\n",
       "      <td>0</td>\n",
       "      <td>0</td>\n",
       "      <td>0</td>\n",
       "      <td>1</td>\n",
       "      <td>0</td>\n",
       "      <td>0</td>\n",
       "      <td>0</td>\n",
       "      <td>0</td>\n",
       "    </tr>\n",
       "  </tbody>\n",
       "</table>\n",
       "<p>5975 rows × 83 columns</p>\n",
       "</div>"
      ],
      "text/plain": [
       "      Name_Ambassador  Name_Audi  Name_BMW  Name_Bentley  Name_Chevrolet  \\\n",
       "0                   0          0         0             0               0   \n",
       "1                   0          0         0             0               0   \n",
       "2                   0          0         0             0               0   \n",
       "3                   0          0         0             0               0   \n",
       "4                   0          1         0             0               0   \n",
       "...               ...        ...       ...           ...             ...   \n",
       "6014                0          0         0             0               0   \n",
       "6015                0          0         0             0               0   \n",
       "6016                0          0         0             0               0   \n",
       "6017                0          0         0             0               0   \n",
       "6018                0          0         0             0               1   \n",
       "\n",
       "      Name_Datsun  Name_Fiat  Name_Force  Name_Ford  Name_Honda  ...  \\\n",
       "0               0          0           0          0           0  ...   \n",
       "1               0          0           0          0           0  ...   \n",
       "2               0          0           0          0           1  ...   \n",
       "3               0          0           0          0           0  ...   \n",
       "4               0          0           0          0           0  ...   \n",
       "...           ...        ...         ...        ...         ...  ...   \n",
       "6014            0          0           0          0           0  ...   \n",
       "6015            0          0           0          0           0  ...   \n",
       "6016            0          0           0          0           0  ...   \n",
       "6017            0          0           0          0           0  ...   \n",
       "6018            0          0           0          0           0  ...   \n",
       "\n",
       "      Year_2019  Seats_0  Seats_10  Seats_2  Seats_4  Seats_5  Seats_6  \\\n",
       "0             0        0         0        0        0        1        0   \n",
       "1             0        0         0        0        0        1        0   \n",
       "2             0        0         0        0        0        1        0   \n",
       "3             0        0         0        0        0        0        0   \n",
       "4             0        0         0        0        0        1        0   \n",
       "...         ...      ...       ...      ...      ...      ...      ...   \n",
       "6014          0        0         0        0        0        1        0   \n",
       "6015          0        0         0        0        0        1        0   \n",
       "6016          0        0         0        0        0        0        0   \n",
       "6017          0        0         0        0        0        1        0   \n",
       "6018          0        0         0        0        0        1        0   \n",
       "\n",
       "      Seats_7  Seats_8  Seats_9  \n",
       "0           0        0        0  \n",
       "1           0        0        0  \n",
       "2           0        0        0  \n",
       "3           1        0        0  \n",
       "4           0        0        0  \n",
       "...       ...      ...      ...  \n",
       "6014        0        0        0  \n",
       "6015        0        0        0  \n",
       "6016        0        1        0  \n",
       "6017        0        0        0  \n",
       "6018        0        0        0  \n",
       "\n",
       "[5975 rows x 83 columns]"
      ]
     },
     "execution_count": 150,
     "metadata": {},
     "output_type": "execute_result"
    }
   ],
   "source": [
    "data_dummies"
   ]
  },
  {
   "cell_type": "markdown",
   "metadata": {},
   "source": [
    "총 52개의 one-hot-encoding의 결과를 data_dummies에 저장시킨다."
   ]
  },
  {
   "cell_type": "markdown",
   "metadata": {},
   "source": [
    "## 4. 최종 데이터 셋"
   ]
  },
  {
   "cell_type": "markdown",
   "metadata": {},
   "source": [
    "수치형 데이터인 data_num과 범주형 데이터인 data_dummies를 합하여 최종 데이터 data를 만들어준다."
   ]
  },
  {
   "cell_type": "code",
   "execution_count": 151,
   "metadata": {},
   "outputs": [],
   "source": [
    "data_num = dat[['Kilometers_Driven','Mileage','Engine','Power','Price']]\n",
    "data = pd.concat([data_dummies,data_num],axis=1)"
   ]
  },
  {
   "cell_type": "code",
   "execution_count": 152,
   "metadata": {},
   "outputs": [
    {
     "data": {
      "text/html": [
       "<div>\n",
       "<style scoped>\n",
       "    .dataframe tbody tr th:only-of-type {\n",
       "        vertical-align: middle;\n",
       "    }\n",
       "\n",
       "    .dataframe tbody tr th {\n",
       "        vertical-align: top;\n",
       "    }\n",
       "\n",
       "    .dataframe thead th {\n",
       "        text-align: right;\n",
       "    }\n",
       "</style>\n",
       "<table border=\"1\" class=\"dataframe\">\n",
       "  <thead>\n",
       "    <tr style=\"text-align: right;\">\n",
       "      <th></th>\n",
       "      <th>Name_Ambassador</th>\n",
       "      <th>Name_Audi</th>\n",
       "      <th>Name_BMW</th>\n",
       "      <th>Name_Bentley</th>\n",
       "      <th>Name_Chevrolet</th>\n",
       "      <th>Name_Datsun</th>\n",
       "      <th>Name_Fiat</th>\n",
       "      <th>Name_Force</th>\n",
       "      <th>Name_Ford</th>\n",
       "      <th>Name_Honda</th>\n",
       "      <th>...</th>\n",
       "      <th>Seats_5</th>\n",
       "      <th>Seats_6</th>\n",
       "      <th>Seats_7</th>\n",
       "      <th>Seats_8</th>\n",
       "      <th>Seats_9</th>\n",
       "      <th>Kilometers_Driven</th>\n",
       "      <th>Mileage</th>\n",
       "      <th>Engine</th>\n",
       "      <th>Power</th>\n",
       "      <th>Price</th>\n",
       "    </tr>\n",
       "  </thead>\n",
       "  <tbody>\n",
       "    <tr>\n",
       "      <th>0</th>\n",
       "      <td>0</td>\n",
       "      <td>0</td>\n",
       "      <td>0</td>\n",
       "      <td>0</td>\n",
       "      <td>0</td>\n",
       "      <td>0</td>\n",
       "      <td>0</td>\n",
       "      <td>0</td>\n",
       "      <td>0</td>\n",
       "      <td>0</td>\n",
       "      <td>...</td>\n",
       "      <td>1</td>\n",
       "      <td>0</td>\n",
       "      <td>0</td>\n",
       "      <td>0</td>\n",
       "      <td>0</td>\n",
       "      <td>72000</td>\n",
       "      <td>26.60</td>\n",
       "      <td>998.0</td>\n",
       "      <td>58.16</td>\n",
       "      <td>1.75</td>\n",
       "    </tr>\n",
       "    <tr>\n",
       "      <th>1</th>\n",
       "      <td>0</td>\n",
       "      <td>0</td>\n",
       "      <td>0</td>\n",
       "      <td>0</td>\n",
       "      <td>0</td>\n",
       "      <td>0</td>\n",
       "      <td>0</td>\n",
       "      <td>0</td>\n",
       "      <td>0</td>\n",
       "      <td>0</td>\n",
       "      <td>...</td>\n",
       "      <td>1</td>\n",
       "      <td>0</td>\n",
       "      <td>0</td>\n",
       "      <td>0</td>\n",
       "      <td>0</td>\n",
       "      <td>41000</td>\n",
       "      <td>19.67</td>\n",
       "      <td>1582.0</td>\n",
       "      <td>126.20</td>\n",
       "      <td>12.50</td>\n",
       "    </tr>\n",
       "    <tr>\n",
       "      <th>2</th>\n",
       "      <td>0</td>\n",
       "      <td>0</td>\n",
       "      <td>0</td>\n",
       "      <td>0</td>\n",
       "      <td>0</td>\n",
       "      <td>0</td>\n",
       "      <td>0</td>\n",
       "      <td>0</td>\n",
       "      <td>0</td>\n",
       "      <td>1</td>\n",
       "      <td>...</td>\n",
       "      <td>1</td>\n",
       "      <td>0</td>\n",
       "      <td>0</td>\n",
       "      <td>0</td>\n",
       "      <td>0</td>\n",
       "      <td>46000</td>\n",
       "      <td>18.20</td>\n",
       "      <td>1199.0</td>\n",
       "      <td>88.70</td>\n",
       "      <td>4.50</td>\n",
       "    </tr>\n",
       "    <tr>\n",
       "      <th>3</th>\n",
       "      <td>0</td>\n",
       "      <td>0</td>\n",
       "      <td>0</td>\n",
       "      <td>0</td>\n",
       "      <td>0</td>\n",
       "      <td>0</td>\n",
       "      <td>0</td>\n",
       "      <td>0</td>\n",
       "      <td>0</td>\n",
       "      <td>0</td>\n",
       "      <td>...</td>\n",
       "      <td>0</td>\n",
       "      <td>0</td>\n",
       "      <td>1</td>\n",
       "      <td>0</td>\n",
       "      <td>0</td>\n",
       "      <td>87000</td>\n",
       "      <td>20.77</td>\n",
       "      <td>1248.0</td>\n",
       "      <td>88.76</td>\n",
       "      <td>6.00</td>\n",
       "    </tr>\n",
       "    <tr>\n",
       "      <th>4</th>\n",
       "      <td>0</td>\n",
       "      <td>1</td>\n",
       "      <td>0</td>\n",
       "      <td>0</td>\n",
       "      <td>0</td>\n",
       "      <td>0</td>\n",
       "      <td>0</td>\n",
       "      <td>0</td>\n",
       "      <td>0</td>\n",
       "      <td>0</td>\n",
       "      <td>...</td>\n",
       "      <td>1</td>\n",
       "      <td>0</td>\n",
       "      <td>0</td>\n",
       "      <td>0</td>\n",
       "      <td>0</td>\n",
       "      <td>40670</td>\n",
       "      <td>15.20</td>\n",
       "      <td>1968.0</td>\n",
       "      <td>140.80</td>\n",
       "      <td>17.74</td>\n",
       "    </tr>\n",
       "    <tr>\n",
       "      <th>...</th>\n",
       "      <td>...</td>\n",
       "      <td>...</td>\n",
       "      <td>...</td>\n",
       "      <td>...</td>\n",
       "      <td>...</td>\n",
       "      <td>...</td>\n",
       "      <td>...</td>\n",
       "      <td>...</td>\n",
       "      <td>...</td>\n",
       "      <td>...</td>\n",
       "      <td>...</td>\n",
       "      <td>...</td>\n",
       "      <td>...</td>\n",
       "      <td>...</td>\n",
       "      <td>...</td>\n",
       "      <td>...</td>\n",
       "      <td>...</td>\n",
       "      <td>...</td>\n",
       "      <td>...</td>\n",
       "      <td>...</td>\n",
       "      <td>...</td>\n",
       "    </tr>\n",
       "    <tr>\n",
       "      <th>6014</th>\n",
       "      <td>0</td>\n",
       "      <td>0</td>\n",
       "      <td>0</td>\n",
       "      <td>0</td>\n",
       "      <td>0</td>\n",
       "      <td>0</td>\n",
       "      <td>0</td>\n",
       "      <td>0</td>\n",
       "      <td>0</td>\n",
       "      <td>0</td>\n",
       "      <td>...</td>\n",
       "      <td>1</td>\n",
       "      <td>0</td>\n",
       "      <td>0</td>\n",
       "      <td>0</td>\n",
       "      <td>0</td>\n",
       "      <td>27365</td>\n",
       "      <td>28.40</td>\n",
       "      <td>1248.0</td>\n",
       "      <td>74.00</td>\n",
       "      <td>4.75</td>\n",
       "    </tr>\n",
       "    <tr>\n",
       "      <th>6015</th>\n",
       "      <td>0</td>\n",
       "      <td>0</td>\n",
       "      <td>0</td>\n",
       "      <td>0</td>\n",
       "      <td>0</td>\n",
       "      <td>0</td>\n",
       "      <td>0</td>\n",
       "      <td>0</td>\n",
       "      <td>0</td>\n",
       "      <td>0</td>\n",
       "      <td>...</td>\n",
       "      <td>1</td>\n",
       "      <td>0</td>\n",
       "      <td>0</td>\n",
       "      <td>0</td>\n",
       "      <td>0</td>\n",
       "      <td>100000</td>\n",
       "      <td>24.40</td>\n",
       "      <td>1120.0</td>\n",
       "      <td>71.00</td>\n",
       "      <td>4.00</td>\n",
       "    </tr>\n",
       "    <tr>\n",
       "      <th>6016</th>\n",
       "      <td>0</td>\n",
       "      <td>0</td>\n",
       "      <td>0</td>\n",
       "      <td>0</td>\n",
       "      <td>0</td>\n",
       "      <td>0</td>\n",
       "      <td>0</td>\n",
       "      <td>0</td>\n",
       "      <td>0</td>\n",
       "      <td>0</td>\n",
       "      <td>...</td>\n",
       "      <td>0</td>\n",
       "      <td>0</td>\n",
       "      <td>0</td>\n",
       "      <td>1</td>\n",
       "      <td>0</td>\n",
       "      <td>55000</td>\n",
       "      <td>14.00</td>\n",
       "      <td>2498.0</td>\n",
       "      <td>112.00</td>\n",
       "      <td>2.90</td>\n",
       "    </tr>\n",
       "    <tr>\n",
       "      <th>6017</th>\n",
       "      <td>0</td>\n",
       "      <td>0</td>\n",
       "      <td>0</td>\n",
       "      <td>0</td>\n",
       "      <td>0</td>\n",
       "      <td>0</td>\n",
       "      <td>0</td>\n",
       "      <td>0</td>\n",
       "      <td>0</td>\n",
       "      <td>0</td>\n",
       "      <td>...</td>\n",
       "      <td>1</td>\n",
       "      <td>0</td>\n",
       "      <td>0</td>\n",
       "      <td>0</td>\n",
       "      <td>0</td>\n",
       "      <td>46000</td>\n",
       "      <td>18.90</td>\n",
       "      <td>998.0</td>\n",
       "      <td>67.10</td>\n",
       "      <td>2.65</td>\n",
       "    </tr>\n",
       "    <tr>\n",
       "      <th>6018</th>\n",
       "      <td>0</td>\n",
       "      <td>0</td>\n",
       "      <td>0</td>\n",
       "      <td>0</td>\n",
       "      <td>1</td>\n",
       "      <td>0</td>\n",
       "      <td>0</td>\n",
       "      <td>0</td>\n",
       "      <td>0</td>\n",
       "      <td>0</td>\n",
       "      <td>...</td>\n",
       "      <td>1</td>\n",
       "      <td>0</td>\n",
       "      <td>0</td>\n",
       "      <td>0</td>\n",
       "      <td>0</td>\n",
       "      <td>47000</td>\n",
       "      <td>25.44</td>\n",
       "      <td>936.0</td>\n",
       "      <td>57.60</td>\n",
       "      <td>2.50</td>\n",
       "    </tr>\n",
       "  </tbody>\n",
       "</table>\n",
       "<p>5975 rows × 88 columns</p>\n",
       "</div>"
      ],
      "text/plain": [
       "      Name_Ambassador  Name_Audi  Name_BMW  Name_Bentley  Name_Chevrolet  \\\n",
       "0                   0          0         0             0               0   \n",
       "1                   0          0         0             0               0   \n",
       "2                   0          0         0             0               0   \n",
       "3                   0          0         0             0               0   \n",
       "4                   0          1         0             0               0   \n",
       "...               ...        ...       ...           ...             ...   \n",
       "6014                0          0         0             0               0   \n",
       "6015                0          0         0             0               0   \n",
       "6016                0          0         0             0               0   \n",
       "6017                0          0         0             0               0   \n",
       "6018                0          0         0             0               1   \n",
       "\n",
       "      Name_Datsun  Name_Fiat  Name_Force  Name_Ford  Name_Honda  ...  Seats_5  \\\n",
       "0               0          0           0          0           0  ...        1   \n",
       "1               0          0           0          0           0  ...        1   \n",
       "2               0          0           0          0           1  ...        1   \n",
       "3               0          0           0          0           0  ...        0   \n",
       "4               0          0           0          0           0  ...        1   \n",
       "...           ...        ...         ...        ...         ...  ...      ...   \n",
       "6014            0          0           0          0           0  ...        1   \n",
       "6015            0          0           0          0           0  ...        1   \n",
       "6016            0          0           0          0           0  ...        0   \n",
       "6017            0          0           0          0           0  ...        1   \n",
       "6018            0          0           0          0           0  ...        1   \n",
       "\n",
       "      Seats_6  Seats_7  Seats_8  Seats_9  Kilometers_Driven  Mileage  Engine  \\\n",
       "0           0        0        0        0              72000    26.60   998.0   \n",
       "1           0        0        0        0              41000    19.67  1582.0   \n",
       "2           0        0        0        0              46000    18.20  1199.0   \n",
       "3           0        1        0        0              87000    20.77  1248.0   \n",
       "4           0        0        0        0              40670    15.20  1968.0   \n",
       "...       ...      ...      ...      ...                ...      ...     ...   \n",
       "6014        0        0        0        0              27365    28.40  1248.0   \n",
       "6015        0        0        0        0             100000    24.40  1120.0   \n",
       "6016        0        0        1        0              55000    14.00  2498.0   \n",
       "6017        0        0        0        0              46000    18.90   998.0   \n",
       "6018        0        0        0        0              47000    25.44   936.0   \n",
       "\n",
       "       Power  Price  \n",
       "0      58.16   1.75  \n",
       "1     126.20  12.50  \n",
       "2      88.70   4.50  \n",
       "3      88.76   6.00  \n",
       "4     140.80  17.74  \n",
       "...      ...    ...  \n",
       "6014   74.00   4.75  \n",
       "6015   71.00   4.00  \n",
       "6016  112.00   2.90  \n",
       "6017   67.10   2.65  \n",
       "6018   57.60   2.50  \n",
       "\n",
       "[5975 rows x 88 columns]"
      ]
     },
     "execution_count": 152,
     "metadata": {},
     "output_type": "execute_result"
    }
   ],
   "source": [
    "data"
   ]
  },
  {
   "cell_type": "markdown",
   "metadata": {},
   "source": [
    "# Data Analysis(데이터 분석)"
   ]
  },
  {
   "cell_type": "markdown",
   "metadata": {},
   "source": [
    "## 1. 데이터의 경향성 확인"
   ]
  },
  {
   "cell_type": "markdown",
   "metadata": {},
   "source": [
    "데이터 전처리를 통해 나온 최종 데이터 셋과 수치형, 범주형 변수들에 대한 데이터셋을 다시한번 정의한 후 분석을 진행하고자 한다."
   ]
  },
  {
   "cell_type": "code",
   "execution_count": 153,
   "metadata": {},
   "outputs": [],
   "source": [
    "dat_num = data_num.copy() # 수치형 변수 데이터\n",
    "dat_cat = data_cat.copy() # 범주형 변수 데이터\n",
    "dat_dummies = data_dummies.copy() #더미변수화 시킨 범주형 변수 데이터\n",
    "dat = data.copy()"
   ]
  },
  {
   "cell_type": "markdown",
   "metadata": {},
   "source": [
    "### 1-1 수치형 설명변수의 산점도 및 상관관계 분석"
   ]
  },
  {
   "cell_type": "code",
   "execution_count": 154,
   "metadata": {},
   "outputs": [
    {
     "data": {
      "text/plain": [
       "<Figure size 1000x800 with 0 Axes>"
      ]
     },
     "metadata": {},
     "output_type": "display_data"
    },
    {
     "data": {
      "image/png": "[encoded data removed]",
      "text/plain": [
       "<Figure size 1250x1250 with 30 Axes>"
      ]
     },
     "metadata": {},
     "output_type": "display_data"
    }
   ],
   "source": [
    "plt.figure(figsize=(10,8))\n",
    "sns.pairplot(dat_num, diag_kind = 'hist')\n",
    "plt.show()"
   ]
  },
  {
   "cell_type": "markdown",
   "metadata": {},
   "source": [
    "해당 변수들의 산점도 행렬을 통해 중간중간 이상치들을 확인해볼 수 있다.  \n",
    "적절한 이상치 제거를 할 필요가 있다고 판단된다.  "
   ]
  },
  {
   "cell_type": "code",
   "execution_count": 155,
   "metadata": {},
   "outputs": [
    {
     "data": {
      "text/plain": [
       "<AxesSubplot: >"
      ]
     },
     "execution_count": 155,
     "metadata": {},
     "output_type": "execute_result"
    },
    {
     "data": {
      "image/png": "[encoded data removed]",
      "text/plain": [
       "<Figure size 1000x800 with 2 Axes>"
      ]
     },
     "metadata": {},
     "output_type": "display_data"
    }
   ],
   "source": [
    "plt.figure(figsize=(10,8))\n",
    "sns.heatmap(data = dat_num.corr(), annot=True, fmt = '.2f', linewidths=.5, cmap='viridis')"
   ]
  },
  {
   "cell_type": "markdown",
   "metadata": {},
   "source": [
    "상관관계 heatmap을 통해 변수 간의 상관관계를 알아볼 수 있다.\n",
    "\n",
    "* Engine과 Power는 0.86의 상관계수로 높은 양의 상관성을 가지고 있다.\n",
    "* Power와 Engine은 모두 Price(반응변수)와 양의 상관성을 가지고 있다.\n",
    "* Power와 Engine은 Mileage와 음의 상관성을 가지고 있다."
   ]
  },
  {
   "cell_type": "markdown",
   "metadata": {},
   "source": [
    "#### 1-1-a 이상치 탐색"
   ]
  },
  {
   "cell_type": "code",
   "execution_count": 156,
   "metadata": {},
   "outputs": [
    {
     "data": {
      "text/plain": [
       "Text(0.5, 0.98, '이산형 변수 히스토그램')"
      ]
     },
     "execution_count": 156,
     "metadata": {},
     "output_type": "execute_result"
    },
    {
     "data": {
      "image/png": "[encoded data removed]",
      "text/plain": [
       "<Figure size 2000x1500 with 6 Axes>"
      ]
     },
     "metadata": {},
     "output_type": "display_data"
    }
   ],
   "source": [
    "dat_num.hist(bins=30, figsize=(20,15))\n",
    "plt.suptitle(\"이산형 변수 히스토그램\", fontsize=20)"
   ]
  },
  {
   "cell_type": "code",
   "execution_count": 157,
   "metadata": {},
   "outputs": [
    {
     "data": {
      "image/png": "[encoded data removed]",
      "text/plain": [
       "<Figure size 800x400 with 1 Axes>"
      ]
     },
     "metadata": {},
     "output_type": "display_data"
    },
    {
     "data": {
      "image/png": "[encoded data removed]",
      "text/plain": [
       "<Figure size 800x400 with 1 Axes>"
      ]
     },
     "metadata": {},
     "output_type": "display_data"
    },
    {
     "data": {
      "image/png": "[encoded data removed]",
      "text/plain": [
       "<Figure size 800x400 with 1 Axes>"
      ]
     },
     "metadata": {},
     "output_type": "display_data"
    },
    {
     "data": {
      "image/png": "[encoded data removed]",
      "text/plain": [
       "<Figure size 800x400 with 1 Axes>"
      ]
     },
     "metadata": {},
     "output_type": "display_data"
    },
    {
     "data": {
      "image/png": "[encoded data removed]",
      "text/plain": [
       "<Figure size 800x400 with 1 Axes>"
      ]
     },
     "metadata": {},
     "output_type": "display_data"
    }
   ],
   "source": [
    "for i, col in enumerate(dat_num.columns):\n",
    "    plt.figure(figsize=(8,4))\n",
    "    sns.boxplot(dat_num[col], palette=\"Spectral\")\n",
    "    plt.title(col)\n",
    "    plt.xlabel(col, size = 12)\n",
    "    plt.tight_layout()"
   ]
  },
  {
   "cell_type": "markdown",
   "metadata": {},
   "source": [
    "히스토그램을 보면 Kilometers_Driven의 첫번째 값이 압도적인 크기를 가지고 있음을 확인할 수 있다.  \n",
    "또한 boxplot을 통해서도 다른 변수들에 비해 Kilometers_Driven의 이상치 점이 가장 차이가 많은 이상치 점이라고 판단된다.  \n",
    "따라서 해당 데이터를 제거해준다."
   ]
  },
  {
   "cell_type": "code",
   "execution_count": 158,
   "metadata": {},
   "outputs": [
    {
     "data": {
      "text/plain": [
       "1361        171\n",
       "5606        600\n",
       "2646       1000\n",
       "2054       1000\n",
       "173        1000\n",
       "         ...   \n",
       "3092     480000\n",
       "358      620000\n",
       "1860     720000\n",
       "340      775000\n",
       "2328    6500000\n",
       "Name: Kilometers_Driven, Length: 5975, dtype: int64"
      ]
     },
     "execution_count": 158,
     "metadata": {},
     "output_type": "execute_result"
    }
   ],
   "source": [
    "dat['Kilometers_Driven'].sort_values()"
   ]
  },
  {
   "cell_type": "markdown",
   "metadata": {},
   "source": [
    "해당 점은 2328번째 데이터의 값으로 Kilometers_Driven이 다른 값들에 비해 월등히 높은 6500000값이 나왔기 때문에 제거해준다."
   ]
  },
  {
   "cell_type": "code",
   "execution_count": 159,
   "metadata": {},
   "outputs": [],
   "source": [
    "dat = dat.drop(2328)"
   ]
  },
  {
   "cell_type": "markdown",
   "metadata": {},
   "source": [
    "### 1-2 범주형 변수의 경향성 분석"
   ]
  },
  {
   "cell_type": "code",
   "execution_count": 160,
   "metadata": {},
   "outputs": [
    {
     "data": {
      "image/png": "[encoded data removed]",
      "text/plain": [
       "<Figure size 800x400 with 1 Axes>"
      ]
     },
     "metadata": {},
     "output_type": "display_data"
    },
    {
     "data": {
      "image/png": "[encoded data removed]",
      "text/plain": [
       "<Figure size 800x400 with 1 Axes>"
      ]
     },
     "metadata": {},
     "output_type": "display_data"
    },
    {
     "data": {
      "image/png": "[encoded data removed]",
      "text/plain": [
       "<Figure size 800x400 with 1 Axes>"
      ]
     },
     "metadata": {},
     "output_type": "display_data"
    },
    {
     "data": {
      "image/png": "[encoded data removed]",
      "text/plain": [
       "<Figure size 800x400 with 1 Axes>"
      ]
     },
     "metadata": {},
     "output_type": "display_data"
    },
    {
     "data": {
      "image/png": "[encoded data removed]",
      "text/plain": [
       "<Figure size 800x400 with 1 Axes>"
      ]
     },
     "metadata": {},
     "output_type": "display_data"
    },
    {
     "data": {
      "image/png": "[encoded data removed]",
      "text/plain": [
       "<Figure size 800x400 with 1 Axes>"
      ]
     },
     "metadata": {},
     "output_type": "display_data"
    },
    {
     "data": {
      "image/png": "[encoded data removed]",
      "text/plain": [
       "<Figure size 800x400 with 1 Axes>"
      ]
     },
     "metadata": {},
     "output_type": "display_data"
    }
   ],
   "source": [
    "for i, col in enumerate(dat_cat.columns):\n",
    "    plt.figure(figsize=(8,4))\n",
    "    sns.countplot(x = col, data = dat_cat, palette=\"Spectral\")\n",
    "    plt.title(col)\n",
    "    plt.xticks(rotation = 90)\n",
    "    plt.xlabel(col, size = 12)\n",
    "    plt.tight_layout()"
   ]
  },
  {
   "cell_type": "markdown",
   "metadata": {},
   "source": [
    "범주형 변수의 경향을 파악해보자.\n",
    "\n",
    "* Name : Maruti가 가장 많은 수를 가지고 있고 그 뒤를 Hyundai가 따르고 있다. 가장 작은 차종은 Lamborghini이다.\n",
    "* Location : 차량을 구매할 수 있는 위치는 대부분 고르게 분포되어 있음을 확인할 수 있다.\n",
    "* Fuel_Type : 연료의 종류는 대부분이 Diesel(디젤)과 Petrol(가솔린)이다.\n",
    "* Transmission : 변속기는 manual(수동)이 Automatic(자동)보다 두배이상 많다.\n",
    "* Owner_Type : 대부분이 first에 몰려 있고 second부터는 그 수가 매우 감소함을 볼 수 있다.\n",
    "* Year : 대부분 2010년 이후의 값들에 많이 몰려있음을 볼 수 있다.\n",
    "* Seats : 대부분이 5개 seat에 몰려있고 나머지는 거의 업음을 볼 수 있다."
   ]
  },
  {
   "cell_type": "markdown",
   "metadata": {},
   "source": [
    "## 2. 회귀분석 진행"
   ]
  },
  {
   "cell_type": "markdown",
   "metadata": {},
   "source": [
    "### 2-1 선형 회귀분석"
   ]
  },
  {
   "cell_type": "code",
   "execution_count": 161,
   "metadata": {},
   "outputs": [
    {
     "data": {
      "text/html": [
       "<div>\n",
       "<style scoped>\n",
       "    .dataframe tbody tr th:only-of-type {\n",
       "        vertical-align: middle;\n",
       "    }\n",
       "\n",
       "    .dataframe tbody tr th {\n",
       "        vertical-align: top;\n",
       "    }\n",
       "\n",
       "    .dataframe thead th {\n",
       "        text-align: right;\n",
       "    }\n",
       "</style>\n",
       "<table border=\"1\" class=\"dataframe\">\n",
       "  <thead>\n",
       "    <tr style=\"text-align: right;\">\n",
       "      <th></th>\n",
       "      <th>Name_Ambassador</th>\n",
       "      <th>Name_Audi</th>\n",
       "      <th>Name_BMW</th>\n",
       "      <th>Name_Bentley</th>\n",
       "      <th>Name_Chevrolet</th>\n",
       "      <th>Name_Datsun</th>\n",
       "      <th>Name_Fiat</th>\n",
       "      <th>Name_Force</th>\n",
       "      <th>Name_Ford</th>\n",
       "      <th>Name_Honda</th>\n",
       "      <th>...</th>\n",
       "      <th>Seats_5</th>\n",
       "      <th>Seats_6</th>\n",
       "      <th>Seats_7</th>\n",
       "      <th>Seats_8</th>\n",
       "      <th>Seats_9</th>\n",
       "      <th>Kilometers_Driven</th>\n",
       "      <th>Mileage</th>\n",
       "      <th>Engine</th>\n",
       "      <th>Power</th>\n",
       "      <th>Price</th>\n",
       "    </tr>\n",
       "  </thead>\n",
       "  <tbody>\n",
       "    <tr>\n",
       "      <th>0</th>\n",
       "      <td>0</td>\n",
       "      <td>0</td>\n",
       "      <td>0</td>\n",
       "      <td>0</td>\n",
       "      <td>0</td>\n",
       "      <td>0</td>\n",
       "      <td>0</td>\n",
       "      <td>0</td>\n",
       "      <td>0</td>\n",
       "      <td>0</td>\n",
       "      <td>...</td>\n",
       "      <td>1</td>\n",
       "      <td>0</td>\n",
       "      <td>0</td>\n",
       "      <td>0</td>\n",
       "      <td>0</td>\n",
       "      <td>72000</td>\n",
       "      <td>26.60</td>\n",
       "      <td>998.0</td>\n",
       "      <td>58.16</td>\n",
       "      <td>1.75</td>\n",
       "    </tr>\n",
       "    <tr>\n",
       "      <th>1</th>\n",
       "      <td>0</td>\n",
       "      <td>0</td>\n",
       "      <td>0</td>\n",
       "      <td>0</td>\n",
       "      <td>0</td>\n",
       "      <td>0</td>\n",
       "      <td>0</td>\n",
       "      <td>0</td>\n",
       "      <td>0</td>\n",
       "      <td>0</td>\n",
       "      <td>...</td>\n",
       "      <td>1</td>\n",
       "      <td>0</td>\n",
       "      <td>0</td>\n",
       "      <td>0</td>\n",
       "      <td>0</td>\n",
       "      <td>41000</td>\n",
       "      <td>19.67</td>\n",
       "      <td>1582.0</td>\n",
       "      <td>126.20</td>\n",
       "      <td>12.50</td>\n",
       "    </tr>\n",
       "    <tr>\n",
       "      <th>2</th>\n",
       "      <td>0</td>\n",
       "      <td>0</td>\n",
       "      <td>0</td>\n",
       "      <td>0</td>\n",
       "      <td>0</td>\n",
       "      <td>0</td>\n",
       "      <td>0</td>\n",
       "      <td>0</td>\n",
       "      <td>0</td>\n",
       "      <td>1</td>\n",
       "      <td>...</td>\n",
       "      <td>1</td>\n",
       "      <td>0</td>\n",
       "      <td>0</td>\n",
       "      <td>0</td>\n",
       "      <td>0</td>\n",
       "      <td>46000</td>\n",
       "      <td>18.20</td>\n",
       "      <td>1199.0</td>\n",
       "      <td>88.70</td>\n",
       "      <td>4.50</td>\n",
       "    </tr>\n",
       "    <tr>\n",
       "      <th>3</th>\n",
       "      <td>0</td>\n",
       "      <td>0</td>\n",
       "      <td>0</td>\n",
       "      <td>0</td>\n",
       "      <td>0</td>\n",
       "      <td>0</td>\n",
       "      <td>0</td>\n",
       "      <td>0</td>\n",
       "      <td>0</td>\n",
       "      <td>0</td>\n",
       "      <td>...</td>\n",
       "      <td>0</td>\n",
       "      <td>0</td>\n",
       "      <td>1</td>\n",
       "      <td>0</td>\n",
       "      <td>0</td>\n",
       "      <td>87000</td>\n",
       "      <td>20.77</td>\n",
       "      <td>1248.0</td>\n",
       "      <td>88.76</td>\n",
       "      <td>6.00</td>\n",
       "    </tr>\n",
       "    <tr>\n",
       "      <th>4</th>\n",
       "      <td>0</td>\n",
       "      <td>1</td>\n",
       "      <td>0</td>\n",
       "      <td>0</td>\n",
       "      <td>0</td>\n",
       "      <td>0</td>\n",
       "      <td>0</td>\n",
       "      <td>0</td>\n",
       "      <td>0</td>\n",
       "      <td>0</td>\n",
       "      <td>...</td>\n",
       "      <td>1</td>\n",
       "      <td>0</td>\n",
       "      <td>0</td>\n",
       "      <td>0</td>\n",
       "      <td>0</td>\n",
       "      <td>40670</td>\n",
       "      <td>15.20</td>\n",
       "      <td>1968.0</td>\n",
       "      <td>140.80</td>\n",
       "      <td>17.74</td>\n",
       "    </tr>\n",
       "    <tr>\n",
       "      <th>...</th>\n",
       "      <td>...</td>\n",
       "      <td>...</td>\n",
       "      <td>...</td>\n",
       "      <td>...</td>\n",
       "      <td>...</td>\n",
       "      <td>...</td>\n",
       "      <td>...</td>\n",
       "      <td>...</td>\n",
       "      <td>...</td>\n",
       "      <td>...</td>\n",
       "      <td>...</td>\n",
       "      <td>...</td>\n",
       "      <td>...</td>\n",
       "      <td>...</td>\n",
       "      <td>...</td>\n",
       "      <td>...</td>\n",
       "      <td>...</td>\n",
       "      <td>...</td>\n",
       "      <td>...</td>\n",
       "      <td>...</td>\n",
       "      <td>...</td>\n",
       "    </tr>\n",
       "    <tr>\n",
       "      <th>6014</th>\n",
       "      <td>0</td>\n",
       "      <td>0</td>\n",
       "      <td>0</td>\n",
       "      <td>0</td>\n",
       "      <td>0</td>\n",
       "      <td>0</td>\n",
       "      <td>0</td>\n",
       "      <td>0</td>\n",
       "      <td>0</td>\n",
       "      <td>0</td>\n",
       "      <td>...</td>\n",
       "      <td>1</td>\n",
       "      <td>0</td>\n",
       "      <td>0</td>\n",
       "      <td>0</td>\n",
       "      <td>0</td>\n",
       "      <td>27365</td>\n",
       "      <td>28.40</td>\n",
       "      <td>1248.0</td>\n",
       "      <td>74.00</td>\n",
       "      <td>4.75</td>\n",
       "    </tr>\n",
       "    <tr>\n",
       "      <th>6015</th>\n",
       "      <td>0</td>\n",
       "      <td>0</td>\n",
       "      <td>0</td>\n",
       "      <td>0</td>\n",
       "      <td>0</td>\n",
       "      <td>0</td>\n",
       "      <td>0</td>\n",
       "      <td>0</td>\n",
       "      <td>0</td>\n",
       "      <td>0</td>\n",
       "      <td>...</td>\n",
       "      <td>1</td>\n",
       "      <td>0</td>\n",
       "      <td>0</td>\n",
       "      <td>0</td>\n",
       "      <td>0</td>\n",
       "      <td>100000</td>\n",
       "      <td>24.40</td>\n",
       "      <td>1120.0</td>\n",
       "      <td>71.00</td>\n",
       "      <td>4.00</td>\n",
       "    </tr>\n",
       "    <tr>\n",
       "      <th>6016</th>\n",
       "      <td>0</td>\n",
       "      <td>0</td>\n",
       "      <td>0</td>\n",
       "      <td>0</td>\n",
       "      <td>0</td>\n",
       "      <td>0</td>\n",
       "      <td>0</td>\n",
       "      <td>0</td>\n",
       "      <td>0</td>\n",
       "      <td>0</td>\n",
       "      <td>...</td>\n",
       "      <td>0</td>\n",
       "      <td>0</td>\n",
       "      <td>0</td>\n",
       "      <td>1</td>\n",
       "      <td>0</td>\n",
       "      <td>55000</td>\n",
       "      <td>14.00</td>\n",
       "      <td>2498.0</td>\n",
       "      <td>112.00</td>\n",
       "      <td>2.90</td>\n",
       "    </tr>\n",
       "    <tr>\n",
       "      <th>6017</th>\n",
       "      <td>0</td>\n",
       "      <td>0</td>\n",
       "      <td>0</td>\n",
       "      <td>0</td>\n",
       "      <td>0</td>\n",
       "      <td>0</td>\n",
       "      <td>0</td>\n",
       "      <td>0</td>\n",
       "      <td>0</td>\n",
       "      <td>0</td>\n",
       "      <td>...</td>\n",
       "      <td>1</td>\n",
       "      <td>0</td>\n",
       "      <td>0</td>\n",
       "      <td>0</td>\n",
       "      <td>0</td>\n",
       "      <td>46000</td>\n",
       "      <td>18.90</td>\n",
       "      <td>998.0</td>\n",
       "      <td>67.10</td>\n",
       "      <td>2.65</td>\n",
       "    </tr>\n",
       "    <tr>\n",
       "      <th>6018</th>\n",
       "      <td>0</td>\n",
       "      <td>0</td>\n",
       "      <td>0</td>\n",
       "      <td>0</td>\n",
       "      <td>1</td>\n",
       "      <td>0</td>\n",
       "      <td>0</td>\n",
       "      <td>0</td>\n",
       "      <td>0</td>\n",
       "      <td>0</td>\n",
       "      <td>...</td>\n",
       "      <td>1</td>\n",
       "      <td>0</td>\n",
       "      <td>0</td>\n",
       "      <td>0</td>\n",
       "      <td>0</td>\n",
       "      <td>47000</td>\n",
       "      <td>25.44</td>\n",
       "      <td>936.0</td>\n",
       "      <td>57.60</td>\n",
       "      <td>2.50</td>\n",
       "    </tr>\n",
       "  </tbody>\n",
       "</table>\n",
       "<p>5974 rows × 88 columns</p>\n",
       "</div>"
      ],
      "text/plain": [
       "      Name_Ambassador  Name_Audi  Name_BMW  Name_Bentley  Name_Chevrolet  \\\n",
       "0                   0          0         0             0               0   \n",
       "1                   0          0         0             0               0   \n",
       "2                   0          0         0             0               0   \n",
       "3                   0          0         0             0               0   \n",
       "4                   0          1         0             0               0   \n",
       "...               ...        ...       ...           ...             ...   \n",
       "6014                0          0         0             0               0   \n",
       "6015                0          0         0             0               0   \n",
       "6016                0          0         0             0               0   \n",
       "6017                0          0         0             0               0   \n",
       "6018                0          0         0             0               1   \n",
       "\n",
       "      Name_Datsun  Name_Fiat  Name_Force  Name_Ford  Name_Honda  ...  Seats_5  \\\n",
       "0               0          0           0          0           0  ...        1   \n",
       "1               0          0           0          0           0  ...        1   \n",
       "2               0          0           0          0           1  ...        1   \n",
       "3               0          0           0          0           0  ...        0   \n",
       "4               0          0           0          0           0  ...        1   \n",
       "...           ...        ...         ...        ...         ...  ...      ...   \n",
       "6014            0          0           0          0           0  ...        1   \n",
       "6015            0          0           0          0           0  ...        1   \n",
       "6016            0          0           0          0           0  ...        0   \n",
       "6017            0          0           0          0           0  ...        1   \n",
       "6018            0          0           0          0           0  ...        1   \n",
       "\n",
       "      Seats_6  Seats_7  Seats_8  Seats_9  Kilometers_Driven  Mileage  Engine  \\\n",
       "0           0        0        0        0              72000    26.60   998.0   \n",
       "1           0        0        0        0              41000    19.67  1582.0   \n",
       "2           0        0        0        0              46000    18.20  1199.0   \n",
       "3           0        1        0        0              87000    20.77  1248.0   \n",
       "4           0        0        0        0              40670    15.20  1968.0   \n",
       "...       ...      ...      ...      ...                ...      ...     ...   \n",
       "6014        0        0        0        0              27365    28.40  1248.0   \n",
       "6015        0        0        0        0             100000    24.40  1120.0   \n",
       "6016        0        0        1        0              55000    14.00  2498.0   \n",
       "6017        0        0        0        0              46000    18.90   998.0   \n",
       "6018        0        0        0        0              47000    25.44   936.0   \n",
       "\n",
       "       Power  Price  \n",
       "0      58.16   1.75  \n",
       "1     126.20  12.50  \n",
       "2      88.70   4.50  \n",
       "3      88.76   6.00  \n",
       "4     140.80  17.74  \n",
       "...      ...    ...  \n",
       "6014   74.00   4.75  \n",
       "6015   71.00   4.00  \n",
       "6016  112.00   2.90  \n",
       "6017   67.10   2.65  \n",
       "6018   57.60   2.50  \n",
       "\n",
       "[5974 rows x 88 columns]"
      ]
     },
     "execution_count": 161,
     "metadata": {},
     "output_type": "execute_result"
    }
   ],
   "source": [
    "dat"
   ]
  },
  {
   "cell_type": "markdown",
   "metadata": {},
   "source": [
    "여기서 각 변수들의 단위들이 모두 다르기 때문에 scale과정이 필요하다.  \n",
    "따라서 MinMaxScaler를 통해 적절히 스케일링을 해준 뒤 회귀분석을 진행한다."
   ]
  },
  {
   "cell_type": "code",
   "execution_count": 162,
   "metadata": {},
   "outputs": [],
   "source": [
    "from sklearn.linear_model import LinearRegression\n",
    "from sklearn.preprocessing import MinMaxScaler\n",
    "from sklearn.model_selection import train_test_split\n",
    "from sklearn.pipeline import make_pipeline\n",
    "from sklearn.pipeline import Pipeline"
   ]
  },
  {
   "cell_type": "code",
   "execution_count": 163,
   "metadata": {},
   "outputs": [],
   "source": [
    "X = dat.drop(columns = ['Price'], axis=1).to_numpy()\n",
    "y = dat['Price'].to_numpy()"
   ]
  },
  {
   "cell_type": "code",
   "execution_count": 164,
   "metadata": {},
   "outputs": [
    {
     "data": {
      "text/plain": [
       "((5974, 87), (5974,))"
      ]
     },
     "execution_count": 164,
     "metadata": {},
     "output_type": "execute_result"
    }
   ],
   "source": [
    "X.shape, y.shape  # n = 5975, p = 87 인 X행렬, 5975개의 값들을 가진 y벡터"
   ]
  },
  {
   "cell_type": "code",
   "execution_count": 165,
   "metadata": {},
   "outputs": [
    {
     "name": "stdout",
     "output_type": "stream",
     "text": [
      "model accuarcay : 0.7990563544384355\n"
     ]
    }
   ],
   "source": [
    "scaler = MinMaxScaler()\n",
    "X_scale = scaler.fit_transform(X)\n",
    "\n",
    "model = LinearRegression()\n",
    "model.fit(X_scale, y)\n",
    "\n",
    "print(\"model accuarcay : {}\".format(model.score(X_scale, y)))"
   ]
  },
  {
   "cell_type": "markdown",
   "metadata": {},
   "source": [
    "최종 데이터를 바탕으로 sklearn을 통해 회귀분석을 진행해본 결과 약 0.8(0.799)의 정확도를 보여주었다."
   ]
  },
  {
   "cell_type": "code",
   "execution_count": 166,
   "metadata": {},
   "outputs": [
    {
     "name": "stdout",
     "output_type": "stream",
     "text": [
      "7868655592116.17\n",
      "[-2.64736381e+11 -2.64736381e+11 -2.64736381e+11 -2.64736381e+11\n",
      " -2.64736381e+11 -2.64736381e+11 -2.64736381e+11 -2.64736381e+11\n",
      " -2.64736381e+11 -2.64736381e+11 -2.64736381e+11 -2.64736381e+11\n",
      " -2.64736381e+11 -2.64736381e+11 -2.64736381e+11 -2.64736381e+11\n",
      " -2.64736381e+11 -2.64736381e+11 -2.64736381e+11 -2.64736381e+11\n",
      " -2.64736381e+11 -2.64736381e+11 -2.64736381e+11 -2.64736381e+11\n",
      " -2.64736381e+11 -2.64736381e+11 -2.64736381e+11 -2.64736381e+11\n",
      " -2.64736381e+11 -2.64736381e+11 -2.64736381e+11  1.74183972e+12\n",
      "  1.74183972e+12  1.74183972e+12  1.74183972e+12  1.74183972e+12\n",
      "  1.74183972e+12  1.74183972e+12  1.74183972e+12  1.74183972e+12\n",
      "  1.74183972e+12  1.74183972e+12 -8.72253381e+12 -8.72253381e+12\n",
      " -8.72253381e+12 -8.72253381e+12  1.18358623e+12  1.18358623e+12\n",
      " -3.96024333e+12 -3.96024333e+12 -3.96024333e+12 -3.96024333e+12\n",
      "  1.29375542e+12  1.29375542e+12  1.29375542e+12  1.29375542e+12\n",
      "  1.29375542e+12  1.29375542e+12  1.29375542e+12  1.29375542e+12\n",
      "  1.29375542e+12  1.29375542e+12  1.29375542e+12  1.29375542e+12\n",
      "  1.29375542e+12  1.29375542e+12  1.29375542e+12  1.29375542e+12\n",
      "  1.29375542e+12  1.29375542e+12  1.29375542e+12  1.29375542e+12\n",
      "  1.29375542e+12  1.29375542e+12  8.59676560e+11  8.59676560e+11\n",
      "  8.59676560e+11  8.59676560e+11  8.59676560e+11  8.59676560e+11\n",
      "  8.59676560e+11  8.59676560e+11  8.59676560e+11 -1.22148094e+01\n",
      " -3.07557678e+00  7.53328705e+00  4.09845581e+01]\n"
     ]
    }
   ],
   "source": [
    "print(model.intercept_)   # intercept\n",
    "print(model.coef_)   # 추정된 회귀계수 (intercept 제외)"
   ]
  },
  {
   "cell_type": "markdown",
   "metadata": {},
   "source": [
    "그리고 이때 위와 같은 모델의 편향(intercept)값과 가중치 벡터(coef)를 확인할 수 있다."
   ]
  },
  {
   "cell_type": "markdown",
   "metadata": {},
   "source": [
    "### 2-2 회귀진단"
   ]
  },
  {
   "cell_type": "markdown",
   "metadata": {},
   "source": [
    "경향성 파악과 모델의 회귀분석 결과를 살펴본 뒤 적합성을 확인해보도록 한다.  \n",
    "적합성 확인은 statsmodels의 ols를 이용하여 그 결과를 알아볼 수 있다."
   ]
  },
  {
   "cell_type": "code",
   "execution_count": 167,
   "metadata": {},
   "outputs": [],
   "source": [
    "import statsmodels.api as sm"
   ]
  },
  {
   "cell_type": "code",
   "execution_count": 168,
   "metadata": {},
   "outputs": [
    {
     "data": {
      "text/plain": [
       "'Price'"
      ]
     },
     "execution_count": 168,
     "metadata": {},
     "output_type": "execute_result"
    }
   ],
   "source": [
    "dat_list = list(dat.columns.values)\n",
    "dat_list.pop()"
   ]
  },
  {
   "cell_type": "code",
   "execution_count": 175,
   "metadata": {},
   "outputs": [
    {
     "name": "stdout",
     "output_type": "stream",
     "text": [
      "                            OLS Regression Results                            \n",
      "==============================================================================\n",
      "Dep. Variable:                      y   R-squared:                       0.799\n",
      "Model:                            OLS   Adj. R-squared:                  0.796\n",
      "Method:                 Least Squares   F-statistic:                     292.9\n",
      "Date:                Fri, 27 Jan 2023   Prob (F-statistic):               0.00\n",
      "Time:                        16:11:49   Log-Likelihood:                -18107.\n",
      "No. Observations:                5974   AIC:                         3.638e+04\n",
      "Df Residuals:                    5893   BIC:                         3.692e+04\n",
      "Df Model:                          80                                         \n",
      "Covariance Type:            nonrobust                                         \n",
      "==============================================================================\n",
      "                 coef    std err          t      P>|t|      [0.025      0.975]\n",
      "------------------------------------------------------------------------------\n",
      "x1            -0.9214      5.099     -0.181      0.857     -10.917       9.074\n",
      "x2             5.2275      0.545      9.597      0.000       4.160       6.295\n",
      "x3             4.5070      0.549      8.216      0.000       3.432       5.582\n",
      "x4             5.1491      5.068      1.016      0.310      -4.785      15.083\n",
      "x5            -4.6283      0.631     -7.333      0.000      -5.866      -3.391\n",
      "x6            -7.3758      1.452     -5.080      0.000     -10.222      -4.530\n",
      "x7            -4.2938      1.081     -3.972      0.000      -6.413      -2.174\n",
      "x8            -7.7498      2.873     -2.698      0.007     -13.381      -2.118\n",
      "x9            -4.1505      0.524     -7.925      0.000      -5.177      -3.124\n",
      "x10           -4.9767      0.488    -10.193      0.000      -5.934      -4.020\n",
      "x11           -4.4691      0.471     -9.495      0.000      -5.392      -3.546\n",
      "x12          -10.4003      3.500     -2.972      0.003     -17.261      -3.540\n",
      "x13           -6.6587      4.923     -1.353      0.176     -16.310       2.993\n",
      "x14           11.8556      0.906     13.085      0.000      10.079      13.632\n",
      "x15           -4.2486      1.347     -3.153      0.002      -6.890      -1.607\n",
      "x16           55.3623      5.157     10.734      0.000      45.252      65.473\n",
      "x17           18.3847      0.790     23.279      0.000      16.836      19.933\n",
      "x18           -8.0991      0.570    -14.214      0.000      -9.216      -6.982\n",
      "x19           -3.7790      0.485     -7.784      0.000      -4.731      -2.827\n",
      "x20            6.1898      0.515     12.015      0.000       5.180       7.200\n",
      "x21            7.9290      1.091      7.270      0.000       5.791      10.067\n",
      "x22           -4.4469      1.158     -3.839      0.000      -6.718      -2.176\n",
      "x23           -4.0726      0.681     -5.979      0.000      -5.408      -2.737\n",
      "x24           14.0941      1.294     10.896      0.000      11.558      16.630\n",
      "x25           -5.0801      0.605     -8.391      0.000      -6.267      -3.893\n",
      "x26           -4.2832      0.570     -7.511      0.000      -5.401      -3.165\n",
      "x27          -20.6906      5.163     -4.008      0.000     -30.812     -10.569\n",
      "x28           -6.4957      0.581    -11.187      0.000      -7.634      -5.357\n",
      "x29           -3.5861      0.525     -6.832      0.000      -4.615      -2.557\n",
      "x30           -4.5776      0.520     -8.804      0.000      -5.597      -3.558\n",
      "x31           -0.0843      1.158     -0.073      0.942      -2.355       2.187\n",
      "x32           -0.0580      0.331     -0.175      0.861      -0.707       0.591\n",
      "x33            1.9787      0.274      7.212      0.000       1.441       2.517\n",
      "x34            1.0242      0.245      4.189      0.000       0.545       1.504\n",
      "x35            1.3719      0.226      6.057      0.000       0.928       1.816\n",
      "x36           -0.4940      0.231     -2.135      0.033      -0.948      -0.040\n",
      "x37            1.5227      0.207      7.362      0.000       1.117       1.928\n",
      "x38            0.5652      0.258      2.186      0.029       0.058       1.072\n",
      "x39           -0.7998      0.225     -3.558      0.000      -1.241      -0.359\n",
      "x40           -1.1227      0.237     -4.728      0.000      -1.588      -0.657\n",
      "x41           -0.7049      0.203     -3.466      0.001      -1.104      -0.306\n",
      "x42            0.3476      0.220      1.578      0.115      -0.084       0.780\n",
      "x43            0.4439      0.699      0.635      0.526      -0.927       1.815\n",
      "x44            1.0347      0.462      2.240      0.025       0.129       1.940\n",
      "x45            2.5151      1.308      1.923      0.055      -0.050       5.080\n",
      "x46           -0.3628      0.421     -0.862      0.389      -1.188       0.463\n",
      "x47            1.7453      0.536      3.259      0.001       0.695       2.795\n",
      "x48            1.8855      0.522      3.614      0.000       0.863       2.908\n",
      "x49            1.3950      0.471      2.964      0.003       0.472       2.318\n",
      "x50            0.7692      1.470      0.523      0.601      -2.113       3.652\n",
      "x51            0.7340      0.476      1.541      0.123      -0.199       1.668\n",
      "x52            0.7327      0.589      1.244      0.214      -0.422       1.887\n",
      "x53           -4.5267      2.441     -1.854      0.064      -9.312       0.259\n",
      "x54            0.2474      3.425      0.072      0.942      -6.468       6.962\n",
      "x55           -0.6577      2.444     -0.269      0.788      -5.449       4.133\n",
      "x56           -3.2580      1.882     -1.731      0.084      -6.948       0.432\n",
      "x57           -1.2138      1.346     -0.902      0.367      -3.852       1.425\n",
      "x58           -2.3074      1.325     -1.742      0.082      -4.904       0.289\n",
      "x59           -2.2931      0.952     -2.409      0.016      -4.159      -0.427\n",
      "x60           -3.1710      0.710     -4.463      0.000      -4.564      -1.778\n",
      "x61           -2.3199      0.628     -3.694      0.000      -3.551      -1.089\n",
      "x62           -2.2769      0.515     -4.422      0.000      -3.286      -1.268\n",
      "x63           -2.6520      0.464     -5.710      0.000      -3.563      -1.742\n",
      "x64           -3.0037      0.441     -6.808      0.000      -3.869      -2.139\n",
      "x65           -1.9077      0.382     -4.992      0.000      -2.657      -1.159\n",
      "x66           -1.3988      0.359     -3.891      0.000      -2.103      -0.694\n",
      "x67           -0.2406      0.348     -0.692      0.489      -0.923       0.441\n",
      "x68            0.9053      0.345      2.624      0.009       0.229       1.582\n",
      "x69            1.9669      0.340      5.786      0.000       1.300       2.633\n",
      "x70            3.7066      0.345     10.745      0.000       3.030       4.383\n",
      "x71            4.6990      0.353     13.320      0.000       4.007       5.391\n",
      "x72            6.3519      0.372     17.078      0.000       5.623       7.081\n",
      "x73            8.0988      0.431     18.808      0.000       7.255       8.943\n",
      "x74            8.8821      0.591     15.031      0.000       7.724      10.041\n",
      "x75           -1.6646      4.604     -0.362      0.718     -10.690       7.361\n",
      "x76           -3.1064      2.178     -1.426      0.154      -7.376       1.163\n",
      "x77           14.1544      1.435      9.865      0.000      11.342      16.967\n",
      "x78            1.9768      0.869      2.275      0.023       0.274       3.680\n",
      "x79           -2.5173      0.703     -3.579      0.000      -3.896      -1.139\n",
      "x80           -1.5337      1.149     -1.335      0.182      -3.785       0.718\n",
      "x81           -0.4372      0.708     -0.618      0.537      -1.825       0.950\n",
      "x82           -0.8069      0.796     -1.014      0.311      -2.367       0.753\n",
      "x83           -2.4340      2.708     -0.899      0.369      -7.742       2.874\n",
      "x84        -1.577e-05    2.2e-06     -7.159      0.000   -2.01e-05   -1.15e-05\n",
      "x85           -0.0917      0.026     -3.555      0.000      -0.142      -0.041\n",
      "x86            0.0014      0.000      3.976      0.000       0.001       0.002\n",
      "x87            0.0780      0.004     21.123      0.000       0.071       0.085\n",
      "==============================================================================\n",
      "Omnibus:                     4926.195   Durbin-Watson:                   2.031\n",
      "Prob(Omnibus):                  0.000   Jarque-Bera (JB):           772333.859\n",
      "Skew:                           3.203   Prob(JB):                         0.00\n",
      "Kurtosis:                      58.333   Cond. No.                     1.38e+16\n",
      "==============================================================================\n",
      "\n",
      "Notes:\n",
      "[1] Standard Errors assume that the covariance matrix of the errors is correctly specified.\n",
      "[2] The smallest eigenvalue is 1.49e-19. This might indicate that there are\n",
      "strong multicollinearity problems or that the design matrix is singular.\n"
     ]
    }
   ],
   "source": [
    "ols_model = sm.OLS(dat[\"Price\"].values, dat[dat_list].values)\n",
    "result = ols_model.fit()\n",
    "\n",
    "print(result.summary())"
   ]
  },
  {
   "cell_type": "markdown",
   "metadata": {},
   "source": [
    "위의 표로 알아볼 수 있는 모델의 적합 결과를 확인해보자.\n",
    "\n",
    "* **R-squared, Adj R-squared** : 모델의 설명력을 의미하며 앞서 sklearn에서 구한 회귀분석 정확도와 같은 값이 나온다. 따라서 모델의 설명력은 약 0.8(조정된 결정계수 값 역시 0.796로 약 0.8)로 어느정도 잘 설명한다고 말할 수 있다.\n",
    "* **F-statistic** : F통계량 값은 모델의 유의성 검정을 의미하여 설정한 모형이 적절한가를 알아보는 지표이다. 통계량 값은 292.9이며 유의확률이 0.001보다 작으므로 귀무가설을 기각하여 모형이 적절하다고 말할 수 있다.\n",
    "* **AIC, BIC** : 해당 값들은 모델 평가 성능을 나타내는 수치이며 수치가 낮을수록 좋지만 모두 약 36000정도로 높은 수치를 보이므로 좋지않다고 할 수 있다.\n",
    "* **coef, std err** : 모델의 변수들에 대한 회귀계수와 표준오차를 의미한다.\n",
    "* **t-value** : t검정의 결과값으로 t-test 즉, 각각의 회귀계수 유의성 검정 결과를 보여준다. 유의수준이 0.05일 때 개별 회귀계수의 t 검정을 통해 얻은 p-value 값이 0.05보다 작은 경우 해당 변수가 유의하다고 판단할 수 있다.  \n",
    "모든 변수들에 대해 살펴보면 중간에 유의하지 않은 변수들이 있음을 확인할 수 있다.\n",
    "* **Durbin-Watson** : DW 검정은 오차의 독립성 검정을 위한 값으로 0과 4를 기준으로 2에 가까울수록 자기상관이 없고 독립성을 만족한다고 할 수 있는데 2.031은 2에 매우 근접하므로 독립성을 만족한다고 볼 수 있다.\n",
    "* **Cond, No** : 다중공선성 검정으로 10 이상일 경우 다중공선성이 있다고 판단한다. 위의 결과에서는 약 1e+16으로 매우 높은 다중공선성을 보인다고 볼 수 있다."
   ]
  },
  {
   "cell_type": "markdown",
   "metadata": {},
   "source": [
    "## 3. 다른 회귀분석 진행"
   ]
  },
  {
   "cell_type": "markdown",
   "metadata": {},
   "source": [
    "추가로 Ridge, Lasso, 다항 회귀에 대해서도 진행해보도록 한다."
   ]
  },
  {
   "cell_type": "code",
   "execution_count": 192,
   "metadata": {},
   "outputs": [],
   "source": [
    "from sklearn.linear_model import Ridge, Lasso\n",
    "from sklearn.model_selection import GridSearchCV"
   ]
  },
  {
   "cell_type": "markdown",
   "metadata": {},
   "source": [
    "### 3-1 릿지 회귀"
   ]
  },
  {
   "cell_type": "code",
   "execution_count": 193,
   "metadata": {},
   "outputs": [
    {
     "name": "stdout",
     "output_type": "stream",
     "text": [
      "최적 점수 : 0.7834432524799512\n",
      "최적 파라미터 : {'alpha': 0.001}\n",
      "Ridge(alpha=0.001)\n"
     ]
    },
    {
     "data": {
      "text/html": [
       "<div>\n",
       "<style scoped>\n",
       "    .dataframe tbody tr th:only-of-type {\n",
       "        vertical-align: middle;\n",
       "    }\n",
       "\n",
       "    .dataframe tbody tr th {\n",
       "        vertical-align: top;\n",
       "    }\n",
       "\n",
       "    .dataframe thead th {\n",
       "        text-align: right;\n",
       "    }\n",
       "</style>\n",
       "<table border=\"1\" class=\"dataframe\">\n",
       "  <thead>\n",
       "    <tr style=\"text-align: right;\">\n",
       "      <th></th>\n",
       "      <th>mean_fit_time</th>\n",
       "      <th>std_fit_time</th>\n",
       "      <th>mean_score_time</th>\n",
       "      <th>std_score_time</th>\n",
       "      <th>param_alpha</th>\n",
       "      <th>params</th>\n",
       "      <th>split0_test_score</th>\n",
       "      <th>split1_test_score</th>\n",
       "      <th>split2_test_score</th>\n",
       "      <th>split3_test_score</th>\n",
       "      <th>split4_test_score</th>\n",
       "      <th>split5_test_score</th>\n",
       "      <th>split6_test_score</th>\n",
       "      <th>split7_test_score</th>\n",
       "      <th>split8_test_score</th>\n",
       "      <th>split9_test_score</th>\n",
       "      <th>mean_test_score</th>\n",
       "      <th>std_test_score</th>\n",
       "      <th>rank_test_score</th>\n",
       "    </tr>\n",
       "  </thead>\n",
       "  <tbody>\n",
       "    <tr>\n",
       "      <th>0</th>\n",
       "      <td>0.007785</td>\n",
       "      <td>0.002244</td>\n",
       "      <td>0.000493</td>\n",
       "      <td>0.000536</td>\n",
       "      <td>0.001</td>\n",
       "      <td>{'alpha': 0.001}</td>\n",
       "      <td>0.803015</td>\n",
       "      <td>0.798985</td>\n",
       "      <td>0.795200</td>\n",
       "      <td>0.758497</td>\n",
       "      <td>0.806545</td>\n",
       "      <td>0.790733</td>\n",
       "      <td>0.684353</td>\n",
       "      <td>0.758880</td>\n",
       "      <td>0.834015</td>\n",
       "      <td>0.804208</td>\n",
       "      <td>0.783443</td>\n",
       "      <td>0.039221</td>\n",
       "      <td>1</td>\n",
       "    </tr>\n",
       "    <tr>\n",
       "      <th>1</th>\n",
       "      <td>0.006483</td>\n",
       "      <td>0.000809</td>\n",
       "      <td>0.000693</td>\n",
       "      <td>0.000454</td>\n",
       "      <td>0.01</td>\n",
       "      <td>{'alpha': 0.01}</td>\n",
       "      <td>0.803025</td>\n",
       "      <td>0.798980</td>\n",
       "      <td>0.795187</td>\n",
       "      <td>0.758514</td>\n",
       "      <td>0.806539</td>\n",
       "      <td>0.790758</td>\n",
       "      <td>0.684366</td>\n",
       "      <td>0.758888</td>\n",
       "      <td>0.834013</td>\n",
       "      <td>0.804155</td>\n",
       "      <td>0.783442</td>\n",
       "      <td>0.039213</td>\n",
       "      <td>2</td>\n",
       "    </tr>\n",
       "    <tr>\n",
       "      <th>2</th>\n",
       "      <td>0.006332</td>\n",
       "      <td>0.000908</td>\n",
       "      <td>0.000544</td>\n",
       "      <td>0.000467</td>\n",
       "      <td>0.1</td>\n",
       "      <td>{'alpha': 0.1}</td>\n",
       "      <td>0.803143</td>\n",
       "      <td>0.798925</td>\n",
       "      <td>0.795060</td>\n",
       "      <td>0.758662</td>\n",
       "      <td>0.806469</td>\n",
       "      <td>0.791003</td>\n",
       "      <td>0.684445</td>\n",
       "      <td>0.758984</td>\n",
       "      <td>0.833988</td>\n",
       "      <td>0.803640</td>\n",
       "      <td>0.783432</td>\n",
       "      <td>0.039148</td>\n",
       "      <td>3</td>\n",
       "    </tr>\n",
       "    <tr>\n",
       "      <th>3</th>\n",
       "      <td>0.007523</td>\n",
       "      <td>0.002312</td>\n",
       "      <td>0.000100</td>\n",
       "      <td>0.000299</td>\n",
       "      <td>1</td>\n",
       "      <td>{'alpha': 1}</td>\n",
       "      <td>0.805251</td>\n",
       "      <td>0.798598</td>\n",
       "      <td>0.793792</td>\n",
       "      <td>0.758997</td>\n",
       "      <td>0.805426</td>\n",
       "      <td>0.793333</td>\n",
       "      <td>0.683501</td>\n",
       "      <td>0.760550</td>\n",
       "      <td>0.833773</td>\n",
       "      <td>0.799011</td>\n",
       "      <td>0.783223</td>\n",
       "      <td>0.039088</td>\n",
       "      <td>4</td>\n",
       "    </tr>\n",
       "    <tr>\n",
       "      <th>4</th>\n",
       "      <td>0.007281</td>\n",
       "      <td>0.002195</td>\n",
       "      <td>0.000312</td>\n",
       "      <td>0.000468</td>\n",
       "      <td>10</td>\n",
       "      <td>{'alpha': 10}</td>\n",
       "      <td>0.814173</td>\n",
       "      <td>0.790621</td>\n",
       "      <td>0.779299</td>\n",
       "      <td>0.748230</td>\n",
       "      <td>0.789701</td>\n",
       "      <td>0.800050</td>\n",
       "      <td>0.664859</td>\n",
       "      <td>0.767559</td>\n",
       "      <td>0.826184</td>\n",
       "      <td>0.761009</td>\n",
       "      <td>0.774169</td>\n",
       "      <td>0.042840</td>\n",
       "      <td>5</td>\n",
       "    </tr>\n",
       "    <tr>\n",
       "      <th>5</th>\n",
       "      <td>0.006931</td>\n",
       "      <td>0.001485</td>\n",
       "      <td>0.000283</td>\n",
       "      <td>0.000365</td>\n",
       "      <td>100</td>\n",
       "      <td>{'alpha': 100}</td>\n",
       "      <td>0.732797</td>\n",
       "      <td>0.686575</td>\n",
       "      <td>0.676797</td>\n",
       "      <td>0.647798</td>\n",
       "      <td>0.682022</td>\n",
       "      <td>0.720427</td>\n",
       "      <td>0.560474</td>\n",
       "      <td>0.701245</td>\n",
       "      <td>0.728293</td>\n",
       "      <td>0.605732</td>\n",
       "      <td>0.674216</td>\n",
       "      <td>0.052695</td>\n",
       "      <td>6</td>\n",
       "    </tr>\n",
       "    <tr>\n",
       "      <th>6</th>\n",
       "      <td>0.007472</td>\n",
       "      <td>0.000770</td>\n",
       "      <td>0.000546</td>\n",
       "      <td>0.000312</td>\n",
       "      <td>1000</td>\n",
       "      <td>{'alpha': 1000}</td>\n",
       "      <td>0.518198</td>\n",
       "      <td>0.496006</td>\n",
       "      <td>0.497688</td>\n",
       "      <td>0.458633</td>\n",
       "      <td>0.498649</td>\n",
       "      <td>0.540462</td>\n",
       "      <td>0.412798</td>\n",
       "      <td>0.517047</td>\n",
       "      <td>0.531430</td>\n",
       "      <td>0.421609</td>\n",
       "      <td>0.489252</td>\n",
       "      <td>0.041923</td>\n",
       "      <td>7</td>\n",
       "    </tr>\n",
       "  </tbody>\n",
       "</table>\n",
       "</div>"
      ],
      "text/plain": [
       "   mean_fit_time  std_fit_time  mean_score_time  std_score_time param_alpha  \\\n",
       "0       0.007785      0.002244         0.000493        0.000536       0.001   \n",
       "1       0.006483      0.000809         0.000693        0.000454        0.01   \n",
       "2       0.006332      0.000908         0.000544        0.000467         0.1   \n",
       "3       0.007523      0.002312         0.000100        0.000299           1   \n",
       "4       0.007281      0.002195         0.000312        0.000468          10   \n",
       "5       0.006931      0.001485         0.000283        0.000365         100   \n",
       "6       0.007472      0.000770         0.000546        0.000312        1000   \n",
       "\n",
       "             params  split0_test_score  split1_test_score  split2_test_score  \\\n",
       "0  {'alpha': 0.001}           0.803015           0.798985           0.795200   \n",
       "1   {'alpha': 0.01}           0.803025           0.798980           0.795187   \n",
       "2    {'alpha': 0.1}           0.803143           0.798925           0.795060   \n",
       "3      {'alpha': 1}           0.805251           0.798598           0.793792   \n",
       "4     {'alpha': 10}           0.814173           0.790621           0.779299   \n",
       "5    {'alpha': 100}           0.732797           0.686575           0.676797   \n",
       "6   {'alpha': 1000}           0.518198           0.496006           0.497688   \n",
       "\n",
       "   split3_test_score  split4_test_score  split5_test_score  split6_test_score  \\\n",
       "0           0.758497           0.806545           0.790733           0.684353   \n",
       "1           0.758514           0.806539           0.790758           0.684366   \n",
       "2           0.758662           0.806469           0.791003           0.684445   \n",
       "3           0.758997           0.805426           0.793333           0.683501   \n",
       "4           0.748230           0.789701           0.800050           0.664859   \n",
       "5           0.647798           0.682022           0.720427           0.560474   \n",
       "6           0.458633           0.498649           0.540462           0.412798   \n",
       "\n",
       "   split7_test_score  split8_test_score  split9_test_score  mean_test_score  \\\n",
       "0           0.758880           0.834015           0.804208         0.783443   \n",
       "1           0.758888           0.834013           0.804155         0.783442   \n",
       "2           0.758984           0.833988           0.803640         0.783432   \n",
       "3           0.760550           0.833773           0.799011         0.783223   \n",
       "4           0.767559           0.826184           0.761009         0.774169   \n",
       "5           0.701245           0.728293           0.605732         0.674216   \n",
       "6           0.517047           0.531430           0.421609         0.489252   \n",
       "\n",
       "   std_test_score  rank_test_score  \n",
       "0        0.039221                1  \n",
       "1        0.039213                2  \n",
       "2        0.039148                3  \n",
       "3        0.039088                4  \n",
       "4        0.042840                5  \n",
       "5        0.052695                6  \n",
       "6        0.041923                7  "
      ]
     },
     "execution_count": 193,
     "metadata": {},
     "output_type": "execute_result"
    }
   ],
   "source": [
    "alpha = [0.001, 0.01, 0.1, 1, 10, 100, 1000]\n",
    "param_grid = dict(alpha = alpha)\n",
    "\n",
    "gs = GridSearchCV(estimator=Ridge(), param_grid = param_grid, cv=10)\n",
    "result = gs.fit(X_scale, y)\n",
    "\n",
    "print(\"best score : {}\".format(result.best_score_))\n",
    "print(\"best parameter : {}\".format(result.best_params_))\n",
    "print(gs.best_estimator_)\n",
    "pd.DataFrame(result.cv_results_)"
   ]
  },
  {
   "cell_type": "markdown",
   "metadata": {},
   "source": [
    "gridsearch를 통해 릿지 회귀에서의 최적일 때의 정확도와 파라미터 값을 살펴보면 0.7834, alpha = 0.001이 나옴을 확인할 수 있다."
   ]
  },
  {
   "cell_type": "markdown",
   "metadata": {},
   "source": [
    "### 3-2 라쏘 회귀"
   ]
  },
  {
   "cell_type": "code",
   "execution_count": 194,
   "metadata": {},
   "outputs": [
    {
     "name": "stdout",
     "output_type": "stream",
     "text": [
      "최적 점수 : 0.7837189833333771\n",
      "최적 파라미터 : {'alpha': 0.001}\n",
      "Lasso(alpha=0.001)\n"
     ]
    },
    {
     "data": {
      "text/html": [
       "<div>\n",
       "<style scoped>\n",
       "    .dataframe tbody tr th:only-of-type {\n",
       "        vertical-align: middle;\n",
       "    }\n",
       "\n",
       "    .dataframe tbody tr th {\n",
       "        vertical-align: top;\n",
       "    }\n",
       "\n",
       "    .dataframe thead th {\n",
       "        text-align: right;\n",
       "    }\n",
       "</style>\n",
       "<table border=\"1\" class=\"dataframe\">\n",
       "  <thead>\n",
       "    <tr style=\"text-align: right;\">\n",
       "      <th></th>\n",
       "      <th>mean_fit_time</th>\n",
       "      <th>std_fit_time</th>\n",
       "      <th>mean_score_time</th>\n",
       "      <th>std_score_time</th>\n",
       "      <th>param_alpha</th>\n",
       "      <th>params</th>\n",
       "      <th>split0_test_score</th>\n",
       "      <th>split1_test_score</th>\n",
       "      <th>split2_test_score</th>\n",
       "      <th>split3_test_score</th>\n",
       "      <th>split4_test_score</th>\n",
       "      <th>split5_test_score</th>\n",
       "      <th>split6_test_score</th>\n",
       "      <th>split7_test_score</th>\n",
       "      <th>split8_test_score</th>\n",
       "      <th>split9_test_score</th>\n",
       "      <th>mean_test_score</th>\n",
       "      <th>std_test_score</th>\n",
       "      <th>rank_test_score</th>\n",
       "    </tr>\n",
       "  </thead>\n",
       "  <tbody>\n",
       "    <tr>\n",
       "      <th>0</th>\n",
       "      <td>0.160657</td>\n",
       "      <td>0.037871</td>\n",
       "      <td>0.000574</td>\n",
       "      <td>0.000474</td>\n",
       "      <td>0.001</td>\n",
       "      <td>{'alpha': 0.001}</td>\n",
       "      <td>0.803064</td>\n",
       "      <td>0.802595</td>\n",
       "      <td>0.795361</td>\n",
       "      <td>0.758045</td>\n",
       "      <td>0.807014</td>\n",
       "      <td>0.791448</td>\n",
       "      <td>0.685285</td>\n",
       "      <td>0.758237</td>\n",
       "      <td>8.368149e-01</td>\n",
       "      <td>0.799327</td>\n",
       "      <td>0.783719</td>\n",
       "      <td>0.039407</td>\n",
       "      <td>1</td>\n",
       "    </tr>\n",
       "    <tr>\n",
       "      <th>1</th>\n",
       "      <td>0.041700</td>\n",
       "      <td>0.009509</td>\n",
       "      <td>0.000653</td>\n",
       "      <td>0.000453</td>\n",
       "      <td>0.01</td>\n",
       "      <td>{'alpha': 0.01}</td>\n",
       "      <td>0.800462</td>\n",
       "      <td>0.799740</td>\n",
       "      <td>0.791119</td>\n",
       "      <td>0.755573</td>\n",
       "      <td>0.801040</td>\n",
       "      <td>0.791255</td>\n",
       "      <td>0.681102</td>\n",
       "      <td>0.751929</td>\n",
       "      <td>8.366447e-01</td>\n",
       "      <td>0.793517</td>\n",
       "      <td>0.780238</td>\n",
       "      <td>0.040072</td>\n",
       "      <td>2</td>\n",
       "    </tr>\n",
       "    <tr>\n",
       "      <th>2</th>\n",
       "      <td>0.021464</td>\n",
       "      <td>0.002295</td>\n",
       "      <td>0.000499</td>\n",
       "      <td>0.000499</td>\n",
       "      <td>0.1</td>\n",
       "      <td>{'alpha': 0.1}</td>\n",
       "      <td>0.729802</td>\n",
       "      <td>0.703878</td>\n",
       "      <td>0.693334</td>\n",
       "      <td>0.672143</td>\n",
       "      <td>0.713348</td>\n",
       "      <td>0.726624</td>\n",
       "      <td>0.596531</td>\n",
       "      <td>0.694544</td>\n",
       "      <td>7.629087e-01</td>\n",
       "      <td>0.704960</td>\n",
       "      <td>0.699807</td>\n",
       "      <td>0.041627</td>\n",
       "      <td>3</td>\n",
       "    </tr>\n",
       "    <tr>\n",
       "      <th>3</th>\n",
       "      <td>0.011361</td>\n",
       "      <td>0.003683</td>\n",
       "      <td>0.000330</td>\n",
       "      <td>0.000424</td>\n",
       "      <td>1</td>\n",
       "      <td>{'alpha': 1}</td>\n",
       "      <td>0.351868</td>\n",
       "      <td>0.337599</td>\n",
       "      <td>0.344271</td>\n",
       "      <td>0.316397</td>\n",
       "      <td>0.357204</td>\n",
       "      <td>0.372939</td>\n",
       "      <td>0.284570</td>\n",
       "      <td>0.343482</td>\n",
       "      <td>3.710611e-01</td>\n",
       "      <td>0.301141</td>\n",
       "      <td>0.338053</td>\n",
       "      <td>0.027613</td>\n",
       "      <td>4</td>\n",
       "    </tr>\n",
       "    <tr>\n",
       "      <th>4</th>\n",
       "      <td>0.009910</td>\n",
       "      <td>0.001577</td>\n",
       "      <td>0.000339</td>\n",
       "      <td>0.000457</td>\n",
       "      <td>10</td>\n",
       "      <td>{'alpha': 10}</td>\n",
       "      <td>-0.008438</td>\n",
       "      <td>-0.000539</td>\n",
       "      <td>-0.001142</td>\n",
       "      <td>-0.001470</td>\n",
       "      <td>-0.000020</td>\n",
       "      <td>-0.004293</td>\n",
       "      <td>-0.006746</td>\n",
       "      <td>-0.000286</td>\n",
       "      <td>-1.335808e-07</td>\n",
       "      <td>-0.000005</td>\n",
       "      <td>-0.002294</td>\n",
       "      <td>0.002939</td>\n",
       "      <td>5</td>\n",
       "    </tr>\n",
       "    <tr>\n",
       "      <th>5</th>\n",
       "      <td>0.008611</td>\n",
       "      <td>0.002096</td>\n",
       "      <td>0.000687</td>\n",
       "      <td>0.000492</td>\n",
       "      <td>100</td>\n",
       "      <td>{'alpha': 100}</td>\n",
       "      <td>-0.008438</td>\n",
       "      <td>-0.000539</td>\n",
       "      <td>-0.001142</td>\n",
       "      <td>-0.001470</td>\n",
       "      <td>-0.000020</td>\n",
       "      <td>-0.004293</td>\n",
       "      <td>-0.006746</td>\n",
       "      <td>-0.000286</td>\n",
       "      <td>-1.335808e-07</td>\n",
       "      <td>-0.000005</td>\n",
       "      <td>-0.002294</td>\n",
       "      <td>0.002939</td>\n",
       "      <td>5</td>\n",
       "    </tr>\n",
       "    <tr>\n",
       "      <th>6</th>\n",
       "      <td>0.009884</td>\n",
       "      <td>0.002990</td>\n",
       "      <td>0.000535</td>\n",
       "      <td>0.000545</td>\n",
       "      <td>1000</td>\n",
       "      <td>{'alpha': 1000}</td>\n",
       "      <td>-0.008438</td>\n",
       "      <td>-0.000539</td>\n",
       "      <td>-0.001142</td>\n",
       "      <td>-0.001470</td>\n",
       "      <td>-0.000020</td>\n",
       "      <td>-0.004293</td>\n",
       "      <td>-0.006746</td>\n",
       "      <td>-0.000286</td>\n",
       "      <td>-1.335808e-07</td>\n",
       "      <td>-0.000005</td>\n",
       "      <td>-0.002294</td>\n",
       "      <td>0.002939</td>\n",
       "      <td>5</td>\n",
       "    </tr>\n",
       "  </tbody>\n",
       "</table>\n",
       "</div>"
      ],
      "text/plain": [
       "   mean_fit_time  std_fit_time  mean_score_time  std_score_time param_alpha  \\\n",
       "0       0.160657      0.037871         0.000574        0.000474       0.001   \n",
       "1       0.041700      0.009509         0.000653        0.000453        0.01   \n",
       "2       0.021464      0.002295         0.000499        0.000499         0.1   \n",
       "3       0.011361      0.003683         0.000330        0.000424           1   \n",
       "4       0.009910      0.001577         0.000339        0.000457          10   \n",
       "5       0.008611      0.002096         0.000687        0.000492         100   \n",
       "6       0.009884      0.002990         0.000535        0.000545        1000   \n",
       "\n",
       "             params  split0_test_score  split1_test_score  split2_test_score  \\\n",
       "0  {'alpha': 0.001}           0.803064           0.802595           0.795361   \n",
       "1   {'alpha': 0.01}           0.800462           0.799740           0.791119   \n",
       "2    {'alpha': 0.1}           0.729802           0.703878           0.693334   \n",
       "3      {'alpha': 1}           0.351868           0.337599           0.344271   \n",
       "4     {'alpha': 10}          -0.008438          -0.000539          -0.001142   \n",
       "5    {'alpha': 100}          -0.008438          -0.000539          -0.001142   \n",
       "6   {'alpha': 1000}          -0.008438          -0.000539          -0.001142   \n",
       "\n",
       "   split3_test_score  split4_test_score  split5_test_score  split6_test_score  \\\n",
       "0           0.758045           0.807014           0.791448           0.685285   \n",
       "1           0.755573           0.801040           0.791255           0.681102   \n",
       "2           0.672143           0.713348           0.726624           0.596531   \n",
       "3           0.316397           0.357204           0.372939           0.284570   \n",
       "4          -0.001470          -0.000020          -0.004293          -0.006746   \n",
       "5          -0.001470          -0.000020          -0.004293          -0.006746   \n",
       "6          -0.001470          -0.000020          -0.004293          -0.006746   \n",
       "\n",
       "   split7_test_score  split8_test_score  split9_test_score  mean_test_score  \\\n",
       "0           0.758237       8.368149e-01           0.799327         0.783719   \n",
       "1           0.751929       8.366447e-01           0.793517         0.780238   \n",
       "2           0.694544       7.629087e-01           0.704960         0.699807   \n",
       "3           0.343482       3.710611e-01           0.301141         0.338053   \n",
       "4          -0.000286      -1.335808e-07          -0.000005        -0.002294   \n",
       "5          -0.000286      -1.335808e-07          -0.000005        -0.002294   \n",
       "6          -0.000286      -1.335808e-07          -0.000005        -0.002294   \n",
       "\n",
       "   std_test_score  rank_test_score  \n",
       "0        0.039407                1  \n",
       "1        0.040072                2  \n",
       "2        0.041627                3  \n",
       "3        0.027613                4  \n",
       "4        0.002939                5  \n",
       "5        0.002939                5  \n",
       "6        0.002939                5  "
      ]
     },
     "execution_count": 194,
     "metadata": {},
     "output_type": "execute_result"
    }
   ],
   "source": [
    "alpha = [0.001, 0.01, 0.1, 1, 10, 100, 1000]\n",
    "param_grid = dict(alpha = alpha)\n",
    "\n",
    "gs = GridSearchCV(estimator=Lasso(), param_grid = param_grid, cv=10)\n",
    "result = gs.fit(X_scale, y)\n",
    "\n",
    "print(\"best score : {}\".format(result.best_score_))\n",
    "print(\"best parameter : {}\".format(result.best_params_))\n",
    "print(gs.best_estimator_)\n",
    "pd.DataFrame(result.cv_results_)"
   ]
  },
  {
   "cell_type": "markdown",
   "metadata": {},
   "source": [
    "마찬가지로 라쏘 회귀에서의 최적일 때의 정확도와 파라미터 값을 살펴보면 0.7837, alpha = 0.001이 나옴을 확인할 수 있다."
   ]
  },
  {
   "cell_type": "markdown",
   "metadata": {},
   "source": [
    "### 3-4 다항 회귀"
   ]
  },
  {
   "cell_type": "code",
   "execution_count": 197,
   "metadata": {},
   "outputs": [],
   "source": [
    "from sklearn.preprocessing import PolynomialFeatures"
   ]
  },
  {
   "cell_type": "code",
   "execution_count": 198,
   "metadata": {},
   "outputs": [
    {
     "name": "stdout",
     "output_type": "stream",
     "text": [
      "model accuracy: 0.9589004469582664\n"
     ]
    }
   ],
   "source": [
    "model = make_pipeline(\n",
    "    PolynomialFeatures(degree=2),\n",
    "    LinearRegression()\n",
    ")\n",
    "                 \n",
    "model.fit(X_scale,y)\n",
    "print(\"model accuracy: {}\".format(model.score(X_scale, y)))"
   ]
  },
  {
   "cell_type": "markdown",
   "metadata": {},
   "source": [
    "마지막으로 차수가 2인 다항회귀를 진행하였을 때 그 정확도가 0.95로 아주 높은 정확도를 보이고 있음을 알 수 있다."
   ]
  },
  {
   "cell_type": "code",
   "execution_count": null,
   "metadata": {},
   "outputs": [],
   "source": []
  }
 ],
 "metadata": {
  "colab": {
   "collapsed_sections": [],
   "name": "Regression_과제2",
   "provenance": []
  },
  "kernelspec": {
   "display_name": "Python 3 (ipykernel)",
   "language": "python",
   "name": "python3"
  },
  "language_info": {
   "codemirror_mode": {
    "name": "ipython",
    "version": 3
   },
   "file_extension": ".py",
   "mimetype": "text/x-python",
   "name": "python",
   "nbconvert_exporter": "python",
   "pygments_lexer": "ipython3",
   "version": "3.9.15"
  }
 },
 "nbformat": 4,
 "nbformat_minor": 1
}
