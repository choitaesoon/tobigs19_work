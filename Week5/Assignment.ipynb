{
 "cells": [
  {
   "cell_type": "markdown",
   "id": "9ad88f3e",
   "metadata": {},
   "source": [
    "# Multiclass SVM 구현"
   ]
  },
  {
   "cell_type": "code",
   "execution_count": 87,
   "id": "1ee53277",
   "metadata": {},
   "outputs": [
    {
     "name": "stdout",
     "output_type": "stream",
     "text": [
      "0         setosa\n",
      "1         setosa\n",
      "2         setosa\n",
      "3         setosa\n",
      "4         setosa\n",
      "         ...    \n",
      "145    virginica\n",
      "146    virginica\n",
      "147    virginica\n",
      "148    virginica\n",
      "149    virginica\n",
      "Name: species, Length: 150, dtype: object\n"
     ]
    }
   ],
   "source": [
    "import numpy as np\n",
    "import pandas as pd\n",
    "import matplotlib.pyplot as plt\n",
    "import seaborn as sns\n",
    "from sklearn.svm import SVC\n",
    "from sklearn.model_selection import train_test_split\n",
    "from sklearn.pipeline import Pipeline\n",
    "from sklearn.preprocessing import StandardScaler\n",
    "from sklearn.metrics import accuracy_score\n",
    "\n",
    "#IRIS 데이터 로드\n",
    "iris =  sns.load_dataset('iris') \n",
    "X= iris.iloc[:,:4] #학습할데이터\n",
    "y = iris.iloc[:,-1] #타겟\n",
    "print(y)"
   ]
  },
  {
   "cell_type": "code",
   "execution_count": 88,
   "id": "57c67bc8",
   "metadata": {},
   "outputs": [],
   "source": [
    "X_train, X_test, y_train, y_test = train_test_split(X, y, test_size=0.2, random_state=48)"
   ]
  },
  {
   "cell_type": "code",
   "execution_count": 89,
   "id": "88a4203d",
   "metadata": {},
   "outputs": [],
   "source": [
    "def standardization(train, test):\n",
    "    scaler = StandardScaler()\n",
    "    train = scaler.fit_transform(train)\n",
    "    test = scaler.transform(test)\n",
    "    return train, test\n",
    "\n",
    "X_train, X_test = standardization(X_train, X_test)"
   ]
  },
  {
   "cell_type": "code",
   "execution_count": 90,
   "id": "403590f5",
   "metadata": {},
   "outputs": [
    {
     "data": {
      "text/plain": [
       "array([[ 0.78522493,  0.32015325,  0.77221097,  1.04726529],\n",
       "       [-0.26563371, -1.29989934,  0.0982814 , -0.11996537],\n",
       "       [ 0.43493872,  0.78302542,  0.94069336,  1.43634218],\n",
       "       [-0.84944407,  0.78302542, -1.24957775, -1.28719604],\n",
       "       [-0.38239578, -1.7627715 ,  0.15444219,  0.13941922],\n",
       "       [ 0.55170079, -0.374155  ,  1.05301496,  0.7878807 ],\n",
       "       [ 0.31817664, -0.14271892,  0.65988937,  0.7878807 ],\n",
       "       [ 0.20141457, -0.374155  ,  0.43524618,  0.39880381],\n",
       "       [-1.66677857, -0.14271892, -1.36189934, -1.28719604],\n",
       "       [-0.14887164, -0.60559109,  0.21060299,  0.13941922],\n",
       "       [-0.14887164, -1.06846325, -0.12636179, -0.24965767],\n",
       "       [ 0.31817664, -0.60559109,  0.15444219,  0.13941922],\n",
       "       [ 0.66846286, -0.83702717,  0.88453256,  0.91757299],\n",
       "       [ 0.0846525 , -0.14271892,  0.77221097,  0.7878807 ],\n",
       "       [-0.49915786, -0.14271892,  0.43524618,  0.39880381],\n",
       "       [-0.26563371, -0.60559109,  0.65988937,  1.04726529],\n",
       "       [ 2.18636979,  1.70876975,  1.67078373,  1.30664988],\n",
       "       [-0.49915786,  1.94020584, -1.13725615, -1.02781144],\n",
       "       [-0.96620614,  1.0144615 , -1.36189934, -1.15750374],\n",
       "       [ 1.60255943,  0.32015325,  1.27765815,  0.7878807 ],\n",
       "       [-0.84944407,  1.70876975, -1.02493456, -1.02781144],\n",
       "       [ 0.901987  , -0.14271892,  0.37908538,  0.26911151],\n",
       "       [-1.19973028,  0.78302542, -1.02493456, -1.28719604],\n",
       "       [-0.61591993,  1.47733367, -1.24957775, -1.28719604],\n",
       "       [-0.49915786,  1.47733367, -1.24957775, -1.28719604],\n",
       "       [-0.03210957, -0.83702717,  0.77221097,  0.91757299],\n",
       "       [-1.31649236,  0.32015325, -1.19341695, -1.28719604],\n",
       "       [ 1.25227322,  0.08871717,  0.94069336,  1.17695758],\n",
       "       [-1.08296821,  0.08871717, -1.24957775, -1.41688833],\n",
       "       [-1.08296821, -1.29989934,  0.43524618,  0.6581884 ],\n",
       "       [ 0.43493872, -0.374155  ,  0.32292459,  0.13941922],\n",
       "       [ 1.60255943,  1.24589758,  1.33381894,  1.69572677],\n",
       "       [ 0.31817664, -0.374155  ,  0.54756778,  0.26911151],\n",
       "       [ 1.83608357, -0.60559109,  1.33381894,  0.91757299],\n",
       "       [-0.03210957, -0.83702717,  0.0982814 ,  0.00972692],\n",
       "       [ 0.20141457, -1.99420759,  0.71605017,  0.39880381],\n",
       "       [ 1.01874907,  0.08871717,  1.05301496,  1.56603447],\n",
       "       [-0.84944407,  1.0144615 , -1.30573855, -1.15750374],\n",
       "       [-0.14887164, -0.14271892,  0.26676379,  0.00972692],\n",
       "       [-0.38239578, -1.53133542,  0.0421206 , -0.11996537],\n",
       "       [ 0.55170079, -1.29989934,  0.71605017,  0.91757299],\n",
       "       [ 1.48579736, -0.14271892,  1.22149735,  1.17695758],\n",
       "       [-0.38239578, -1.06846325,  0.37908538,  0.00972692],\n",
       "       [-0.96620614, -1.7627715 , -0.23868339, -0.24965767],\n",
       "       [ 1.25227322,  0.08871717,  0.77221097,  1.43634218],\n",
       "       [ 0.66846286, -0.60559109,  1.05301496,  1.17695758],\n",
       "       [ 0.43493872, -1.99420759,  0.43524618,  0.39880381],\n",
       "       [-0.14887164, -0.60559109,  0.43524618,  0.13941922],\n",
       "       [-0.732682  , -0.83702717,  0.0982814 ,  0.26911151],\n",
       "       [ 2.06960772, -0.14271892,  1.61462293,  1.17695758],\n",
       "       [ 1.13551115, -0.60559109,  0.60372857,  0.26911151],\n",
       "       [-0.84944407, -1.29989934, -0.40716578, -0.11996537],\n",
       "       [-0.14887164, -1.29989934,  0.71605017,  1.04726529],\n",
       "       [ 0.66846286, -0.374155  ,  0.32292459,  0.13941922],\n",
       "       [ 1.01874907,  0.08871717,  0.37908538,  0.26911151],\n",
       "       [-0.26563371, -0.83702717,  0.26676379,  0.13941922],\n",
       "       [ 1.25227322,  0.08871717,  0.65988937,  0.39880381],\n",
       "       [-0.84944407,  0.55158933, -1.13725615, -0.89811915],\n",
       "       [-1.08296821, -0.14271892, -1.30573855, -1.28719604],\n",
       "       [ 0.20141457, -0.83702717,  0.77221097,  0.52849611],\n",
       "       [-1.08296821, -1.53133542, -0.23868339, -0.24965767],\n",
       "       [-0.03210957,  2.17164192, -1.41806014, -1.28719604],\n",
       "       [-0.96620614,  1.0144615 , -1.19341695, -0.76842685],\n",
       "       [ 0.55170079, -0.83702717,  0.65988937,  0.7878807 ],\n",
       "       [ 1.7193215 , -0.374155  ,  1.44614054,  0.7878807 ],\n",
       "       [-0.732682  ,  2.403078  , -1.24957775, -1.41688833],\n",
       "       [-0.14887164,  3.09738625, -1.24957775, -1.02781144],\n",
       "       [ 1.13551115, -0.14271892,  0.99685416,  1.17695758],\n",
       "       [-1.43325443,  0.08871717, -1.24957775, -1.28719604],\n",
       "       [-0.03210957, -0.83702717,  0.21060299, -0.24965767],\n",
       "       [ 1.01874907, -0.14271892,  0.82837177,  1.43634218],\n",
       "       [ 1.36903529,  0.32015325,  0.54756778,  0.26911151],\n",
       "       [-0.96620614,  0.32015325, -1.41806014, -1.28719604],\n",
       "       [-0.96620614,  0.78302542, -1.24957775, -1.28719604],\n",
       "       [ 0.55170079,  0.55158933,  1.27765815,  1.69572677],\n",
       "       [ 2.18636979, -0.60559109,  1.67078373,  1.04726529],\n",
       "       [ 0.0846525 , -0.14271892,  0.26676379,  0.39880381],\n",
       "       [-1.31649236,  0.32015325, -1.36189934, -1.28719604],\n",
       "       [ 0.66846286,  0.32015325,  0.88453256,  1.43634218],\n",
       "       [-0.96620614,  0.78302542, -1.19341695, -1.02781144],\n",
       "       [ 0.20141457,  0.78302542,  0.43524618,  0.52849611],\n",
       "       [-1.19973028, -0.14271892, -1.30573855, -1.41688833],\n",
       "       [ 1.01874907,  0.55158933,  1.10917575,  1.17695758],\n",
       "       [ 0.78522493, -0.60559109,  0.49140698,  0.39880381],\n",
       "       [-1.43325443,  1.24589758, -1.53038174, -1.28719604],\n",
       "       [-0.03210957, -0.60559109,  0.77221097,  1.56603447],\n",
       "       [-1.78354064, -0.14271892, -1.47422094, -1.41688833],\n",
       "       [ 1.01874907, -1.29989934,  1.16533655,  0.7878807 ],\n",
       "       [-1.08296821,  1.24589758, -1.30573855, -1.41688833],\n",
       "       [-0.49915786,  1.94020584, -1.36189934, -1.02781144],\n",
       "       [-1.43325443,  0.32015325, -1.30573855, -1.28719604],\n",
       "       [-0.03210957, -0.83702717,  0.77221097,  0.91757299],\n",
       "       [ 0.55170079, -0.60559109,  0.77221097,  0.39880381],\n",
       "       [-0.96620614,  0.55158933, -1.30573855, -1.28719604],\n",
       "       [ 2.41989393,  1.70876975,  1.50230134,  1.04726529],\n",
       "       [-1.66677857,  0.32015325, -1.36189934, -1.28719604],\n",
       "       [-1.19973028, -0.14271892, -1.30573855, -1.15750374],\n",
       "       [ 1.01874907,  0.55158933,  1.10917575,  1.69572677],\n",
       "       [-0.96620614, -2.45707976, -0.12636179, -0.24965767],\n",
       "       [-0.732682  ,  1.0144615 , -1.24957775, -1.28719604],\n",
       "       [ 2.18636979, -1.06846325,  1.78310533,  1.43634218],\n",
       "       [ 1.13551115,  0.32015325,  1.22149735,  1.43634218],\n",
       "       [-0.96620614, -0.14271892, -1.19341695, -1.28719604],\n",
       "       [-0.84944407,  1.47733367, -1.24957775, -1.02781144],\n",
       "       [ 2.18636979, -0.14271892,  1.33381894,  1.43634218],\n",
       "       [-0.14887164,  1.70876975, -1.13725615, -1.15750374],\n",
       "       [-0.26563371, -0.14271892,  0.43524618,  0.39880381],\n",
       "       [-1.19973028,  0.08871717, -1.19341695, -1.28719604],\n",
       "       [ 0.78522493, -0.14271892,  1.16533655,  1.30664988],\n",
       "       [ 0.901987  , -0.374155  ,  0.49140698,  0.13941922],\n",
       "       [-0.732682  ,  0.78302542, -1.30573855, -1.28719604],\n",
       "       [-0.84944407,  1.70876975, -1.19341695, -1.28719604],\n",
       "       [-1.43325443,  0.78302542, -1.30573855, -1.15750374],\n",
       "       [-0.03210957, -1.06846325,  0.15444219,  0.00972692],\n",
       "       [-1.08296821,  0.08871717, -1.24957775, -1.28719604],\n",
       "       [-0.26563371, -0.374155  , -0.070201  ,  0.13941922],\n",
       "       [ 0.31817664, -0.14271892,  0.49140698,  0.26911151],\n",
       "       [-0.38239578, -1.53133542, -0.0140402 , -0.24965767],\n",
       "       [ 0.66846286,  0.32015325,  0.43524618,  0.39880381],\n",
       "       [-0.84944407,  1.0144615 , -1.30573855, -1.28719604]])"
      ]
     },
     "execution_count": 90,
     "metadata": {},
     "output_type": "execute_result"
    }
   ],
   "source": [
    "X_train"
   ]
  },
  {
   "cell_type": "code",
   "execution_count": 91,
   "id": "9861d8a6",
   "metadata": {},
   "outputs": [
    {
     "data": {
      "text/plain": [
       "array([[-0.14887164, -0.374155  ,  0.26676379,  0.13941922],\n",
       "       [ 0.31817664, -0.60559109,  0.54756778,  0.00972692],\n",
       "       [ 0.31817664, -1.06846325,  1.05301496,  0.26911151],\n",
       "       [-1.5500165 , -1.7627715 , -1.36189934, -1.15750374],\n",
       "       [ 0.0846525 ,  0.32015325,  0.60372857,  0.7878807 ],\n",
       "       [ 0.78522493, -0.14271892,  0.99685416,  0.7878807 ],\n",
       "       [-0.84944407,  1.70876975, -1.24957775, -1.15750374],\n",
       "       [ 0.20141457, -0.14271892,  0.60372857,  0.7878807 ],\n",
       "       [-0.38239578,  2.63451409, -1.30573855, -1.28719604],\n",
       "       [-0.38239578, -1.29989934,  0.15444219,  0.13941922],\n",
       "       [ 0.66846286,  0.08871717,  0.99685416,  0.7878807 ],\n",
       "       [-0.38239578,  1.0144615 , -1.36189934, -1.28719604],\n",
       "       [-0.49915786,  0.78302542, -1.13725615, -1.28719604],\n",
       "       [ 0.43493872, -0.60559109,  0.60372857,  0.7878807 ],\n",
       "       [ 0.55170079, -1.7627715 ,  0.37908538,  0.13941922],\n",
       "       [ 0.55170079,  0.55158933,  0.54756778,  0.52849611],\n",
       "       [-1.19973028,  0.78302542, -1.19341695, -1.28719604],\n",
       "       [ 0.20141457, -1.99420759,  0.15444219, -0.24965767],\n",
       "       [ 0.55170079, -1.29989934,  0.65988937,  0.39880381],\n",
       "       [ 1.25227322,  0.32015325,  1.10917575,  1.43634218],\n",
       "       [-1.66677857, -0.374155  , -1.30573855, -1.28719604],\n",
       "       [ 0.78522493, -0.14271892,  0.82837177,  1.04726529],\n",
       "       [ 1.01874907, -0.14271892,  0.71605017,  0.6581884 ],\n",
       "       [ 1.01874907,  0.08871717,  0.54756778,  0.39880381],\n",
       "       [ 1.60255943, -0.14271892,  1.16533655,  0.52849611],\n",
       "       [-0.96620614,  1.24589758, -1.30573855, -1.28719604],\n",
       "       [-0.49915786,  0.78302542, -1.24957775, -1.02781144],\n",
       "       [ 0.55170079,  0.78302542,  1.05301496,  1.56603447],\n",
       "       [ 0.66846286, -0.60559109,  1.05301496,  1.30664988],\n",
       "       [-0.26563371, -0.14271892,  0.21060299,  0.13941922]])"
      ]
     },
     "execution_count": 91,
     "metadata": {},
     "output_type": "execute_result"
    }
   ],
   "source": [
    "X_test"
   ]
  },
  {
   "cell_type": "markdown",
   "id": "47acf0ca",
   "metadata": {},
   "source": [
    "## One vs Rest"
   ]
  },
  {
   "cell_type": "markdown",
   "id": "b12f61ba",
   "metadata": {},
   "source": [
    "위 데이터를 통해 먼저 one vs rest 방법을 사용하여 구현해보도록 한다.  \n",
    "one vs rest는 N개의 클래스가 있다면 각각의 클래스에 대해서 1:N-1 즉, 클래스가 맞는지와 아닌지 두가지로 구분해주는 머신을 만들어 최종 결과를 내는 방식이다."
   ]
  },
  {
   "cell_type": "markdown",
   "id": "1394d6c7",
   "metadata": {},
   "source": [
    "우선 get_dummies를 이용하여 3개의 클래스를 one-hot-encoding을 시켜준다."
   ]
  },
  {
   "cell_type": "code",
   "execution_count": 93,
   "id": "e46c6811",
   "metadata": {},
   "outputs": [
    {
     "data": {
      "text/html": [
       "<div>\n",
       "<style scoped>\n",
       "    .dataframe tbody tr th:only-of-type {\n",
       "        vertical-align: middle;\n",
       "    }\n",
       "\n",
       "    .dataframe tbody tr th {\n",
       "        vertical-align: top;\n",
       "    }\n",
       "\n",
       "    .dataframe thead th {\n",
       "        text-align: right;\n",
       "    }\n",
       "</style>\n",
       "<table border=\"1\" class=\"dataframe\">\n",
       "  <thead>\n",
       "    <tr style=\"text-align: right;\">\n",
       "      <th></th>\n",
       "      <th>setosa</th>\n",
       "      <th>versicolor</th>\n",
       "      <th>virginica</th>\n",
       "    </tr>\n",
       "  </thead>\n",
       "  <tbody>\n",
       "    <tr>\n",
       "      <th>110</th>\n",
       "      <td>0</td>\n",
       "      <td>0</td>\n",
       "      <td>1</td>\n",
       "    </tr>\n",
       "    <tr>\n",
       "      <th>69</th>\n",
       "      <td>0</td>\n",
       "      <td>1</td>\n",
       "      <td>0</td>\n",
       "    </tr>\n",
       "    <tr>\n",
       "      <th>148</th>\n",
       "      <td>0</td>\n",
       "      <td>0</td>\n",
       "      <td>1</td>\n",
       "    </tr>\n",
       "    <tr>\n",
       "      <th>39</th>\n",
       "      <td>1</td>\n",
       "      <td>0</td>\n",
       "      <td>0</td>\n",
       "    </tr>\n",
       "    <tr>\n",
       "      <th>53</th>\n",
       "      <td>0</td>\n",
       "      <td>1</td>\n",
       "      <td>0</td>\n",
       "    </tr>\n",
       "  </tbody>\n",
       "</table>\n",
       "</div>"
      ],
      "text/plain": [
       "     setosa  versicolor  virginica\n",
       "110       0           0          1\n",
       "69        0           1          0\n",
       "148       0           0          1\n",
       "39        1           0          0\n",
       "53        0           1          0"
      ]
     },
     "execution_count": 93,
     "metadata": {},
     "output_type": "execute_result"
    }
   ],
   "source": [
    "y_train = pd.get_dummies(y_train)\n",
    "y_train.head()"
   ]
  },
  {
   "cell_type": "code",
   "execution_count": 94,
   "id": "a4ac56a1",
   "metadata": {},
   "outputs": [
    {
     "data": {
      "text/plain": [
       "3"
      ]
     },
     "execution_count": 94,
     "metadata": {},
     "output_type": "execute_result"
    }
   ],
   "source": [
    "n_class = y_train.shape[1]\n",
    "n_class"
   ]
  },
  {
   "cell_type": "markdown",
   "id": "45f1959f",
   "metadata": {},
   "source": [
    "위에서 3가지 클래스에 대해 one-hot-encoding해준 encoded y_train과 기존의 X_train을 svm에 fit 시켜줘준 후 클래스 별 classifier을 만들어준다."
   ]
  },
  {
   "cell_type": "code",
   "execution_count": 32,
   "id": "92a5c284",
   "metadata": {},
   "outputs": [
    {
     "data": {
      "text/plain": [
       "SVC(C=5, gamma=5)"
      ]
     },
     "execution_count": 32,
     "metadata": {},
     "output_type": "execute_result"
    }
   ],
   "source": [
    "svm_setosa = SVC(kernel ='rbf', C = 5, gamma = 5)\n",
    "svm_setosa.fit(X_train, y_train.iloc[:,0])\n",
    "\n",
    "svm_versicolor = SVC(kernel ='rbf', C = 5, gamma = 5)\n",
    "svm_versicolor.fit(X_train, y_train.iloc[:,1])\n",
    "               \n",
    "svm_virginica = SVC(kernel ='rbf', C = 5, gamma = 5)\n",
    "svm_virginica.fit(X_train, y_train.iloc[:,2])"
   ]
  },
  {
   "cell_type": "markdown",
   "id": "de2bfb2a",
   "metadata": {},
   "source": [
    "이후 실제 X_test 데이터에 대해서 각각의 svm을 적용시켰을 때 나타나는 예측 결과는 다음과 같았다."
   ]
  },
  {
   "cell_type": "code",
   "execution_count": 45,
   "id": "4d0f248c",
   "metadata": {},
   "outputs": [
    {
     "name": "stdout",
     "output_type": "stream",
     "text": [
      "1번째 class인 setosa에 대한 clssifier 결과\n",
      "[0 0 0 0 0 0 1 0 1 0 0 1 1 0 0 0 1 0 0 0 1 0 0 0 0 1 1 0 0 0]\n",
      "---------------------------------------------------------------\n",
      "2번째 class인 versicolor에 대한 clssifier 결과\n",
      "[1 1 1 0 0 0 0 0 0 1 0 0 0 0 1 1 0 0 0 0 0 0 1 1 0 0 0 0 0 1]\n",
      "---------------------------------------------------------------\n",
      "3번째 class인 virginica에 대한 clssifier 결과\n",
      "[0 0 0 0 1 1 0 1 0 0 1 0 0 1 0 0 0 0 0 1 0 1 0 0 1 0 0 1 1 0]\n"
     ]
    }
   ],
   "source": [
    "print(\"1번째 class인 setosa에 대한 clssifier 결과\")\n",
    "print(svm_setosa.predict(X_test))\n",
    "print(\"---------------------------------------------------------------\")\n",
    "print(\"2번째 class인 versicolor에 대한 clssifier 결과\")\n",
    "print(svm_versicolor.predict(X_test))\n",
    "print(\"---------------------------------------------------------------\")\n",
    "print(\"3번째 class인 virginica에 대한 clssifier 결과\")\n",
    "print(svm_virginica.predict(X_test))"
   ]
  },
  {
   "cell_type": "markdown",
   "id": "3ce076a7",
   "metadata": {},
   "source": [
    "이러한 예측 결과 이진 분류값을 실제와 비교하여 최종 분류예측을 진행하도록 하자.  \n",
    "가장 이상적인 경우는 결국 하나의 classifier에 대해서만 1이 나오고 나머지는 0이 나오는 경우이다. 하지만 모든 경우가 이상적일 수 없고 다른 경우가 나올 확률도 존재하기 때문에 각각의 경우의 수를 따져서 판단할 필요가 있다.\n",
    "\n",
    "**(이상적인 경우)**\n",
    "* 하나의 classifier에 대해서만 1이 나오고 나머지는 0인 경우(ex. setosa : 1, versicolor : 0, virginica : 0)\n",
    "\n",
    "**(예외의 경우)**\n",
    "* 2개 이상의 classifier에 대해 1이 나오는 경우  \n",
    "(ex1. setosa : 1, versicolor : 1, virginica : 0)  \n",
    "(ex2. setosa : 1, versicolor : 1, virginica : 1)\n",
    "* 어떠한 classifier에 대해서도 분류되지 않고 0이 나오는 경우"
   ]
  },
  {
   "cell_type": "markdown",
   "id": "85527762",
   "metadata": {},
   "source": [
    "따라서 이러한 예외의 경우에 대해서는 **desicion_function**이라는 방법을 사용하도록 한다. desicion function은 classification에 대해 예측의 불확실성을 추정해주는 기능으로 각 sample마다 하나의 실수 값이 나온다. 이 실수값은 1에 속한다고 믿는 정도로 그 크기가 클수록 1을 예측하는 정도가 커짐을 의미한다. 이에 따라서 일반적으로 값이 양수가 나오고 그 값이 크면 클수록 해당 클래스로 분류될 가능성이 높다고 말할 수 있다."
   ]
  },
  {
   "cell_type": "code",
   "execution_count": 42,
   "id": "9268b50a",
   "metadata": {},
   "outputs": [
    {
     "name": "stdout",
     "output_type": "stream",
     "text": [
      "1번째 class인 setosa에 대한 decision function\n",
      "[-1.12359969 -0.86782512 -0.65599247 -0.50194294 -0.76541147 -0.8819188\n",
      "  1.07735938 -0.99156769  0.50201986 -0.9984315  -0.84532712  0.17062549\n",
      "  0.34917127 -0.9813287  -0.72783399 -0.93313988  1.28153212 -0.56827872\n",
      " -0.73092732 -0.99670034  0.43553308 -0.96967771 -0.83939495 -1.03305682\n",
      " -0.75566609  1.13888006  0.42965012 -1.04268452 -0.93608147 -1.06090982]\n",
      "---------------------------------------------------------------------------\n",
      "2번째 class인 versicolor에 대한 decision function\n",
      "[ 1.37946585  0.64158717  0.08334644 -0.37103802 -0.2487255  -0.81469931\n",
      " -1.03237441 -0.865664   -0.79146099  0.98627485 -0.74374355 -0.65274563\n",
      " -0.72754177 -0.82140043  0.49349433  0.71459247 -1.11781529 -0.16565136\n",
      " -0.22738953 -0.99528903 -0.76367034 -0.98134121  0.10485724  1.07435138\n",
      " -0.5638643  -1.05835082 -0.76129344 -1.05493883 -0.89285055  1.17216254]\n",
      "---------------------------------------------------------------------------\n",
      "3번째 class인 virginica에 대한 decision function\n",
      "[-1.27457139 -0.78526984 -0.4283019  -0.13015479  0.02100991  0.60666785\n",
      " -1.04453951  0.87392972 -0.71179178 -0.98399934  0.54318106 -0.51951719\n",
      " -0.623009    0.79694612 -0.76730253 -0.77830886 -1.16309745 -0.26885348\n",
      " -0.0392679   0.9921313  -0.67308697  0.91631483 -0.28552792 -1.03901081\n",
      "  0.31617703 -1.08026876 -0.66965692  1.09785306  0.85212125 -1.10854399]\n"
     ]
    }
   ],
   "source": [
    "print(\"1번째 class인 setosa에 대한 decision function\")\n",
    "print(svm_setosa.decision_function(X_test))\n",
    "print(\"---------------------------------------------------------------------------\")\n",
    "print(\"2번째 class인 versicolor에 대한 decision function\")\n",
    "print(svm_versicolor.decision_function(X_test))\n",
    "print(\"---------------------------------------------------------------------------\")\n",
    "print(\"3번째 class인 virginica에 대한 decision function\")\n",
    "print(svm_virginica.decision_function(X_test))"
   ]
  },
  {
   "cell_type": "markdown",
   "id": "00bc63fc",
   "metadata": {},
   "source": [
    "위의 각 class 별 decision function을 보면 3가지 사실을 알 수 있다.\n",
    "1. 이상적인 경우에는 결국 decision function이 양수인 값이 1이고 음수인 값에서는 0으로 분류한다.\n",
    "2. 예외의 경우에서 2개 이상이 1이 나오는 경우는 1에서 모두 decision function 값이 양수고 0은 음수이다.\n",
    "3. 모두 0이 나온 경우는 decision function 값이 모두 음수이다.\n",
    "\n",
    "여기서 이 3가지 경우 모두 결국 하나의 sample 데이터에서 3가지 class 별 decision function 값이 주어질텐데 양수, 음수와 상관없이 가장 높은 값을 가지는 class로 분류하면 된다고 결론내릴 수 있다.  \n",
    "따라서 각 class의 decision function 값을 비교하며 class를 분류해보도록 한다."
   ]
  },
  {
   "cell_type": "code",
   "execution_count": 67,
   "id": "7a984f0c",
   "metadata": {},
   "outputs": [],
   "source": [
    "class_name = ['setosa','versicolor','virginica'] # 분류할 class name 정의\n",
    "\n",
    "def OVR_predict_multiclass_svm(data, class_name): # 최종 class로 분류해주는 함수 정의\n",
    "    \n",
    "    svm_machines = []\n",
    "    \n",
    "    for i in range(len(class_name)): # class 크기별로 svm을 적용시킨 값을 svm_machines에 저장.\n",
    "        svm = SVC(kernel='rbf', C=5, gamma=5)\n",
    "        svm.fit(X_train, y_train.iloc[:,i])\n",
    "        svm_machines.append(svm)\n",
    "    \n",
    "    result = []\n",
    "    for j in range(len(data)): # 전체 data의 길이만큼 for문을 통해 각 class 별 decision function 값의 argmax 값을 반환.\n",
    "        sample_df = []\n",
    "        for k in range(len(class_name)):\n",
    "            sample_df.append(svm_machines[k].decision_function(data)[j])\n",
    "        result.append(np.argmax(sample_df))\n",
    "        \n",
    "    class_result = pd.DataFrame(result).replace({0 : class_name[0], 1 : class_name[1], 2 : class_name[2]}) # 반환한 index값에 따라서 class_name으로 대체해줌.\n",
    "    \n",
    "    return class_result\n",
    "\n",
    "y_pred = OVR_predict_multiclass_svm(X_test, class_name)"
   ]
  },
  {
   "cell_type": "code",
   "execution_count": 69,
   "id": "979e4f1b",
   "metadata": {},
   "outputs": [
    {
     "data": {
      "text/html": [
       "<div>\n",
       "<style scoped>\n",
       "    .dataframe tbody tr th:only-of-type {\n",
       "        vertical-align: middle;\n",
       "    }\n",
       "\n",
       "    .dataframe tbody tr th {\n",
       "        vertical-align: top;\n",
       "    }\n",
       "\n",
       "    .dataframe thead th {\n",
       "        text-align: right;\n",
       "    }\n",
       "</style>\n",
       "<table border=\"1\" class=\"dataframe\">\n",
       "  <thead>\n",
       "    <tr style=\"text-align: right;\">\n",
       "      <th></th>\n",
       "      <th>0</th>\n",
       "    </tr>\n",
       "  </thead>\n",
       "  <tbody>\n",
       "    <tr>\n",
       "      <th>0</th>\n",
       "      <td>versicolor</td>\n",
       "    </tr>\n",
       "    <tr>\n",
       "      <th>1</th>\n",
       "      <td>versicolor</td>\n",
       "    </tr>\n",
       "    <tr>\n",
       "      <th>2</th>\n",
       "      <td>versicolor</td>\n",
       "    </tr>\n",
       "    <tr>\n",
       "      <th>3</th>\n",
       "      <td>virginica</td>\n",
       "    </tr>\n",
       "    <tr>\n",
       "      <th>4</th>\n",
       "      <td>virginica</td>\n",
       "    </tr>\n",
       "    <tr>\n",
       "      <th>5</th>\n",
       "      <td>virginica</td>\n",
       "    </tr>\n",
       "    <tr>\n",
       "      <th>6</th>\n",
       "      <td>setosa</td>\n",
       "    </tr>\n",
       "    <tr>\n",
       "      <th>7</th>\n",
       "      <td>virginica</td>\n",
       "    </tr>\n",
       "    <tr>\n",
       "      <th>8</th>\n",
       "      <td>setosa</td>\n",
       "    </tr>\n",
       "    <tr>\n",
       "      <th>9</th>\n",
       "      <td>versicolor</td>\n",
       "    </tr>\n",
       "    <tr>\n",
       "      <th>10</th>\n",
       "      <td>virginica</td>\n",
       "    </tr>\n",
       "    <tr>\n",
       "      <th>11</th>\n",
       "      <td>setosa</td>\n",
       "    </tr>\n",
       "    <tr>\n",
       "      <th>12</th>\n",
       "      <td>setosa</td>\n",
       "    </tr>\n",
       "    <tr>\n",
       "      <th>13</th>\n",
       "      <td>virginica</td>\n",
       "    </tr>\n",
       "    <tr>\n",
       "      <th>14</th>\n",
       "      <td>versicolor</td>\n",
       "    </tr>\n",
       "    <tr>\n",
       "      <th>15</th>\n",
       "      <td>versicolor</td>\n",
       "    </tr>\n",
       "    <tr>\n",
       "      <th>16</th>\n",
       "      <td>setosa</td>\n",
       "    </tr>\n",
       "    <tr>\n",
       "      <th>17</th>\n",
       "      <td>versicolor</td>\n",
       "    </tr>\n",
       "    <tr>\n",
       "      <th>18</th>\n",
       "      <td>virginica</td>\n",
       "    </tr>\n",
       "    <tr>\n",
       "      <th>19</th>\n",
       "      <td>virginica</td>\n",
       "    </tr>\n",
       "    <tr>\n",
       "      <th>20</th>\n",
       "      <td>setosa</td>\n",
       "    </tr>\n",
       "    <tr>\n",
       "      <th>21</th>\n",
       "      <td>virginica</td>\n",
       "    </tr>\n",
       "    <tr>\n",
       "      <th>22</th>\n",
       "      <td>versicolor</td>\n",
       "    </tr>\n",
       "    <tr>\n",
       "      <th>23</th>\n",
       "      <td>versicolor</td>\n",
       "    </tr>\n",
       "    <tr>\n",
       "      <th>24</th>\n",
       "      <td>virginica</td>\n",
       "    </tr>\n",
       "    <tr>\n",
       "      <th>25</th>\n",
       "      <td>setosa</td>\n",
       "    </tr>\n",
       "    <tr>\n",
       "      <th>26</th>\n",
       "      <td>setosa</td>\n",
       "    </tr>\n",
       "    <tr>\n",
       "      <th>27</th>\n",
       "      <td>virginica</td>\n",
       "    </tr>\n",
       "    <tr>\n",
       "      <th>28</th>\n",
       "      <td>virginica</td>\n",
       "    </tr>\n",
       "    <tr>\n",
       "      <th>29</th>\n",
       "      <td>versicolor</td>\n",
       "    </tr>\n",
       "  </tbody>\n",
       "</table>\n",
       "</div>"
      ],
      "text/plain": [
       "             0\n",
       "0   versicolor\n",
       "1   versicolor\n",
       "2   versicolor\n",
       "3    virginica\n",
       "4    virginica\n",
       "5    virginica\n",
       "6       setosa\n",
       "7    virginica\n",
       "8       setosa\n",
       "9   versicolor\n",
       "10   virginica\n",
       "11      setosa\n",
       "12      setosa\n",
       "13   virginica\n",
       "14  versicolor\n",
       "15  versicolor\n",
       "16      setosa\n",
       "17  versicolor\n",
       "18   virginica\n",
       "19   virginica\n",
       "20      setosa\n",
       "21   virginica\n",
       "22  versicolor\n",
       "23  versicolor\n",
       "24   virginica\n",
       "25      setosa\n",
       "26      setosa\n",
       "27   virginica\n",
       "28   virginica\n",
       "29  versicolor"
      ]
     },
     "execution_count": 69,
     "metadata": {},
     "output_type": "execute_result"
    }
   ],
   "source": [
    "y_pred"
   ]
  },
  {
   "cell_type": "markdown",
   "id": "3276f7a5",
   "metadata": {},
   "source": [
    "최종 예측값인 y_pred은 위와같이 나오게 된다."
   ]
  },
  {
   "cell_type": "code",
   "execution_count": 71,
   "id": "6d956eca",
   "metadata": {},
   "outputs": [
    {
     "name": "stdout",
     "output_type": "stream",
     "text": [
      "one vs rest SVM Accuracy : 0.8666666666666667\n"
     ]
    }
   ],
   "source": [
    "print(\"one vs rest SVM Accuracy : {}\".format(accuracy_score(y_test, y_pred)))"
   ]
  },
  {
   "cell_type": "markdown",
   "id": "56430139",
   "metadata": {},
   "source": [
    "그리고 이 결과 one vs rest를 통한 SVM 정확도 값은 약 0.87로 나옴을 확인할 수 있다."
   ]
  },
  {
   "cell_type": "markdown",
   "id": "0f0838fd",
   "metadata": {},
   "source": [
    "## 사이킷런의 Multiclass SVM 결과와 비교"
   ]
  },
  {
   "cell_type": "code",
   "execution_count": 73,
   "id": "9ff8da2b",
   "metadata": {},
   "outputs": [
    {
     "name": "stdout",
     "output_type": "stream",
     "text": [
      "Sklearn Multiclass SVM Accuracy : 0.8666666666666667\n"
     ]
    }
   ],
   "source": [
    "X_train, X_test, y_train, y_test = train_test_split(X, y, test_size=0.2, random_state=48)\n",
    "\n",
    "svm = SVC(kernel ='rbf', C = 5, gamma = 5)\n",
    "svm.fit(X_train, y_train)\n",
    "y_pred = svm.predict(X_test)\n",
    "\n",
    "print(\"Sklearn Multiclass SVM Accuracy : {}\".format(accuracy_score(y_test, y_pred)))"
   ]
  },
  {
   "cell_type": "markdown",
   "id": "253b0ee0",
   "metadata": {},
   "source": [
    "사이킷런에서 제공하는 multiclass svm의 결과 역시 정확도 값이 약 0.87로 같음을 알 수 있다."
   ]
  },
  {
   "cell_type": "markdown",
   "id": "949e7822",
   "metadata": {},
   "source": [
    "## One VS One"
   ]
  },
  {
   "cell_type": "markdown",
   "id": "85f401b3",
   "metadata": {},
   "source": [
    "one vs one 방법은 3개의 클래스에 대해서 3가지 머신을 만드는 방법이다.\n",
    "3개의 클래스 : A, B, C\n",
    "    \n",
    "1. A or B\n",
    "2. A or C\n",
    "3. B or C\n",
    "\n",
    "따라서 먼저 train 데이터에서 각 방법에 따라서 구분된 두가지 클래스를 제외한 나머지는 제거한 후에 모델에 fitting한다."
   ]
  },
  {
   "cell_type": "code",
   "execution_count": 210,
   "id": "2c4c99a5",
   "metadata": {},
   "outputs": [],
   "source": [
    "X_train, X_test, y_train, y_test = train_test_split(X, y, test_size=0.2, random_state=48)"
   ]
  },
  {
   "cell_type": "code",
   "execution_count": 211,
   "id": "8420a77a",
   "metadata": {},
   "outputs": [],
   "source": [
    "def standardization(train, test):\n",
    "    scaler = StandardScaler()\n",
    "    train = scaler.fit_transform(train)\n",
    "    test = scaler.transform(test)\n",
    "    return train, test\n",
    "\n",
    "X_train, X_test = standardization(X_train, X_test)"
   ]
  },
  {
   "cell_type": "code",
   "execution_count": 170,
   "id": "c75e59b6",
   "metadata": {},
   "outputs": [],
   "source": [
    "set_ver_X = X_train[y_train != \"virginica\"] # virginia가 아닌 X_train 데이터만 추출\n",
    "set_vir_X = X_train[y_train != \"versicolor\"] # versicolor가 아닌 X_train 데이터만 추출\n",
    "ver_vir_X = X_train[y_train != \"setosa\"] # setosa가 아닌 X_train 데이터만 추출"
   ]
  },
  {
   "cell_type": "markdown",
   "id": "21081f55",
   "metadata": {},
   "source": [
    "이후 fitting을 위한 y_train에도 one-hot-encoding을 시켜준다."
   ]
  },
  {
   "cell_type": "code",
   "execution_count": 171,
   "id": "89e9fc4d",
   "metadata": {},
   "outputs": [],
   "source": [
    "set_ver_encoded = pd.get_dummies(y_train[y_train != 'virginica'], drop_first=True) # 1이면 versicolor, 0이면 setosa\n",
    "set_vir_encoded = pd.get_dummies(y_train[y_train != 'versicolor'], drop_first=True) # 1이면 virginica, 0이면 setosa\n",
    "ver_vir_encoded = pd.get_dummies(y_train[y_train != 'setosa'], drop_first=True) # 1이면 virginica, 0이면 versicolor"
   ]
  },
  {
   "cell_type": "markdown",
   "id": "cbfebb46",
   "metadata": {},
   "source": [
    "one-hot-encoding한 y_train과 X_train을 svm에 학습시켜준 후 그 결과를 해석해보도록 한다."
   ]
  },
  {
   "cell_type": "code",
   "execution_count": 172,
   "id": "154e8e43",
   "metadata": {},
   "outputs": [
    {
     "name": "stderr",
     "output_type": "stream",
     "text": [
      "C:\\Users\\cts08\\anaconda3\\lib\\site-packages\\sklearn\\utils\\validation.py:993: DataConversionWarning: A column-vector y was passed when a 1d array was expected. Please change the shape of y to (n_samples, ), for example using ravel().\n",
      "  y = column_or_1d(y, warn=True)\n",
      "C:\\Users\\cts08\\anaconda3\\lib\\site-packages\\sklearn\\utils\\validation.py:993: DataConversionWarning: A column-vector y was passed when a 1d array was expected. Please change the shape of y to (n_samples, ), for example using ravel().\n",
      "  y = column_or_1d(y, warn=True)\n",
      "C:\\Users\\cts08\\anaconda3\\lib\\site-packages\\sklearn\\utils\\validation.py:993: DataConversionWarning: A column-vector y was passed when a 1d array was expected. Please change the shape of y to (n_samples, ), for example using ravel().\n",
      "  y = column_or_1d(y, warn=True)\n"
     ]
    },
    {
     "data": {
      "text/plain": [
       "SVC(C=5, gamma=5)"
      ]
     },
     "execution_count": 172,
     "metadata": {},
     "output_type": "execute_result"
    }
   ],
   "source": [
    "svm_set_ver = SVC(kernel ='rbf', C = 5, gamma = 5)\n",
    "svm_set_ver.fit(set_ver_X, set_ver_encoded)\n",
    "\n",
    "svm_set_vir = SVC(kernel ='rbf', C = 5, gamma = 5)\n",
    "svm_set_vir.fit(set_vir_X, set_vir_encoded)\n",
    "\n",
    "svm_ver_vir = SVC(kernel ='rbf', C = 5, gamma = 5)\n",
    "svm_ver_vir.fit(ver_vir_X, ver_vir_encoded)"
   ]
  },
  {
   "cell_type": "code",
   "execution_count": 173,
   "id": "c11dc44f",
   "metadata": {},
   "outputs": [
    {
     "data": {
      "text/plain": [
       "array([1, 1, 1, 1, 1, 1, 0, 1, 0, 1, 1, 0, 0, 1, 1, 1, 0, 1, 1, 1, 0, 1,\n",
       "       1, 1, 1, 0, 0, 1, 1, 1], dtype=uint8)"
      ]
     },
     "execution_count": 173,
     "metadata": {},
     "output_type": "execute_result"
    }
   ],
   "source": [
    "svm_set_ver.predict(X_test)"
   ]
  },
  {
   "cell_type": "markdown",
   "id": "8143c3c2",
   "metadata": {},
   "source": [
    "virginica가 아닌 데이터를 가지고 했을 때의 예측 결과로 1일때는 versicolor, 0일때는 setosa를 의미한다."
   ]
  },
  {
   "cell_type": "code",
   "execution_count": 174,
   "id": "47faea04",
   "metadata": {},
   "outputs": [
    {
     "data": {
      "text/plain": [
       "array([1, 1, 1, 1, 1, 1, 0, 1, 0, 1, 1, 0, 0, 1, 1, 1, 0, 1, 1, 1, 0, 1,\n",
       "       1, 1, 1, 0, 0, 1, 1, 1], dtype=uint8)"
      ]
     },
     "execution_count": 174,
     "metadata": {},
     "output_type": "execute_result"
    }
   ],
   "source": [
    "svm_set_vir.predict(X_test)"
   ]
  },
  {
   "cell_type": "markdown",
   "id": "c0c60648",
   "metadata": {},
   "source": [
    "versicolor가 아닌 데이터를 가지고 했을 때의 예측 결과로 1일때는 virginica, 0일때는 setosa를 의미한다."
   ]
  },
  {
   "cell_type": "code",
   "execution_count": 175,
   "id": "971fc121",
   "metadata": {},
   "outputs": [
    {
     "data": {
      "text/plain": [
       "array([0, 0, 0, 1, 1, 1, 1, 1, 1, 0, 1, 1, 1, 1, 0, 0, 1, 0, 1, 1, 1, 1,\n",
       "       0, 0, 1, 1, 1, 1, 1, 0], dtype=uint8)"
      ]
     },
     "execution_count": 175,
     "metadata": {},
     "output_type": "execute_result"
    }
   ],
   "source": [
    "svm_ver_vir.predict(X_test)"
   ]
  },
  {
   "cell_type": "markdown",
   "id": "4e4078b5",
   "metadata": {},
   "source": [
    "setosa가 아닌 데이터를 가지고 했을 때의 예측 결과로 1일때는 virginica, 0일때는 versicolor를 의미한다."
   ]
  },
  {
   "cell_type": "markdown",
   "id": "6ea6bd4c",
   "metadata": {},
   "source": [
    "3가지 분류 머신에 대해 이진 분류로 나오므로 one vs rest와 같이 동점인 상황이 나오지 않는다. 따라서 따로 decision function과 같이 불확실한 예측에 대해 조정할 필요 없이 단순히 분류된 수치를 통해 최종 분류를 진행하면 된다. 그리고 이를 voting 방식을 통해 진행한다."
   ]
  },
  {
   "cell_type": "code",
   "execution_count": 217,
   "id": "077641cb",
   "metadata": {},
   "outputs": [
    {
     "name": "stderr",
     "output_type": "stream",
     "text": [
      "C:\\Users\\cts08\\anaconda3\\lib\\site-packages\\sklearn\\utils\\validation.py:993: DataConversionWarning: A column-vector y was passed when a 1d array was expected. Please change the shape of y to (n_samples, ), for example using ravel().\n",
      "  y = column_or_1d(y, warn=True)\n",
      "C:\\Users\\cts08\\anaconda3\\lib\\site-packages\\sklearn\\utils\\validation.py:993: DataConversionWarning: A column-vector y was passed when a 1d array was expected. Please change the shape of y to (n_samples, ), for example using ravel().\n",
      "  y = column_or_1d(y, warn=True)\n",
      "C:\\Users\\cts08\\anaconda3\\lib\\site-packages\\sklearn\\utils\\validation.py:993: DataConversionWarning: A column-vector y was passed when a 1d array was expected. Please change the shape of y to (n_samples, ), for example using ravel().\n",
      "  y = column_or_1d(y, warn=True)\n"
     ]
    }
   ],
   "source": [
    "class_name = ['setosa','versicolor','virginica'] # 분류할 class name 정의\n",
    "\n",
    "def OVO_predict_multiclass_svm(data, class_name): # 최종 class로 분류해주는 함수 정의\n",
    "    \n",
    "    pred = []\n",
    "    \n",
    "    for i in range(len(class_name)): # class 크기별로 svm을 적용시킨 값을 pred에 저장.\n",
    "        not_X = X_train[y_train != class_name[i]] # i번째 class를 제외한 나머지 클래스에 대해 필요한 X_train 데이터 설정.\n",
    "        not_encoded = pd.get_dummies(y_train[y_train != class_name[i]], drop_first=True) # 해당 두 클래스의 one-hot-encoding 설정.\n",
    "        svm = SVC(kernel='rbf', C=5, gamma=5)\n",
    "        svm.fit(not_X, not_encoded) # 위에서 정의한 X 데이터와 encoded 데이터를 fitting 해줌.\n",
    "        not_pred = svm.predict(data) # 예측값 추출.\n",
    "        pred.append(not_pred)\n",
    "    \n",
    "    result = []\n",
    "    \n",
    "    for j in range(len(pred[0])): # y_test 길이만큼 반복문을 진행해 하나의 sample 값에서 3가지 머신 결과를 voting 방식으로 최종 분류값 추출.\n",
    "        sample_vote = np.zeros(len(class_name))\n",
    "        \n",
    "        if pred[0][j] == 0: # versicolor 이면\n",
    "            sample_vote[1] += 1\n",
    "        elif pred[0][j] == 1: # virginica 면\n",
    "            sample_vote[2] += 1\n",
    "            \n",
    "        if pred[1][j] == 0: # setosa 이면\n",
    "            sample_vote[0] += 1\n",
    "        elif pred[1][j] == 1: # virginica 이면\n",
    "            sample_vote[2] += 1\n",
    "            \n",
    "        if pred[2][j] == 0: # setosa 이면\n",
    "            sample_vote[0] += 1\n",
    "        elif pred[2][j] == 1: # versicolor 이면\n",
    "            sample_vote[1] += 1\n",
    "            \n",
    "        result.append(np.argmax(sample_vote)) # argmax 방식으로 최종 vote 결과를 result에 넣어줌.\n",
    "        \n",
    "        \n",
    "    class_result = pd.DataFrame(result).replace({0 : class_name[0], 1 : class_name[1], 2 : class_name[2]}) # 반환한 index값에 따라서 class_name으로 대체해줌.\n",
    "    \n",
    "    return class_result\n",
    "\n",
    "y_pred = OVO_predict_multiclass_svm(X_test, class_name)"
   ]
  },
  {
   "cell_type": "code",
   "execution_count": 218,
   "id": "0e34af37",
   "metadata": {},
   "outputs": [
    {
     "data": {
      "text/html": [
       "<div>\n",
       "<style scoped>\n",
       "    .dataframe tbody tr th:only-of-type {\n",
       "        vertical-align: middle;\n",
       "    }\n",
       "\n",
       "    .dataframe tbody tr th {\n",
       "        vertical-align: top;\n",
       "    }\n",
       "\n",
       "    .dataframe thead th {\n",
       "        text-align: right;\n",
       "    }\n",
       "</style>\n",
       "<table border=\"1\" class=\"dataframe\">\n",
       "  <thead>\n",
       "    <tr style=\"text-align: right;\">\n",
       "      <th></th>\n",
       "      <th>0</th>\n",
       "    </tr>\n",
       "  </thead>\n",
       "  <tbody>\n",
       "    <tr>\n",
       "      <th>0</th>\n",
       "      <td>versicolor</td>\n",
       "    </tr>\n",
       "    <tr>\n",
       "      <th>1</th>\n",
       "      <td>versicolor</td>\n",
       "    </tr>\n",
       "    <tr>\n",
       "      <th>2</th>\n",
       "      <td>versicolor</td>\n",
       "    </tr>\n",
       "    <tr>\n",
       "      <th>3</th>\n",
       "      <td>virginica</td>\n",
       "    </tr>\n",
       "    <tr>\n",
       "      <th>4</th>\n",
       "      <td>virginica</td>\n",
       "    </tr>\n",
       "    <tr>\n",
       "      <th>5</th>\n",
       "      <td>virginica</td>\n",
       "    </tr>\n",
       "    <tr>\n",
       "      <th>6</th>\n",
       "      <td>setosa</td>\n",
       "    </tr>\n",
       "    <tr>\n",
       "      <th>7</th>\n",
       "      <td>virginica</td>\n",
       "    </tr>\n",
       "    <tr>\n",
       "      <th>8</th>\n",
       "      <td>setosa</td>\n",
       "    </tr>\n",
       "    <tr>\n",
       "      <th>9</th>\n",
       "      <td>versicolor</td>\n",
       "    </tr>\n",
       "    <tr>\n",
       "      <th>10</th>\n",
       "      <td>virginica</td>\n",
       "    </tr>\n",
       "    <tr>\n",
       "      <th>11</th>\n",
       "      <td>setosa</td>\n",
       "    </tr>\n",
       "    <tr>\n",
       "      <th>12</th>\n",
       "      <td>setosa</td>\n",
       "    </tr>\n",
       "    <tr>\n",
       "      <th>13</th>\n",
       "      <td>virginica</td>\n",
       "    </tr>\n",
       "    <tr>\n",
       "      <th>14</th>\n",
       "      <td>versicolor</td>\n",
       "    </tr>\n",
       "    <tr>\n",
       "      <th>15</th>\n",
       "      <td>versicolor</td>\n",
       "    </tr>\n",
       "    <tr>\n",
       "      <th>16</th>\n",
       "      <td>setosa</td>\n",
       "    </tr>\n",
       "    <tr>\n",
       "      <th>17</th>\n",
       "      <td>versicolor</td>\n",
       "    </tr>\n",
       "    <tr>\n",
       "      <th>18</th>\n",
       "      <td>virginica</td>\n",
       "    </tr>\n",
       "    <tr>\n",
       "      <th>19</th>\n",
       "      <td>virginica</td>\n",
       "    </tr>\n",
       "    <tr>\n",
       "      <th>20</th>\n",
       "      <td>setosa</td>\n",
       "    </tr>\n",
       "    <tr>\n",
       "      <th>21</th>\n",
       "      <td>virginica</td>\n",
       "    </tr>\n",
       "    <tr>\n",
       "      <th>22</th>\n",
       "      <td>versicolor</td>\n",
       "    </tr>\n",
       "    <tr>\n",
       "      <th>23</th>\n",
       "      <td>versicolor</td>\n",
       "    </tr>\n",
       "    <tr>\n",
       "      <th>24</th>\n",
       "      <td>virginica</td>\n",
       "    </tr>\n",
       "    <tr>\n",
       "      <th>25</th>\n",
       "      <td>setosa</td>\n",
       "    </tr>\n",
       "    <tr>\n",
       "      <th>26</th>\n",
       "      <td>setosa</td>\n",
       "    </tr>\n",
       "    <tr>\n",
       "      <th>27</th>\n",
       "      <td>virginica</td>\n",
       "    </tr>\n",
       "    <tr>\n",
       "      <th>28</th>\n",
       "      <td>virginica</td>\n",
       "    </tr>\n",
       "    <tr>\n",
       "      <th>29</th>\n",
       "      <td>versicolor</td>\n",
       "    </tr>\n",
       "  </tbody>\n",
       "</table>\n",
       "</div>"
      ],
      "text/plain": [
       "             0\n",
       "0   versicolor\n",
       "1   versicolor\n",
       "2   versicolor\n",
       "3    virginica\n",
       "4    virginica\n",
       "5    virginica\n",
       "6       setosa\n",
       "7    virginica\n",
       "8       setosa\n",
       "9   versicolor\n",
       "10   virginica\n",
       "11      setosa\n",
       "12      setosa\n",
       "13   virginica\n",
       "14  versicolor\n",
       "15  versicolor\n",
       "16      setosa\n",
       "17  versicolor\n",
       "18   virginica\n",
       "19   virginica\n",
       "20      setosa\n",
       "21   virginica\n",
       "22  versicolor\n",
       "23  versicolor\n",
       "24   virginica\n",
       "25      setosa\n",
       "26      setosa\n",
       "27   virginica\n",
       "28   virginica\n",
       "29  versicolor"
      ]
     },
     "execution_count": 218,
     "metadata": {},
     "output_type": "execute_result"
    }
   ],
   "source": [
    "y_pred"
   ]
  },
  {
   "cell_type": "markdown",
   "id": "3b512975",
   "metadata": {},
   "source": [
    "최종 예측값인 y_pred은 위와같이 나오게 된다."
   ]
  },
  {
   "cell_type": "code",
   "execution_count": 219,
   "id": "3d01663b",
   "metadata": {},
   "outputs": [
    {
     "name": "stdout",
     "output_type": "stream",
     "text": [
      "one vs one SVM Accuracy : 0.8666666666666667\n"
     ]
    }
   ],
   "source": [
    "print(\"one vs one SVM Accuracy : {}\".format(accuracy_score(y_test, y_pred)))"
   ]
  },
  {
   "cell_type": "markdown",
   "id": "1513157f",
   "metadata": {},
   "source": [
    "그리고 이 결과 one vs one를 통한 SVM 정확도 값은 약 0.87로 나옴을 확인할 수 있다. 또한 이 정확도 값 역시 기존의 one vs rest와 사이킷런의 결과값과 동일함을 확인할 수 있다."
   ]
  }
 ],
 "metadata": {
  "kernelspec": {
   "display_name": "Python 3 (ipykernel)",
   "language": "python",
   "name": "python3"
  },
  "language_info": {
   "codemirror_mode": {
    "name": "ipython",
    "version": 3
   },
   "file_extension": ".py",
   "mimetype": "text/x-python",
   "name": "python",
   "nbconvert_exporter": "python",
   "pygments_lexer": "ipython3",
   "version": "3.9.15"
  }
 },
 "nbformat": 4,
 "nbformat_minor": 5
}
