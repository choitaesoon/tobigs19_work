{
 "cells": [
  {
   "cell_type": "markdown",
   "id": "65c992fd",
   "metadata": {},
   "source": [
    "# 1. 222-풀링"
   ]
  },
  {
   "cell_type": "code",
   "execution_count": 76,
   "id": "cdf62380",
   "metadata": {},
   "outputs": [
    {
     "name": "stdout",
     "output_type": "stream",
     "text": [
      "4\n",
      "-6 -8 7 -4\n",
      "-5 -5 14 11\n",
      "11 11 -1 -1\n",
      "4 9 -2 -4\n",
      "11\n"
     ]
    }
   ],
   "source": [
    "def sec_score():\n",
    "    n = int(input())\n",
    "    n_list = [list(map(int, input().split())) for _ in range(n)]\n",
    "\n",
    "    while len(n_list[-1]) > 1:\n",
    "        sec_list = []\n",
    "        for i in range(0, len(n_list[-1]),2):\n",
    "            a = []\n",
    "            for j in range(0, len(n_list[-1]),2):\n",
    "                arr = sorted([n_list[i][j],n_list[i][j+1],n_list[i+1][j], n_list[i+1][j+1]], reverse = True)\n",
    "                a.append(arr[1])\n",
    "            sec_list.append(a)\n",
    "        n_list = sec_list\n",
    "    print(n_list[0][0])\n",
    "sec_score()"
   ]
  },
  {
   "cell_type": "markdown",
   "id": "641c3cf3",
   "metadata": {},
   "source": [
    "# 2. 색종이 만들기"
   ]
  },
  {
   "cell_type": "code",
   "execution_count": 71,
   "id": "1fc25e40",
   "metadata": {},
   "outputs": [
    {
     "name": "stdout",
     "output_type": "stream",
     "text": [
      "4\n",
      "1 1 0 0\n",
      "1 1 0 0\n",
      "0 0 0 0\n",
      "0 0 0 0\n",
      "3\n",
      "1\n"
     ]
    }
   ],
   "source": [
    "n = int(input())\n",
    "n_list = [list(map(int, input().split())) for _ in range(n)]\n",
    "\n",
    "zero_count = 0\n",
    "one_count = 0\n",
    "\n",
    "def paper(x, y, n):\n",
    "    \n",
    "    global zero_count, one_count\n",
    "    \n",
    "    count = n_list[x][y]\n",
    "    \n",
    "    for i in range(x, x+n):\n",
    "        for j in range(y, y+n):\n",
    "            if count != n_list[i][j]:\n",
    "                first = paper(x, y, n//2)\n",
    "                second = paper(x, y + n//2, n//2)\n",
    "                third = paper(x + n//2, y, n//2)\n",
    "                fourth = paper(x + n//2, y + n//2, n//2)\n",
    "                return\n",
    "    if count == 0:\n",
    "        zero_count += 1\n",
    "    else:\n",
    "        one_count += 1\n",
    "\n",
    "paper(0,0,n)\n",
    "print(zero_count)\n",
    "print(one_count)"
   ]
  },
  {
   "cell_type": "markdown",
   "id": "e8e8683a",
   "metadata": {},
   "source": [
    "# 3. 종이의 개수"
   ]
  },
  {
   "cell_type": "code",
   "execution_count": 73,
   "id": "dd7a97da",
   "metadata": {},
   "outputs": [
    {
     "name": "stdout",
     "output_type": "stream",
     "text": [
      "9\n",
      "0 0 0 1 1 1 -1 -1 -1\n",
      "0 0 0 1 1 1 -1 -1 -1\n",
      "0 0 0 1 1 1 -1 -1 -1\n",
      "1 1 1 0 0 0 0 0 0 \n",
      "1 1 1 0 0 0 0 0 0\n",
      "1 1 1 0 0 0 0 0 0\n",
      "0 1 -1 0 1 -1 0 1 -1\n",
      "0 -1 1 0 1 -1 0 1 -1\n",
      "0 1 -1 1 0 -1 0 1 -1\n",
      "12\n",
      "11\n"
     ]
    }
   ],
   "source": [
    "n = int(input())\n",
    "n_list = [list(map(int, input().split())) for _ in range(n)]\n",
    "\n",
    "minus_count = 0\n",
    "zero_count = 0\n",
    "one_count = 0\n",
    "\n",
    "def paper(x, y, n):\n",
    "    \n",
    "    global minus_count, zero_count, one_count\n",
    "    \n",
    "    count = n_list[x][y]\n",
    "    \n",
    "    for i in range(x, x+n):\n",
    "        for j in range(y, y+n):\n",
    "            if count != n_list[i][j]:\n",
    "                a = paper(x, y, n//3)\n",
    "                b = paper(x, y + n//3, n//3)\n",
    "                c = paper(x, y + 2* n//3, n//3)\n",
    "                d = paper(x + n//3, y, n//3)\n",
    "                e = paper(x + n//3, y + n//3, n//3)\n",
    "                f = paper(x + n//3, y + 2* n//3, n//3)\n",
    "                g = paper(x + 2* n//3, y, n//3)\n",
    "                h = paper(x + 2* n//3, y + n//3, n//3)\n",
    "                i = paper(x + 2* n//3, y + 2* n//3, n//3)\n",
    "                return\n",
    "    if count == -1:\n",
    "        minus_count += 1\n",
    "    elif count == 0:\n",
    "        zero_count += 1,\n",
    "    else:\n",
    "        one_count += 1\n",
    "\n",
    "paper(0,0,n)\n",
    "print(minus_count)\n",
    "print(zero_count)\n",
    "print(one_count)"
   ]
  },
  {
   "cell_type": "markdown",
   "id": "a454aa5f",
   "metadata": {},
   "source": [
    "# 4. 쿼드트리"
   ]
  },
  {
   "cell_type": "code",
   "execution_count": 83,
   "id": "7bfab6bc",
   "metadata": {},
   "outputs": [
    {
     "name": "stdout",
     "output_type": "stream",
     "text": [
      "8\n",
      "11110000\n",
      "11110000\n",
      "11110000\n",
      "00011100\n",
      "00011100\n",
      "11110000\n",
      "11110000\n",
      "11110011\n",
      "((11(1100)(1101))(00(0011)0)((0011)(0111)11)((1100)00(0011)))"
     ]
    }
   ],
   "source": [
    "n = int(input())\n",
    "n_list = [list(map(int, input().rstrip())) for _ in range(n)]\n",
    "\n",
    "def paper(x, y, n):\n",
    "    count = n_list[x][y]\n",
    "    \n",
    "    for i in range(x, x+n):\n",
    "        for j in range(y, y+n):\n",
    "            if count != n_list[i][j]:\n",
    "                print(\"(\", end = \"\")\n",
    "                first = paper(x, y, n//2)\n",
    "                second = paper(x, y + n//2, n//2)\n",
    "                third = paper(x + n//2, y, n//2)\n",
    "                fourth = paper(x + n//2, y + n//2, n//2)\n",
    "                print(\")\", end = \"\")\n",
    "                return\n",
    "    print(count, end = \"\")\n",
    "    \n",
    "paper(0,0,n)"
   ]
  }
 ],
 "metadata": {
  "kernelspec": {
   "display_name": "Python 3 (ipykernel)",
   "language": "python",
   "name": "python3"
  },
  "language_info": {
   "codemirror_mode": {
    "name": "ipython",
    "version": 3
   },
   "file_extension": ".py",
   "mimetype": "text/x-python",
   "name": "python",
   "nbconvert_exporter": "python",
   "pygments_lexer": "ipython3",
   "version": "3.9.15"
  }
 },
 "nbformat": 4,
 "nbformat_minor": 5
}
