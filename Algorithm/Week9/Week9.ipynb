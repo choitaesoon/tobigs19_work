{
 "cells": [
  {
   "cell_type": "markdown",
   "id": "51c7b27f",
   "metadata": {},
   "source": [
    "# 1. 동전 0 (백준 11047번)"
   ]
  },
  {
   "cell_type": "code",
   "execution_count": 17,
   "id": "7c8b9f2c",
   "metadata": {},
   "outputs": [
    {
     "name": "stdout",
     "output_type": "stream",
     "text": [
      "10 4790\n",
      "1\n",
      "5\n",
      "10\n",
      "50\n",
      "100\n",
      "500\n",
      "1000\n",
      "5000\n",
      "10000\n",
      "50000\n",
      "12\n"
     ]
    }
   ],
   "source": [
    "n, k = map(int, input().split()) \n",
    "n_list = [int(input()) for i in range(n)]\n",
    "\n",
    "count = 0\n",
    "\n",
    "for j in reversed(n_list):\n",
    "    if j > k:\n",
    "        continue\n",
    "    count += (k//j)\n",
    "    k %= j\n",
    "    \n",
    "print(count)"
   ]
  },
  {
   "cell_type": "markdown",
   "id": "601af970",
   "metadata": {},
   "source": [
    "# 2. 회의실 배정 (백준 1931번)"
   ]
  },
  {
   "cell_type": "code",
   "execution_count": 35,
   "id": "1757345c",
   "metadata": {},
   "outputs": [
    {
     "name": "stdout",
     "output_type": "stream",
     "text": [
      "11\n",
      "1 4\n",
      "3 5\n",
      "0 6\n",
      "5 7\n",
      "5 9\n",
      "3 8\n",
      "8 11\n",
      "2 13\n",
      "8 12\n",
      "6 10\n",
      "12 14\n",
      "4\n"
     ]
    }
   ],
   "source": [
    "n = int(input())\n",
    "start_end = [tuple(map(int, input().split())) for _ in range(n)]\n",
    "start_end.sort(key = lambda x: (x[1], x[0]))\n",
    "\n",
    "count = 1\n",
    "end_1st = start_end[0][1]\n",
    "\n",
    "for i in start_end[1:]:\n",
    "    if i[0] >= end_1st:\n",
    "        count +=1\n",
    "        end_1st = i[1]\n",
    "print(count)"
   ]
  },
  {
   "cell_type": "markdown",
   "id": "a78b4e8d",
   "metadata": {},
   "source": [
    "# 3. ATM (백준 11399번)"
   ]
  },
  {
   "cell_type": "code",
   "execution_count": 19,
   "id": "37345c8f",
   "metadata": {},
   "outputs": [
    {
     "name": "stdout",
     "output_type": "stream",
     "text": [
      "3\n",
      "1 2 3\n",
      "10\n"
     ]
    }
   ],
   "source": [
    "n = int(input())\n",
    "n_list = list(map(int,input().split()))\n",
    "\n",
    "n_list.sort(reverse=True)\n",
    "sum_list = [0]*n\n",
    "\n",
    "for i in range(n):\n",
    "    sum_list = [x+y for x, y in zip(sum_list, (n_list[i:] + [0]*i))]\n",
    "\n",
    "print(sum(sum_list))"
   ]
  },
  {
   "cell_type": "markdown",
   "id": "dd035821",
   "metadata": {},
   "source": [
    "# 4. DNA (백준 1969번)"
   ]
  },
  {
   "cell_type": "code",
   "execution_count": 75,
   "id": "d9014524",
   "metadata": {},
   "outputs": [
    {
     "name": "stdout",
     "output_type": "stream",
     "text": [
      "5 8\n",
      "TATGATAC\n",
      "TAAGCTAC\n",
      "AAAGATCC\n",
      "TGAGATAC\n",
      "TAAGATGT\n",
      "TAAGATAC\n",
      "7\n"
     ]
    }
   ],
   "source": [
    "n, m = map(int, input().split()) \n",
    "n_list = [input() for _ in range(n)]\n",
    "\n",
    "dna = ''\n",
    "\n",
    "for i in range(m):\n",
    "    value = {'A':0, 'C':0, 'G':0, 'T':0}\n",
    "    for j in range(n):\n",
    "        value[n_list[j][i]] += 1\n",
    "    dna += max(value, key=value.get)\n",
    "\n",
    "answer = 0\n",
    "for j in range(n):\n",
    "    for i in range(m):\n",
    "        if dna[i] != n_list[j][i]:\n",
    "            answer += 1\n",
    "\n",
    "print(dna)\n",
    "print(answer)"
   ]
  }
 ],
 "metadata": {
  "kernelspec": {
   "display_name": "Python 3 (ipykernel)",
   "language": "python",
   "name": "python3"
  },
  "language_info": {
   "codemirror_mode": {
    "name": "ipython",
    "version": 3
   },
   "file_extension": ".py",
   "mimetype": "text/x-python",
   "name": "python",
   "nbconvert_exporter": "python",
   "pygments_lexer": "ipython3",
   "version": "3.9.15"
  }
 },
 "nbformat": 4,
 "nbformat_minor": 5
}
