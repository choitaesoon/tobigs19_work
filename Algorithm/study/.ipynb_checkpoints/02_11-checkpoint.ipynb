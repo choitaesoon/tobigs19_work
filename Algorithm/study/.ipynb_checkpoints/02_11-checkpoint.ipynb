{
 "cells": [
  {
   "cell_type": "markdown",
   "id": "a7b8bba8",
   "metadata": {},
   "source": [
    "## 실버5. 진짜 메시지"
   ]
  },
  {
   "cell_type": "code",
   "execution_count": 70,
   "id": "08a64b4e",
   "metadata": {},
   "outputs": [
    {
     "name": "stdout",
     "output_type": "stream",
     "text": [
      "1\n",
      "AA\n",
      "OK\n"
     ]
    }
   ],
   "source": [
    "# 안돌아감..\n",
    "\n",
    "for _ in range(int(input())):\n",
    "    answer = input()\n",
    "    def get_counts(seq): \n",
    "        counts = {}\n",
    "        for x in seq:\n",
    "            if x in counts:\n",
    "                counts[x] += 1\n",
    "            else:\n",
    "                counts[x] = 1\n",
    "        return counts\n",
    "    a = get_counts(answer)\n",
    "    result = 'OK'\n",
    "    for key in a.keys():\n",
    "        if a[key] in [3+4*i for i in range(len(answer))]:\n",
    "            result = 'FAKE'\n",
    "            break\n",
    "    print(result)"
   ]
  },
  {
   "cell_type": "code",
   "execution_count": 66,
   "id": "4adecc3d",
   "metadata": {},
   "outputs": [
    {
     "name": "stdout",
     "output_type": "stream",
     "text": [
      "1\n",
      "AFAAAAAAAA\n",
      "OK\n"
     ]
    }
   ],
   "source": [
    "for _ in range(int(input())):\n",
    "    answer = input()\n",
    "    count = [0 for _ in range(26)]\n",
    "    result = 'OK'\n",
    "    chk = False\n",
    "    for i in range(len(m)):\n",
    "        if chk:\n",
    "            chk = False\n",
    "            continue\n",
    "        count[ord(answer[i])-65] += 1\n",
    "        if count[ord(answer[i])-65] == 3:\n",
    "            if i == len(answer) - 1:\n",
    "                result = 'FAKE'\n",
    "                break\n",
    "            elif answer[i] != answer[i+1]:\n",
    "                result = 'FAKE'\n",
    "                break\n",
    "            chk = True\n",
    "            count[ord(answer[i])-65] = 0\n",
    "    print(result)"
   ]
  },
  {
   "cell_type": "markdown",
   "id": "da45b966",
   "metadata": {},
   "source": [
    "## 실버 4. 괄호"
   ]
  },
  {
   "cell_type": "code",
   "execution_count": 85,
   "id": "6eccbb3f",
   "metadata": {
    "scrolled": true
   },
   "outputs": [
    {
     "name": "stdout",
     "output_type": "stream",
     "text": [
      "6\n",
      "(())())\n",
      "NO\n",
      "(((()())()\n",
      "NO\n",
      "(()())((()))\n",
      "YES\n",
      "((()()(()))(((())))()\n",
      "NO\n",
      "()()()()(()()())()\n",
      "YES\n",
      "(()((())()(\n",
      "NO\n"
     ]
    }
   ],
   "source": [
    "for _ in range(int(input())):\n",
    "    answer = list(input())\n",
    "    count = 0\n",
    "    res = \"YES\"\n",
    "    if answer.count(\"(\") != answer.count(\")\"):  # input 값들이 VPS를 만족하려면 기본적으로 (의 개수와 )의 개수가 일치해야함.\n",
    "        res = \"NO\"\n",
    "    else:\n",
    "        for i in range(len(answer)):   # 이후 (의 경우와 )의 경우를 각각 count하여 (는 +1을 )는 -1을 해줌. \n",
    "            if count >= 0:             # 이때 항상 vps를 만족하려면 count가 음수가 나올 수 없음.\n",
    "                if answer[i] == \"(\":   # (count가 어느 경우에서든 음수가 나온다는 것은 )가 한번 더 나온다는 의미 혹은 )로 시작한다는 뜻)\n",
    "                    count += 1         # ex. (()))(() - (와 )의 개수는 같지만 처음부터 count를 하다보면 4번째에서 5번째로 넘어갈 때 )에 의해 음수가 나옴\n",
    "                else:\n",
    "                    count -= 1\n",
    "            elif count < 0:\n",
    "                res = \"NO\"\n",
    "                break\n",
    "    print(res) # 최종 res 출력"
   ]
  },
  {
   "cell_type": "markdown",
   "id": "b2255a31",
   "metadata": {},
   "source": [
    "## 실버 3. 서로 다른 부분 문자열의 개수"
   ]
  },
  {
   "cell_type": "code",
   "execution_count": 141,
   "id": "4be56ad1",
   "metadata": {},
   "outputs": [
    {
     "name": "stdout",
     "output_type": "stream",
     "text": [
      "ababc\n",
      "12\n"
     ]
    }
   ],
   "source": [
    "answer = input()\n",
    "result = []\n",
    "for i in range(len(answer)): # input 값에 대해 시작 단어 위치를 지정하는 for문\n",
    "    for j in range(i, len(answer)): # 시작 단어부터 단어 길이만큼의 단어 추출\n",
    "        word = answer[i:j+1]\n",
    "        result.append(word)\n",
    "print(len(set(result))) # 중복제거"
   ]
  },
  {
   "cell_type": "code",
   "execution_count": null,
   "id": "e4dd0263",
   "metadata": {},
   "outputs": [],
   "source": []
  }
 ],
 "metadata": {
  "kernelspec": {
   "display_name": "Python 3 (ipykernel)",
   "language": "python",
   "name": "python3"
  },
  "language_info": {
   "codemirror_mode": {
    "name": "ipython",
    "version": 3
   },
   "file_extension": ".py",
   "mimetype": "text/x-python",
   "name": "python",
   "nbconvert_exporter": "python",
   "pygments_lexer": "ipython3",
   "version": "3.9.15"
  }
 },
 "nbformat": 4,
 "nbformat_minor": 5
}
