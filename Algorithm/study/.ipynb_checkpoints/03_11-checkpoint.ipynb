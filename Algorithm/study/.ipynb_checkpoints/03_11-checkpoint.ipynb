{
 "cells": [
  {
   "cell_type": "markdown",
   "id": "cba8e1e6",
   "metadata": {},
   "source": [
    "# 팩토리얼(백준 10872번)"
   ]
  },
  {
   "cell_type": "code",
   "execution_count": 1,
   "id": "ae02f2a0",
   "metadata": {},
   "outputs": [
    {
     "name": "stdout",
     "output_type": "stream",
     "text": [
      "0\n",
      "1\n"
     ]
    }
   ],
   "source": [
    "def factorial(n):\n",
    "    if n == 0:\n",
    "        return 1\n",
    "    elif n == 1:\n",
    "        return 1\n",
    "    return n * factorial(n-1)\n",
    "\n",
    "print(factorial(int(input())))"
   ]
  },
  {
   "cell_type": "markdown",
   "id": "29f78b2e",
   "metadata": {},
   "source": [
    "# 재귀의 귀재(백준 25501번)"
   ]
  },
  {
   "cell_type": "code",
   "execution_count": 7,
   "id": "f8b68364",
   "metadata": {},
   "outputs": [
    {
     "name": "stdout",
     "output_type": "stream",
     "text": [
      "5\n",
      "AAA\n",
      "1 2\n",
      "ABBA\n",
      "1 3\n",
      "ABABA\n",
      "1 3\n",
      "ABCA\n",
      "0 2\n",
      "PALINDROME\n",
      "0 1\n"
     ]
    }
   ],
   "source": [
    "def recursion(s, l, r):\n",
    "    global count\n",
    "    count += 1\n",
    "    if l >= r: return 1\n",
    "    elif s[l] != s[r]: return 0\n",
    "    else: return recursion(s, l+1, r-1)\n",
    "\n",
    "def isPalindrome(s):\n",
    "    return recursion(s, 0, len(s)-1)\n",
    "\n",
    "for _ in range(int(input())):\n",
    "    count = 0\n",
    "    print(isPalindrome(input()), count)"
   ]
  }
 ],
 "metadata": {
  "kernelspec": {
   "display_name": "Python 3 (ipykernel)",
   "language": "python",
   "name": "python3"
  },
  "language_info": {
   "codemirror_mode": {
    "name": "ipython",
    "version": 3
   },
   "file_extension": ".py",
   "mimetype": "text/x-python",
   "name": "python",
   "nbconvert_exporter": "python",
   "pygments_lexer": "ipython3",
   "version": "3.9.15"
  }
 },
 "nbformat": 4,
 "nbformat_minor": 5
}
