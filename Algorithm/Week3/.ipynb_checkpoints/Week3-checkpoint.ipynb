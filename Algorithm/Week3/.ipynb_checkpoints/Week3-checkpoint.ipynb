{
 "cells": [
  {
   "cell_type": "markdown",
   "id": "219b2ae4",
   "metadata": {},
   "source": [
    "## 문제 1. 숫자카드"
   ]
  },
  {
   "cell_type": "code",
   "execution_count": 44,
   "id": "abe0bebe",
   "metadata": {},
   "outputs": [
    {
     "name": "stdout",
     "output_type": "stream",
     "text": [
      "10 500\n",
      "93 181 245 214 315 36 185 138 216 295\n",
      "497\n"
     ]
    }
   ],
   "source": [
    "# 내가 푼 답\n",
    "\n",
    "from itertools import combinations\n",
    "\n",
    "n, m = map(int, input().split())\n",
    "num_list = list(map(int, input().split()))\n",
    "c = list(combinations(num_list, 3))\n",
    "c_list = []\n",
    "for i in range(len(c)):\n",
    "    c_list.append(sum(c[i]))\n",
    "c_list.append(m)\n",
    "c_list.sort()\n",
    "\n",
    "if c_list.count(m) >= 2:\n",
    "    print(m)\n",
    "else:\n",
    "    print(c_list[c_list.index(m)-1])"
   ]
  },
  {
   "cell_type": "markdown",
   "id": "bba2704e",
   "metadata": {},
   "source": [
    "## 문제 2. 방탈출 게임"
   ]
  },
  {
   "cell_type": "code",
   "execution_count": 252,
   "id": "0247ba9a",
   "metadata": {},
   "outputs": [
    {
     "name": "stdout",
     "output_type": "stream",
     "text": [
      "011\n",
      "2\n"
     ]
    }
   ],
   "source": [
    "# 내가 푼 답(문자열로 안받고 int로 받아야 올 pass 뜸)\n",
    "\n",
    "from itertools import permutations\n",
    "import math\n",
    "\n",
    "'''\n",
    "cards = list(input())[1:-1]\n",
    "card_list = list(map(int, cards))\n",
    "'''\n",
    "\n",
    "card_list = list(map(int, input()))\n",
    "\n",
    "p_list = []\n",
    "for i in range(1,len(card_list)+1):\n",
    "    p_list += list(permutations(card_list, i))\n",
    "for i in range(len(p_list)):\n",
    "    p_list[i] = int(\"\".join(map(str, p_list[i])))\n",
    "result = list(set(p_list))\n",
    "\n",
    "prime_list = []\n",
    "\n",
    "def prime_number(x):\n",
    "    for i in range(2, int(math.sqrt(x)) + 1):\n",
    "        if x % i == 0:\n",
    "            return 0\n",
    "    return x\n",
    "\n",
    "for i in range(len(result)):\n",
    "    prime_list.append(prime_number(result[i]))\n",
    "prime_result = list(set(prime_list))\n",
    "\n",
    "if (0 in prime_result) + (1 in prime_result) == 2:\n",
    "    print(len(prime_result)-2)\n",
    "elif (0 in prime_result) + (1 in prime_result) == 1:\n",
    "    print(len(prime_result)-1)\n",
    "else: \n",
    "    print(len(prime_result))"
   ]
  },
  {
   "cell_type": "markdown",
   "id": "a87cf447",
   "metadata": {},
   "source": [
    "## 문제 3. 티셔츠 갈아입기 게임"
   ]
  },
  {
   "cell_type": "code",
   "execution_count": null,
   "id": "cec85b04",
   "metadata": {},
   "outputs": [],
   "source": []
  },
  {
   "cell_type": "markdown",
   "id": "ed3789d4",
   "metadata": {},
   "source": [
    "## 문제 4. 일곱 투빅이들"
   ]
  },
  {
   "cell_type": "code",
   "execution_count": null,
   "id": "13803351",
   "metadata": {},
   "outputs": [],
   "source": []
  },
  {
   "cell_type": "markdown",
   "id": "d5b7c5ef",
   "metadata": {},
   "source": [
    "## 문제 5. 단어 분할"
   ]
  },
  {
   "cell_type": "code",
   "execution_count": null,
   "id": "a74d3796",
   "metadata": {},
   "outputs": [],
   "source": []
  }
 ],
 "metadata": {
  "kernelspec": {
   "display_name": "Python 3 (ipykernel)",
   "language": "python",
   "name": "python3"
  },
  "language_info": {
   "codemirror_mode": {
    "name": "ipython",
    "version": 3
   },
   "file_extension": ".py",
   "mimetype": "text/x-python",
   "name": "python",
   "nbconvert_exporter": "python",
   "pygments_lexer": "ipython3",
   "version": "3.9.15"
  }
 },
 "nbformat": 4,
 "nbformat_minor": 5
}
