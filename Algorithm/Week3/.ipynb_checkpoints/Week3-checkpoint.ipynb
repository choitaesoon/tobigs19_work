{
 "cells": [
  {
   "cell_type": "markdown",
   "id": "219b2ae4",
   "metadata": {},
   "source": [
    "## 문제 1. 숫자카드"
   ]
  },
  {
   "cell_type": "code",
   "execution_count": 44,
   "id": "abe0bebe",
   "metadata": {},
   "outputs": [
    {
     "name": "stdout",
     "output_type": "stream",
     "text": [
      "10 500\n",
      "93 181 245 214 315 36 185 138 216 295\n",
      "497\n"
     ]
    }
   ],
   "source": [
    "from itertools import combinations\n",
    "\n",
    "n, m = map(int, input().split())\n",
    "num_list = list(map(int, input().split()))\n",
    "c = list(combinations(num_list, 3))\n",
    "c_list = []\n",
    "for i in range(len(c)):\n",
    "    c_list.append(sum(c[i]))\n",
    "c_list.append(m)\n",
    "c_list.sort()\n",
    "\n",
    "if c_list.count(m) >= 2:\n",
    "    print(m)\n",
    "else:\n",
    "    print(c_list[c_list.index(m)-1])"
   ]
  },
  {
   "cell_type": "markdown",
   "id": "bba2704e",
   "metadata": {},
   "source": [
    "## 문제 2. 방탈출 게임"
   ]
  },
  {
   "cell_type": "code",
   "execution_count": 18,
   "id": "d1ba56ad",
   "metadata": {},
   "outputs": [
    {
     "data": {
      "text/plain": [
       "3"
      ]
     },
     "execution_count": 18,
     "metadata": {},
     "output_type": "execute_result"
    }
   ],
   "source": [
    "from itertools import permutations\n",
    "import math\n",
    "\n",
    "def solution(numbers):\n",
    "    \n",
    "    card_list = list(map(int, numbers))\n",
    "\n",
    "    p_list = []\n",
    "    for i in range(1,len(card_list)+1):\n",
    "        p_list += list(permutations(card_list, i))\n",
    "    for i in range(len(p_list)):\n",
    "        p_list[i] = int(\"\".join(map(str, p_list[i])))\n",
    "    result = list(set(p_list))\n",
    "\n",
    "    prime_list = []\n",
    "\n",
    "    def prime_number(x):\n",
    "        for i in range(2, int(math.sqrt(x)) + 1):\n",
    "            if x % i == 0:\n",
    "                return 0\n",
    "        return x\n",
    "\n",
    "    for i in range(len(result)):\n",
    "        prime_list.append(prime_number(result[i]))\n",
    "    prime_result = list(set(prime_list))\n",
    "\n",
    "    if (0 in prime_result) + (1 in prime_result) == 2:\n",
    "        return len(prime_result)-2\n",
    "    elif (0 in prime_result) + (1 in prime_result) == 1:\n",
    "        return len(prime_result)-1\n",
    "    else: \n",
    "        return len(prime_result)\n",
    "    \n",
    "solution(\"17\")"
   ]
  },
  {
   "cell_type": "markdown",
   "id": "a87cf447",
   "metadata": {},
   "source": [
    "## 문제 3. 티셔츠 갈아입기 게임"
   ]
  },
  {
   "cell_type": "code",
   "execution_count": 302,
   "id": "309074d0",
   "metadata": {},
   "outputs": [
    {
     "name": "stdout",
     "output_type": "stream",
     "text": [
      "10 13\n",
      "BBBBBBBBWBWBW\n",
      "BBBBBBBBBWBWB\n",
      "BBBBBBBBWBWBW\n",
      "BBBBBBBBBWBWB\n",
      "BBBBBBBBWBWBW\n",
      "BBBBBBBBBWBWB\n",
      "BBBBBBBBWBWBW\n",
      "BBBBBBBBBWBWB\n",
      "WWWWWWWWWWBWB\n",
      "WWWWWWWWWWBWB\n",
      "12\n"
     ]
    }
   ],
   "source": [
    "m, n = map(int, input().split())\n",
    "t_list = []\n",
    "for _ in range(m):\n",
    "    t_list.append(list(map(str, input())))\n",
    "\n",
    "def count_number(li_1, li_2):\n",
    "    counting = 0\n",
    "    for i in range(len(li_1)):\n",
    "        if li_1[i] == li_2[i]:\n",
    "            counting += 1\n",
    "    return counting\n",
    "\n",
    "counting_n = []\n",
    "for i in range(m-7):\n",
    "    for j in range(n-7):\n",
    "        list1 = ['W','B','W','B','W','B','W','B'] # 투빅스 문제에선 W가 아니라 R이지만\n",
    "        list2 = ['B','W','B','W','B','W','B','W'] # 백준에서는 W로 써야함.\n",
    "        com_list1 = sum([list1,list2,list1,list2,list1,list2,list1,list2], [])\n",
    "        com_list2 = sum([list2,list1,list2,list1,list2,list1,list2,list1], [])\n",
    "        com_n = []\n",
    "        for k in range(i, i+8):\n",
    "            for l in range(j, j+8):\n",
    "                com_n.append(t_list[k][l])\n",
    "                num_value = min(count_number(com_n,com_list1),count_number(com_n,com_list2))\n",
    "        counting_n.append(num_value)\n",
    "print(min(counting_n))"
   ]
  },
  {
   "cell_type": "markdown",
   "id": "b9aa79f6",
   "metadata": {},
   "source": [
    "## 문제 4. 일곱 투빅이들"
   ]
  },
  {
   "cell_type": "code",
   "execution_count": 9,
   "id": "04f4cdde",
   "metadata": {},
   "outputs": [
    {
     "data": {
      "text/plain": [
       "(20, 7, 23, 19, 10, 8, 13)"
      ]
     },
     "execution_count": 9,
     "metadata": {},
     "output_type": "execute_result"
    }
   ],
   "source": [
    "from itertools import combinations\n",
    "\n",
    "tall_list = []\n",
    "for _ in range(9):\n",
    "    tall = int(input())\n",
    "    tall_list.append(tall)\n",
    "com_tall = list(combinations(tall_list, 7))\n",
    "\n",
    "result = []\n",
    "for i in com_tall:\n",
    "    result.append(sum(i))\n",
    "    if sum(i) == 100: # 투빅스 문제에서는 합이 1000이지만 백준에서는 100임.\n",
    "        break\n",
    "\n",
    "sorted_list = list(com_tall[len(result)-1])\n",
    "sorted_list.sort()\n",
    "\n",
    "for j in range(len(sorted_list)):\n",
    "    print(sorted_list[j])"
   ]
  },
  {
   "cell_type": "markdown",
   "id": "d5b7c5ef",
   "metadata": {},
   "source": [
    "## 문제 5. 단어 분할"
   ]
  },
  {
   "cell_type": "code",
   "execution_count": 12,
   "id": "7feba39f",
   "metadata": {},
   "outputs": [
    {
     "name": "stdout",
     "output_type": "stream",
     "text": [
      "computer\n",
      "cetupmor\n"
     ]
    }
   ],
   "source": [
    "answer = input()\n",
    "words = []\n",
    "for i in range(1, len(answer)-1):\n",
    "    for j in range(i+1, len(answer)):\n",
    "        word = answer[:i][::-1] + answer[i:j][::-1] + answer[j:][::-1]\n",
    "        words.append(word)\n",
    "print(min(words))"
   ]
  }
 ],
 "metadata": {
  "kernelspec": {
   "display_name": "Python 3 (ipykernel)",
   "language": "python",
   "name": "python3"
  },
  "language_info": {
   "codemirror_mode": {
    "name": "ipython",
    "version": 3
   },
   "file_extension": ".py",
   "mimetype": "text/x-python",
   "name": "python",
   "nbconvert_exporter": "python",
   "pygments_lexer": "ipython3",
   "version": "3.9.15"
  }
 },
 "nbformat": 4,
 "nbformat_minor": 5
}
