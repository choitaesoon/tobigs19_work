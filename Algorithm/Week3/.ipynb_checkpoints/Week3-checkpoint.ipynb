{
 "cells": [
  {
   "cell_type": "markdown",
   "id": "219b2ae4",
   "metadata": {},
   "source": [
    "## 문제 1. 숫자카드"
   ]
  },
  {
   "cell_type": "code",
   "execution_count": 44,
   "id": "abe0bebe",
   "metadata": {},
   "outputs": [
    {
     "name": "stdout",
     "output_type": "stream",
     "text": [
      "10 500\n",
      "93 181 245 214 315 36 185 138 216 295\n",
      "497\n"
     ]
    }
   ],
   "source": [
    "# 내가 푼 답\n",
    "\n",
    "from itertools import combinations\n",
    "\n",
    "n, m = map(int, input().split())\n",
    "num_list = list(map(int, input().split()))\n",
    "c = list(combinations(num_list, 3))\n",
    "c_list = []\n",
    "for i in range(len(c)):\n",
    "    c_list.append(sum(c[i]))\n",
    "c_list.append(m)\n",
    "c_list.sort()\n",
    "\n",
    "if c_list.count(m) >= 2:\n",
    "    print(m)\n",
    "else:\n",
    "    print(c_list[c_list.index(m)-1])"
   ]
  },
  {
   "cell_type": "markdown",
   "id": "bba2704e",
   "metadata": {},
   "source": [
    "## 문제 2. 방탈출 게임"
   ]
  },
  {
   "cell_type": "code",
   "execution_count": 252,
   "id": "0247ba9a",
   "metadata": {},
   "outputs": [
    {
     "name": "stdout",
     "output_type": "stream",
     "text": [
      "011\n",
      "2\n"
     ]
    }
   ],
   "source": [
    "# 내가 푼 답(문자열로 안받고 int로 받아야 올 pass 뜸)\n",
    "\n",
    "from itertools import permutations\n",
    "import math\n",
    "\n",
    "'''\n",
    "cards = list(input())[1:-1]\n",
    "card_list = list(map(int, cards))\n",
    "'''\n",
    "\n",
    "card_list = list(map(int, input()))\n",
    "\n",
    "p_list = []\n",
    "for i in range(1,len(card_list)+1):\n",
    "    p_list += list(permutations(card_list, i))\n",
    "for i in range(len(p_list)):\n",
    "    p_list[i] = int(\"\".join(map(str, p_list[i])))\n",
    "result = list(set(p_list))\n",
    "\n",
    "prime_list = []\n",
    "\n",
    "def prime_number(x):\n",
    "    for i in range(2, int(math.sqrt(x)) + 1):\n",
    "        if x % i == 0:\n",
    "            return 0\n",
    "    return x\n",
    "\n",
    "for i in range(len(result)):\n",
    "    prime_list.append(prime_number(result[i]))\n",
    "prime_result = list(set(prime_list))\n",
    "\n",
    "if (0 in prime_result) + (1 in prime_result) == 2:\n",
    "    print(len(prime_result)-2)\n",
    "elif (0 in prime_result) + (1 in prime_result) == 1:\n",
    "    print(len(prime_result)-1)\n",
    "else: \n",
    "    print(len(prime_result))"
   ]
  },
  {
   "cell_type": "markdown",
   "id": "a87cf447",
   "metadata": {},
   "source": [
    "## 문제 3. 티셔츠 갈아입기 게임"
   ]
  },
  {
   "cell_type": "code",
   "execution_count": 248,
   "id": "cec85b04",
   "metadata": {},
   "outputs": [
    {
     "name": "stdout",
     "output_type": "stream",
     "text": [
      "11 12\n",
      "BWWBWWBWWBWW\n",
      "BWWBWBBWWBWW\n",
      "WBWWBWBBWWBW\n",
      "BWWBWBBWWBWW\n",
      "WBWWBWBBWWBW\n",
      "BWWBWBBWWBWW\n",
      "WBWWBWBBWWBW\n",
      "BWWBWBWWWBWW\n",
      "WBWWBWBBWWBW\n",
      "BWWBWBBWWBWW\n",
      "WBWWBWBBWWBW\n"
     ]
    },
    {
     "data": {
      "text/plain": [
       "15"
      ]
     },
     "execution_count": 248,
     "metadata": {},
     "output_type": "execute_result"
    }
   ],
   "source": [
    "# 처음 푼 답 (틀린 이유 모름)\n",
    "\n",
    "import numpy as np\n",
    "from itertools import product\n",
    "\n",
    "m, n = map(int, input().split())\n",
    "t_list = []\n",
    "num = m\n",
    "while num > 0:\n",
    "    t_list.append(list(map(str, input())))\n",
    "    num -= 1  \n",
    "\n",
    "t = sum(t_list, [])\n",
    "\n",
    "for index, value in enumerate(t):\n",
    "    if value == 'W':\n",
    "        t[index] = 1\n",
    "    else:\n",
    "        t[index] = 0\n",
    "t = np.array(t)\n",
    "b = t.reshape(m,n)\n",
    "com_n = list(product(list(range(m-7)), list(range(n-7))))\n",
    "\n",
    "count = []\n",
    "for i in com_n:\n",
    "    new_arr = b[i[0]:i[0]+8,i[1]:i[1]+8]\n",
    "    new_arr_list = sum(new_arr.tolist(), [])\n",
    "    list1 = [1,0,1,0,1,0,1,0]\n",
    "    list2 = [0,1,0,1,0,1,0,1]\n",
    "    com_list1 = sum([list1,list2,list1,list2,list1,list2,list1,list2], [])\n",
    "    com_list2 = sum([list2,list1,list2,list1,list2,list1,list2,list1], [])\n",
    "    num_value = min(sum(np.equal(new_arr_list, com_list1)), sum(np.equal(new_arr_list, com_list2)))\n",
    "    count.append(num_value)\n",
    "min(count)"
   ]
  },
  {
   "cell_type": "code",
   "execution_count": 269,
   "id": "1506ace8",
   "metadata": {},
   "outputs": [
    {
     "name": "stdout",
     "output_type": "stream",
     "text": [
      "9 23\n",
      "BBBBBBBBBBBBBBBBBBBBBBB\n",
      "BBBBBBBBBBBBBBBBBBBBBBB\n",
      "BBBBBBBBBBBBBBBBBBBBBBB\n",
      "BBBBBBBBBBBBBBBBBBBBBBB\n",
      "BBBBBBBBBBBBBBBBBBBBBBB\n",
      "BBBBBBBBBBBBBBBBBBBBBBB\n",
      "BBBBBBBBBBBBBBBBBBBBBBB\n",
      "BBBBBBBBBBBBBBBBBBBBBBB\n",
      "BBBBBBBBBBBBBBBBBBBBBBW\n"
     ]
    },
    {
     "data": {
      "text/plain": [
       "31"
      ]
     },
     "execution_count": 269,
     "metadata": {},
     "output_type": "execute_result"
    }
   ],
   "source": [
    "# 두 번째 푼 답(틀린 이유 모름)\n",
    "\n",
    "m, n = map(int, input().split())\n",
    "t_list = []\n",
    "for _ in range(m):\n",
    "    t_list.append(list(map(str, input())))\n",
    "t = np.array(sum(t_list, [])).reshape(m,n)\n",
    "\n",
    "com_n = []\n",
    "for i in range(m-7):\n",
    "    for j in range(n-7):\n",
    "        com_n.append([i,j])\n",
    "\n",
    "def count_number(li_1, li_2):\n",
    "    counting = 0\n",
    "    for i in range(len(li_1)):\n",
    "        if li_1[i] == li_2[i]:\n",
    "            counting += 1\n",
    "    return counting\n",
    "\n",
    "count = []\n",
    "for i in com_n:\n",
    "    new_arr = t[i[0]:i[0]+8,i[1]:i[1]+8]\n",
    "    new_arr_list = sum(new_arr.tolist(), [])\n",
    "    list1 = ['W','B','W','B','W','B','W','B']\n",
    "    list2 = ['B','W','B','W','B','W','B','W']\n",
    "    com_list1 = sum([list1,list2,list1,list2,list1,list2,list1,list2], [])\n",
    "    com_list2 = sum([list2,list1,list2,list1,list2,list1,list2,list1], [])\n",
    "    num_value = min(count_number(new_arr_list,com_list1),count_number(new_arr_list,com_list2))\n",
    "    count.append(num_value)\n",
    "min(count)"
   ]
  },
  {
   "cell_type": "code",
   "execution_count": 302,
   "id": "309074d0",
   "metadata": {},
   "outputs": [
    {
     "name": "stdout",
     "output_type": "stream",
     "text": [
      "10 13\n",
      "BBBBBBBBWBWBW\n",
      "BBBBBBBBBWBWB\n",
      "BBBBBBBBWBWBW\n",
      "BBBBBBBBBWBWB\n",
      "BBBBBBBBWBWBW\n",
      "BBBBBBBBBWBWB\n",
      "BBBBBBBBWBWBW\n",
      "BBBBBBBBBWBWB\n",
      "WWWWWWWWWWBWB\n",
      "WWWWWWWWWWBWB\n",
      "12\n"
     ]
    }
   ],
   "source": [
    "# 최종 답\n",
    "\n",
    "m, n = map(int, input().split())\n",
    "t_list = []\n",
    "for _ in range(m):\n",
    "    t_list.append(list(map(str, input())))\n",
    "\n",
    "def count_number(li_1, li_2):\n",
    "    counting = 0\n",
    "    for i in range(len(li_1)):\n",
    "        if li_1[i] == li_2[i]:\n",
    "            counting += 1\n",
    "    return counting\n",
    "\n",
    "counting_n = []\n",
    "for i in range(m-7):\n",
    "    for j in range(n-7):\n",
    "        list1 = ['R','B','R','B','R','B','R','B']\n",
    "        list2 = ['B','R','B','R','B','R','B','R']\n",
    "        com_list1 = sum([list1,list2,list1,list2,list1,list2,list1,list2], [])\n",
    "        com_list2 = sum([list2,list1,list2,list1,list2,list1,list2,list1], [])\n",
    "        com_n = []\n",
    "        for k in range(i, i+8):\n",
    "            for l in range(j, j+8):\n",
    "                com_n.append(t_list[k][l])\n",
    "                num_value = min(count_number(com_n,com_list1),count_number(com_n,com_list2))\n",
    "        counting_n.append(num_value)\n",
    "print(min(counting_n))"
   ]
  },
  {
   "cell_type": "markdown",
   "id": "b9aa79f6",
   "metadata": {},
   "source": [
    "## 문제 4. 일곱 투빅이들"
   ]
  },
  {
   "cell_type": "code",
   "execution_count": 167,
   "id": "22e80610",
   "metadata": {},
   "outputs": [
    {
     "name": "stdout",
     "output_type": "stream",
     "text": [
      "200\n",
      "70\n",
      "230\n",
      "190\n",
      "100\n",
      "150\n",
      "250\n",
      "80\n",
      "130\n",
      "70\n",
      "80\n",
      "100\n",
      "130\n",
      "190\n",
      "200\n"
     ]
    }
   ],
   "source": [
    "# 내가 푼 답\n",
    "\n",
    "from itertools import combinations\n",
    "\n",
    "n = 0\n",
    "tall_list = []\n",
    "while n < 9:\n",
    "    tall = int(input())\n",
    "    tall_list.append(tall)\n",
    "    n += 1\n",
    "com_tall = list(combinations(tall_list, 7))\n",
    "\n",
    "sum_list = []\n",
    "for i in range(len(com_tall)-1):\n",
    "    sum_list.append(sum(com_tall[i]))\n",
    "\n",
    "sorted_list = list(com_tall[sum_list.index(1000)])\n",
    "sorted_list.sort()\n",
    "\n",
    "for j in range(len(sorted_list)):\n",
    "    print(sorted_list[j])"
   ]
  },
  {
   "cell_type": "markdown",
   "id": "d5b7c5ef",
   "metadata": {},
   "source": [
    "## 문제 5. 단어 분할"
   ]
  },
  {
   "cell_type": "code",
   "execution_count": 229,
   "id": "2f8f2605",
   "metadata": {},
   "outputs": [
    {
     "name": "stdout",
     "output_type": "stream",
     "text": [
      "strcmp\n",
      "crtsmp\n"
     ]
    }
   ],
   "source": [
    "# 내가 처음에 푼 답\n",
    "\n",
    "from itertools import combinations\n",
    "\n",
    "a = list(input())\n",
    "com_list = list(combinations(list(np.arange(len(a)-1)),2))\n",
    "\n",
    "words = []\n",
    "for i in range(len(com_list)):\n",
    "    word = ''.join([''.join(a[:com_list[i][0]+1][::-1]), ''.join(a[com_list[i][0]+1:com_list[i][1]+1][::-1]), ''.join(a[com_list[i][1]+1:][::-1])])\n",
    "    words.append(word)\n",
    "\n",
    "print(sorted(words)[0])"
   ]
  },
  {
   "cell_type": "code",
   "execution_count": 12,
   "id": "7feba39f",
   "metadata": {},
   "outputs": [
    {
     "name": "stdout",
     "output_type": "stream",
     "text": [
      "computer\n",
      "cetupmor\n"
     ]
    }
   ],
   "source": [
    "# 수정한 답\n",
    "\n",
    "answer = input()\n",
    "words = []\n",
    "for i in range(1, len(answer)-1):\n",
    "    for j in range(i+1, len(answer)):\n",
    "        word = answer[:i][::-1] + answer[i:j][::-1] + answer[j:][::-1]\n",
    "        words.append(word)\n",
    "print(min(words))"
   ]
  }
 ],
 "metadata": {
  "kernelspec": {
   "display_name": "Python 3 (ipykernel)",
   "language": "python",
   "name": "python3"
  },
  "language_info": {
   "codemirror_mode": {
    "name": "ipython",
    "version": 3
   },
   "file_extension": ".py",
   "mimetype": "text/x-python",
   "name": "python",
   "nbconvert_exporter": "python",
   "pygments_lexer": "ipython3",
   "version": "3.9.15"
  }
 },
 "nbformat": 4,
 "nbformat_minor": 5
}
