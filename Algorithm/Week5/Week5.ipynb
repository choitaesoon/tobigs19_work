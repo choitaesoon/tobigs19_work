{
 "cells": [
  {
   "cell_type": "markdown",
   "id": "65786228",
   "metadata": {},
   "source": [
    "# 1,2,3 더하기 (백준 9095)"
   ]
  },
  {
   "cell_type": "code",
   "execution_count": 19,
   "id": "857f23e3",
   "metadata": {},
   "outputs": [
    {
     "name": "stdout",
     "output_type": "stream",
     "text": [
      "3\n",
      "4\n",
      "7\n",
      "7\n",
      "44\n",
      "10\n",
      "274\n"
     ]
    }
   ],
   "source": [
    "def num_plus(a):\n",
    "    if a == 1:\n",
    "        return 1\n",
    "    elif a == 2:\n",
    "        return 2\n",
    "    elif a == 3:\n",
    "        return 4\n",
    "    else :\n",
    "        return num_plus(a-1) + num_plus(a-2) + num_plus(a-3)\n",
    "\n",
    "for i in range(int(input())):\n",
    "    n = int(input())\n",
    "    print(num_plus(n))"
   ]
  },
  {
   "cell_type": "markdown",
   "id": "8ff356ae",
   "metadata": {},
   "source": [
    "# 1로 만들기 (백준 1463)"
   ]
  },
  {
   "cell_type": "code",
   "execution_count": 44,
   "id": "afc344c6",
   "metadata": {},
   "outputs": [
    {
     "name": "stdout",
     "output_type": "stream",
     "text": [
      "28\n"
     ]
    },
    {
     "data": {
      "text/plain": [
       "5"
      ]
     },
     "execution_count": 44,
     "metadata": {},
     "output_type": "execute_result"
    }
   ],
   "source": [
    "# 처음에 단순히 3으로 나누는경우, 2로 나누는 경우, -1의 경우에 대해서 count를 하면 정답일 줄 알았음.\n",
    "# 하지만 오답이 나와서 다른 방법으로 접근해봄.\n",
    "\n",
    "n = int(input())\n",
    "count = 0\n",
    "while True:\n",
    "    if n % 3 == 0:\n",
    "        n = n // 3\n",
    "        count += 1\n",
    "    elif (n % 3 != 0) & (n % 2 == 0):\n",
    "        n = n // 2\n",
    "        count += 1\n",
    "    elif n == 1:\n",
    "        break\n",
    "    else:\n",
    "        n -= 1\n",
    "        count += 1\n",
    "count"
   ]
  },
  {
   "cell_type": "code",
   "execution_count": null,
   "id": "bb4283ec",
   "metadata": {},
   "outputs": [],
   "source": [
    "# 재귀의 방법을 최대한 활용하여 생각함.\n",
    "# n이라는 수가 있으면 그 3가지 방법을 이용한 n/3, n/2, n-1 중 마찬가지로 최소의 경우가 선택되고 그렇게 계속 반복해 내려가는 과정임.\n",
    "# 그리고 3가지 방법을 선택하며 1로 가는 과정이므로 반대로 1부터 3가지 과정에 맞게 올라간다고 봐도 무방."
   ]
  },
  {
   "cell_type": "code",
   "execution_count": 49,
   "id": "a9ed26f2",
   "metadata": {},
   "outputs": [
    {
     "name": "stdout",
     "output_type": "stream",
     "text": [
      "10\n",
      "3\n"
     ]
    }
   ],
   "source": [
    "n = int(input())\n",
    "dp = [0 for _ in range(n+1)] # n 까지의 최소 숫자를 기록할 리스트 작성\n",
    "\n",
    "for i in range(2, n+1): # n까지의 최소 수를 찾는 과정을 오름차순으로 찾아내는 for 문\n",
    "    dp[i] = dp[i-1] + 1 # i보다 1 작은 수의 최소 수에 1을 더해준 값(3가지 방법중 1을 빼는 방법)\n",
    "    \n",
    "    if i % 2 == 0: # 2로 나누어지는 경우\n",
    "        dp[i] = min(dp[i], dp[i // 2]+1)\n",
    "        # 위에서 기본으로 고정한 dp[i-1]+1과 i를 2로 나눈 수가 가진 최소 수에 1을 더해준 값을 비교해 최소값으로 i번째 최소값 설정\n",
    "    if i % 3 == 0: # 3로 나누어지는 경우\n",
    "        dp[i] = min(dp[i], dp[i // 3]+1)\n",
    "        # 위에서 기본으로 고정한 dp[i-1]+1과 i를 3로 나눈 수가 가진 최소 수에 1을 더해준 값을 비교해 최소값으로 i번째 최소값 설정\n",
    "print(dp[n])"
   ]
  },
  {
   "cell_type": "markdown",
   "id": "4fc8e23b",
   "metadata": {},
   "source": [
    "# 계단 오르기 (백준 2579)"
   ]
  },
  {
   "cell_type": "code",
   "execution_count": 62,
   "id": "189f7d3c",
   "metadata": {},
   "outputs": [
    {
     "name": "stdout",
     "output_type": "stream",
     "text": [
      "5\n",
      "10\n",
      "20\n",
      "2\n",
      "1\n",
      "5\n",
      "35\n"
     ]
    }
   ],
   "source": [
    "n = int(input())\n",
    "n_list = [int(input()) for i in range(n)]\n",
    "dp = [0 for _ in range(len(n_list))]\n",
    "\n",
    "if n == 1:\n",
    "    print(n_list[0])\n",
    "else:\n",
    "    dp[0] = n_list[0]\n",
    "    dp[1] = n_list[0]+n_list[1]\n",
    "    for i in range(2,n):\n",
    "        dp[i] = max(dp[i-3]+n_list[i-1]+n_list[i], dp[i-2]+n_list[i]) \n",
    "        # 계단이 연속된 세개의 계단을 밟을 수 없기 때문에 \n",
    "        # 3번째 전 계단의 값에서 한칸 건너뛴 값과 해당 값을 더해준 값(ex. 1 2 3 4 5이면 5번째 계단에 대해서 2번째 계단과 한칸 건너뛴 4번째 계단, 5번째 계단을 더해준 값이 해당 값이 된다.)\n",
    "        # 그리고 2번째 전 계단의 값에서 한칸 건너뛴 해당 값을 더해준 값(ex. 1 2 3 4 5이면 5번째 계단에 대해서 3번째 계단과 한칸 건너뛴 5번째 계단을 더해준 값이 해당 값이 된다.)\n",
    "        # 두가지 경우 중 더 큰 값이 최종 해당 층의 계단이 된다.\n",
    "    print(dp.pop())"
   ]
  },
  {
   "cell_type": "markdown",
   "id": "a01fbc78",
   "metadata": {},
   "source": [
    "# 포도주 시식 (백준 2156)"
   ]
  },
  {
   "cell_type": "code",
   "execution_count": 12,
   "id": "c7a930f8",
   "metadata": {},
   "outputs": [
    {
     "name": "stdout",
     "output_type": "stream",
     "text": [
      "3\n",
      "10\n",
      "2\n",
      "13\n",
      "23\n"
     ]
    }
   ],
   "source": [
    "# 문제 푸는 방식이 계단오르기와 아주 유사했음.\n",
    "# 하지만 가장 큰 차이점은 계단오르기의 경우는 마지막을 반드시 밟아야 하지만 포도주 문제는 그럴 필요가 없음.\n",
    "# 따라서 마지막 for문에서 max(dp), 즉 이전까지 중 최대 값이 i번째 max값이라고 생각하여 풀었음.\n",
    "\n",
    "\n",
    "n = int(input())\n",
    "n_list = [int(input()) for i in range(n)]\n",
    "dp = [0 for _ in range(len(n_list))]\n",
    "\n",
    "if n == 1:\n",
    "    print(n_list[0])\n",
    "else:\n",
    "    dp[0] = n_list[0]\n",
    "    dp[1] = n_list[0]+n_list[1]\n",
    "    for i in range(2,n):\n",
    "        dp[i] = max(dp[i-2]+n_list[i], dp[i-3]+n_list[i-1]+n_list[i], max(dp)) \n",
    "        # 여기서 max(dp)로 사용해도 무방하지만 i번째 최대 양을 구하는 과정에서 max(dp)와 비교하는 것은 결국 dp[i-1]과 비교하는 것과 동일.\n",
    "        # 왜냐하면 i-1번째까지의 최대 양을 의미해주기 때문.\n",
    "        # 그리고 이런 경우가 직접 코드를 돌렸을 때 훨씬 시간과 메모리가 적게 들었음.\n",
    "    print(dp.pop())"
   ]
  },
  {
   "cell_type": "markdown",
   "id": "cd5ef298",
   "metadata": {},
   "source": [
    "# 동전 1 (백준 2293)"
   ]
  },
  {
   "cell_type": "code",
   "execution_count": 17,
   "id": "b11a814d",
   "metadata": {},
   "outputs": [
    {
     "data": {
      "text/plain": [
       "[1, 1, 2, 2, 3, 4, 5, 6, 7, 8, 10]"
      ]
     },
     "execution_count": 17,
     "metadata": {},
     "output_type": "execute_result"
    }
   ],
   "source": [
    "n = 10\n",
    "n_list = [1,2,5]\n",
    "dp = [0 for _ in range(n+1)]\n",
    "dp[0] = 1\n",
    "for i in n_list:\n",
    "    for j in range(i, n+1):\n",
    "        if j-i >= 0:\n",
    "            dp[j] += dp[j-i]\n",
    "dp"
   ]
  },
  {
   "cell_type": "code",
   "execution_count": null,
   "id": "03ca8112",
   "metadata": {},
   "outputs": [],
   "source": []
  }
 ],
 "metadata": {
  "kernelspec": {
   "display_name": "Python 3 (ipykernel)",
   "language": "python",
   "name": "python3"
  },
  "language_info": {
   "codemirror_mode": {
    "name": "ipython",
    "version": 3
   },
   "file_extension": ".py",
   "mimetype": "text/x-python",
   "name": "python",
   "nbconvert_exporter": "python",
   "pygments_lexer": "ipython3",
   "version": "3.9.15"
  }
 },
 "nbformat": 4,
 "nbformat_minor": 5
}
