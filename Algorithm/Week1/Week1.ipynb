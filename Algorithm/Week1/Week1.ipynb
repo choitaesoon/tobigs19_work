{
 "cells": [
  {
   "cell_type": "markdown",
   "id": "4c707d92",
   "metadata": {},
   "source": [
    "## 문제 1. 승리카드"
   ]
  },
  {
   "cell_type": "code",
   "execution_count": null,
   "id": "163c06b1",
   "metadata": {},
   "outputs": [],
   "source": [
    "n ,m = map(int, input().split())\n",
    "\n",
    "result = []\n",
    "\n",
    "for i in range(n):\n",
    "  data = list(map(int, input().split()))\n",
    "  \n",
    "  min_value=10001\n",
    "  for a in data:\n",
    "    min_value = min(min_value, a)\n",
    "\n",
    "  result.append(min_value)\n",
    "\n",
    "print(max(result))"
   ]
  },
  {
   "cell_type": "markdown",
   "id": "a9d7d901",
   "metadata": {},
   "source": [
    "## 문제 2. 달팽이야 가자"
   ]
  },
  {
   "cell_type": "code",
   "execution_count": 81,
   "id": "927e92aa",
   "metadata": {},
   "outputs": [
    {
     "name": "stdout",
     "output_type": "stream",
     "text": [
      "5\n",
      "R R R U D D\n",
      "3 4\n"
     ]
    }
   ],
   "source": [
    "# 답안\n",
    "\n",
    "n = int(input())\n",
    "x, y = 1, 1\n",
    "plans = input().split()\n",
    "\n",
    "# L, R, U, D에 따른 이동 방향\n",
    "dx = [0, 0, -1, 1]\n",
    "dy = [-1, 1, 0, 0]\n",
    "move_types = ['L', 'R', 'U', 'D']\n",
    "\n",
    "# 이동 계획을 하나씩 확인\n",
    "for plan in plans:\n",
    "    # 이동 후 좌표 구하기\n",
    "    for i in range(len(move_types)):\n",
    "        if plan == move_types[i]:\n",
    "            nx = x + dx[i]\n",
    "            ny = y + dy[i]\n",
    "    # 공간을 벗어나는 경우 무시\n",
    "    if nx < 1 or ny < 1 or nx > n or ny > n:\n",
    "        continue\n",
    "    # 이동 수행\n",
    "    x, y = nx, ny\n",
    "\n",
    "print(x, y)"
   ]
  },
  {
   "cell_type": "code",
   "execution_count": 85,
   "id": "1a8ee40b",
   "metadata": {},
   "outputs": [
    {
     "name": "stdout",
     "output_type": "stream",
     "text": [
      "5\n",
      "R R R U D D\n",
      "3 4\n"
     ]
    }
   ],
   "source": [
    "n = int(input())\n",
    "\n",
    "data = list(input().split())\n",
    "output = [1,1]\n",
    "\n",
    "for i in data:\n",
    "  if i == 'R':\n",
    "    output = [x+y for x,y in zip(output, [0,1])]\n",
    "    if output[1] > n:\n",
    "      output = [x-y for x,y in zip(output, [0,1])]\n",
    "    else:\n",
    "        continue\n",
    "  elif i == 'L':\n",
    "    output = [x+y for x,y in zip(output, [0,-1])]\n",
    "    if output[1] == 0:\n",
    "      output = [x+y for x,y in zip(output, [0,1])]\n",
    "    else:\n",
    "        continue\n",
    "  elif i == 'U':\n",
    "    output = [x+y for x,y in zip(output, [-1,0])]\n",
    "    if output[0] == 0:\n",
    "      output = [x+y for x,y in zip(output, [1,0])]\n",
    "    else:\n",
    "        continue\n",
    "  elif i == 'D':\n",
    "    output = [x+y for x,y in zip(output, [1,0])]\n",
    "    if output[0] > n:\n",
    "      output = [x-y for x,y in zip(output, [1,0])]\n",
    "    else:\n",
    "        continue\n",
    "\n",
    "print(output[0], output[1])"
   ]
  },
  {
   "cell_type": "markdown",
   "id": "eaf14dce",
   "metadata": {},
   "source": [
    "## 문제 3. 가보자고"
   ]
  },
  {
   "cell_type": "code",
   "execution_count": 17,
   "id": "852a5c04",
   "metadata": {},
   "outputs": [
    {
     "name": "stdout",
     "output_type": "stream",
     "text": [
      "2 1 5\n",
      "4\n"
     ]
    }
   ],
   "source": [
    "# 안됨(이유는 모르겠음)\n",
    "u, d, h = map(int, input().split())\n",
    "\n",
    "count = 0\n",
    "start = 0\n",
    "\n",
    "while True:\n",
    "    if start < h:\n",
    "        start += u\n",
    "        if start >= h:\n",
    "            count += 1\n",
    "            break\n",
    "        else:\n",
    "            start -= d\n",
    "            count += 1\n",
    "    else:\n",
    "        count += 1\n",
    "        break\n",
    "print(count)"
   ]
  },
  {
   "cell_type": "code",
   "execution_count": null,
   "id": "7bf7ed76",
   "metadata": {},
   "outputs": [],
   "source": [
    "u, d, h = map(int, input().split())\n",
    "\n",
    "x = (h-d)/(u-d)   #올라간 층 x번, 내려온 층 (x-1)번 이므로 최상층 h = u*x+d*(x-1)를 x에 대해 정리.\n",
    "if x == int(x):\n",
    "    print(int(x))\n",
    "else:\n",
    "    print(int(x) + 1)"
   ]
  },
  {
   "cell_type": "markdown",
   "id": "e5451dff",
   "metadata": {},
   "source": [
    "## 문제 4. 숫자 바꾸기"
   ]
  },
  {
   "cell_type": "code",
   "execution_count": 8,
   "id": "509147fe",
   "metadata": {},
   "outputs": [
    {
     "name": "stdout",
     "output_type": "stream",
     "text": [
      "0001100\n"
     ]
    },
    {
     "data": {
      "text/plain": [
       "1"
      ]
     },
     "execution_count": 8,
     "metadata": {},
     "output_type": "execute_result"
    }
   ],
   "source": [
    "# 안됨(이유는 모르겠음)\n",
    "\n",
    "c = list(map(int, input()))\n",
    "list1 = []\n",
    "num = 0\n",
    "while num < len(c):\n",
    "    if num == 0:\n",
    "        list2 = []\n",
    "        list2.append(c[num])\n",
    "        num += 1\n",
    "    else:\n",
    "        if c[num] == c[num-1]:\n",
    "            list2.append(c[num])\n",
    "            num += 1\n",
    "        elif c[num] != c[num-1]:\n",
    "            list1.append(list2)\n",
    "            list2 = []\n",
    "            list2.append(c[num])\n",
    "            num += 1\n",
    "list1.append(list2)\n",
    "\n",
    "zero_list = [sum(i) for i in list1]\n",
    "zero_count = zero_list.count(0)\n",
    "one_count = len(zero_list)-zero_count\n",
    "\n",
    "min(zero_count, one_count)"
   ]
  },
  {
   "cell_type": "code",
   "execution_count": 15,
   "id": "f8652213",
   "metadata": {},
   "outputs": [
    {
     "name": "stdout",
     "output_type": "stream",
     "text": [
      "10101010111\n",
      "4\n"
     ]
    }
   ],
   "source": [
    "s = input()\n",
    "count = 0\n",
    "for i in range(len(s)-1):\n",
    "    if s[i] != s[i+1]:\n",
    "        count += 1\n",
    "if count%2 == 1:\n",
    "    print(int((count+1)/2))\n",
    "else:\n",
    "    print(int(count/2))"
   ]
  },
  {
   "cell_type": "markdown",
   "id": "79694afa",
   "metadata": {},
   "source": [
    "## 문제 5. 우영우수"
   ]
  },
  {
   "cell_type": "code",
   "execution_count": 77,
   "id": "b14d5f9d",
   "metadata": {},
   "outputs": [
    {
     "name": "stdout",
     "output_type": "stream",
     "text": [
      "121\n",
      "Yes\n",
      "12321\n",
      "Yes\n",
      "141\n",
      "Yes\n",
      "123456787654321\n",
      "Yes\n",
      "1401\n",
      "No\n",
      "0\n"
     ]
    }
   ],
   "source": [
    "while True:\n",
    "    num = int(input())\n",
    "    if num != 0:\n",
    "        str_num = str(num)\n",
    "        rev_num = str_num[::-1]\n",
    "        if str_num == rev_num:\n",
    "            print(\"Yes\")\n",
    "        else:\n",
    "            print(\"No\")\n",
    "    elif num == 0:\n",
    "        break   "
   ]
  }
 ],
 "metadata": {
  "kernelspec": {
   "display_name": "Python 3 (ipykernel)",
   "language": "python",
   "name": "python3"
  },
  "language_info": {
   "codemirror_mode": {
    "name": "ipython",
    "version": 3
   },
   "file_extension": ".py",
   "mimetype": "text/x-python",
   "name": "python",
   "nbconvert_exporter": "python",
   "pygments_lexer": "ipython3",
   "version": "3.9.15"
  }
 },
 "nbformat": 4,
 "nbformat_minor": 5
}
